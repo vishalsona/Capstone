{
 "cells": [
  {
   "cell_type": "markdown",
   "metadata": {},
   "source": [
    "## Part 2 - DonorsChoose.org Machine Learning ##\n",
    "In this **Machine Learning** part of the project, we will be developing predictive models. These models will predict if the application of project proposal to **DonorsChoose.org** is approved to be posted on the **DonorsChoose.org** website or not. We will also compare the models try to figure out which model has the better performace.<br>\n",
    "There are two steps involved in this part.\n",
    "   * __1) Feature Engineering:__Feature engineering is one of the most important and tricky process in machine learning. With the dataset we have numerical, categorical and text data. We will create some features with text data available in different files and columns and convert them into numerical values, categorical data will be engineered into numerical values as well. \n",
    "   * __2) Modeling:__ Once we are done with the feature engineering part the modeling will be much easier. We will choose one model from each of the **Linear, Naive Bayes and Decision Trees models** for classification. We will evaluate these models and comapre the models on their performance.\n",
    "\n",
    "We will come across some important terms and definitions through out this notebook. We will try to define and explain all the important terms and will post the link wherever needed. "
   ]
  },
  {
   "cell_type": "markdown",
   "metadata": {},
   "source": [
    "### Terms and Definitions ###\n",
    "**Imbalanced Dataset:** One of two classes is much more frequent then the other one. This is very common in practice; a good example for this is click-through prediction, where each data point represents an “impression”, an item that was shown to a user. This item might be an add, or a related story, or a related person to follow on a social media site. The goal is to predict whether, if shown a particular item, a user will click on it (indicating they are interested). Most thing users are shown on the internet (in particular, ads) will not result in a click. You might need to show a user 100 ads or articles before they find something interesting enough to click on. This results in a dataset where for each 99 “no click” data points, there is 1 “clicked” data point; in other words, 99% of the samples belong to the “no click” class. Datasets in which one class is much more frequent than the other are often called imbalanced dataset, or datasets with imbalanced classes. In our case most frequent class would be **project_is_approved(1).**\n",
    "\n",
    "There are  few techniques to handle the imbalanced data like:<br>\n",
    " 1) Up-sample the minority class<br>\n",
    " 2) Down-sample the majority class<br>\n",
    " 3) Change your performance metric<br>\n",
    " 4) Penalize algorithms (cost-sensitive training)<br>\n",
    " 5) Use tree-based algorithms<br>\n",
    " 6) SMOTE - Synthetic Minority Oversampling TEchnique (SMOTE)<br>\n",
    "We will be using the last one SMOTE. A very good detail explanation about the SMOTE has been given on the link https://www.jair.org/media/953/live-953-2037-jair.pdf\n",
    "    \n",
    "A very flexible strategy for cross validation is **shuffle-split cross-validation**. In shuffle-split cross-validation, each split samples train_size many points for the training set, and test_size many (disjoint) point for the test set. This splitting is repeated n_iter many times. Shuffle-split cross-validation allows for control over the the number of iterations independently of the training and test sizes, which can sometimes be helpful. It also allows for using only part of the data in each iteration, by providing train_size and test_size settings that don’t add up to one. Subsampling the data in this way can be useful for experimenting with large datasets. There is also a stratified variant of ShuffleSplit, aptly named **StratifiedShuffleSplit**, which can provide more reliable results for classification tasks.\n",
    "\n",
    "We cannot choose accuracy of the model as a performance measure for the **Binary Classification**. This Depends on application by application. For example imagine an application to screen for the early detection of cancer using an automated test. If the test is negative, the patient will be assumed healthy, while if the test is positive, the patient will undergo additional screening. Here, we would call a positive test (indication of cancer) the positive class, and a negative test the negative class. We can’t assume that our model will always work perfectly, and it will make mistakes. For any application, we need to ask ourselves what the consequence of these mistakes are in the real world. One possible mistake is that a healthy patient will be classified as positive, leading to additional testing. This leads to some costs and a slight inconvenience for the patient. Making an incorrect positive prediction is called a false positive. The other possible mistake is that a sick patient will be classified as negative, and will not receive further tests and treatment. The undiagnosed cancer might lead to serious health issues, and could even be fatal. Making a mistake of this kind, an incorrect negative prediction is called a false negative. In this particular example, it is clear that we want to avoid false negatives as much as possible, while false positives just create a minor nuisance. While this is a particularly drastic example, the consequence of false positives and false negatives are rarely the same. In commercial applications, it might be possible to assign dollar values to both kinds of mistakes, which would allow measuring the error of a particular prediction in dollars, instead of accuracy - which might be much more meaningful for making business decisions on which model to use.\n",
    "\n",
    "There are some good matrices which are used to measure the performaance of the classification problems. We will define those matrices.\n",
    "\n",
    "**Confusion matrices**<br>\n",
    "One of the most comprehensive ways to represent the result of evaluating binary classification is using confusion matrices. The output of confusion_matrix is a two by two array, where the rows correspond to the true classes, and the columns corresponds to the predicted classes. Each entry counts for how many data points in the class given by the row the prediction was the class given by the column.\n",
    "\n",
    "**Precision**<br>\n",
    "Precision is used as a performance metric when the goal is to limit the number of false positives. As an example, imagine a model to predict whether a new drug will be effective in treating a disease in clinical trials. Clinical trials are notoriously expensive, and a pharmaceutical company will only want to run an experiment if it is very sure\n",
    "that the predicted drugs will actually work. Therefore, it is important that the model does not produce many false positives, in other words, it has a high precision. Precision is also know as positive predictive value (PPV).\n",
    "\n",
    "**Recall**<br>\n",
    "Recall is used as performance metric when we need to identify all positive samples, that is when it is important to avoid false negatives. The cancer diagnosis example from the Section “Kinds of Errors” is a good example for this: it is important to find all people that are sick, possible including healthy patients in the prediction. Other\n",
    "names for recall are sensitivity, hit rate or true positive rate (TPR).\n",
    "\n",
    "**Note:** Precision and Recall are inversely proportional to each other. High precision means that an algorithm returned substantially more relevant results than irrelevant ones, while high recall means that an algorithm returned most of the relevant results.\n",
    "\n",
    "**f1-Score**<br>\n",
    "So while precision and recall are very important measures, looking at only one of them will not provide you with the full picture. One way to summarize them is the fscore or f-measure, which is the harmonic mean of precision and recall.\n",
    "\n",
    "If we want a more comprehensive summary of precision, recall and f1 score, we can use the **classification_report** convenience function to compute all three at once, and print them in a nice format.\n",
    "\n",
    "The confusion matrix and the classification report provide a very detailed analysis of a particular set of predictions. However, the predictions themselves already threw away a lot of information that is contained in the model. Most classifiers provide a __*decision_function*__ or a __*predict_proba*__ method to assess degrees of certainty about predictions. Making predictions can be seen as thresholding the output of decision_function or\n",
    "predict_proba at a certain fixed point - in binary classification zero for the decision function and 0.5 for predict_proba.\n",
    "\n",
    "**Precision-Recall curves and ROC curves**<br>\n",
    "Setting a requirement on a classifier like 90% recall is often called the operating point. Fixing an operating point is often helpful in business settings to make performance guarantees to customer or other groups inside your organization. Often, when developing a new model, it is not entirely clear what the operating point will be. For this reason, and to understand a modeling problem better, it is instructive to look at all possible thresholds, or all possible trade-offs of precision and recall at once. This is possible using a tool called the **precision-recall curve** or **PR-Curve**. The precision_recall_curve function returns a list of precision and recall values for all possible thresholds (all values that appear in the decision function) in sorted order.<br>\n",
    "There is another tool commonly used to analyze the behavior of classifiers at different thresholds: the **receiver operating characteristics curve**, or **ROC curve** for short. The ROC curve similarly considers all possible thresholds for a given classifier, but instead of reporting precision and recall, it shows the false positive rate FPR against the true positive rate TPR. Recall that the true positive rate is simply another name for recall, while the false positive rate is the fraction of false positives out of all negative samples.\n",
    "\n",
    "For more information on Precision and Recall please follow the below link.<br>\n",
    "https://en.wikipedia.org/wiki/Precision_and_recall\n",
    "\n",
    "Let's start by loading some libraries."
   ]
  },
  {
   "cell_type": "code",
   "execution_count": 3,
   "metadata": {},
   "outputs": [],
   "source": [
    "# General Libraries\n",
    "import pandas as pd\n",
    "import numpy as np\n",
    "import matplotlib.pyplot as plt\n",
    "import seaborn as sns\n",
    "import datetime\n",
    "\n",
    "# other miscellaneous libralies.\n",
    "from scipy.sparse import hstack, vstack, csr_matrix\n",
    "from sklearn.preprocessing import LabelEncoder\n",
    "import warnings\n",
    "\n",
    "# Text feature engineering.\n",
    "import re    \n",
    "import nltk\n",
    "from nltk.corpus import stopwords\n",
    "from nltk.stem.wordnet import WordNetLemmatizer\n",
    "from sklearn.feature_extraction.text import TfidfVectorizer, CountVectorizer\n",
    "\n",
    "# Modeling related libraries\n",
    "from sklearn.cross_validation import train_test_split, cross_val_score, cross_val_predict\n",
    "from sklearn.metrics import accuracy_score, confusion_matrix, roc_auc_score, precision_recall_curve, roc_curve\n",
    "from sklearn.metrics import classification_report, average_precision_score, f1_score\n",
    "from sklearn import cross_validation\n",
    "from sklearn.ensemble import RandomForestClassifier\n",
    "from sklearn.linear_model import LogisticRegression\n",
    "from sklearn.naive_bayes import MultinomialNB\n",
    "from imblearn.over_sampling import SMOTE\n",
    "from sklearn.model_selection import cross_val_predict\n",
    "from sklearn.model_selection import StratifiedShuffleSplit, GridSearchCV"
   ]
  },
  {
   "cell_type": "code",
   "execution_count": 4,
   "metadata": {},
   "outputs": [],
   "source": [
    "# setup the pandas to display all the columns of the dataframe.\n",
    "pd.set_option('display.max_columns', None)\n",
    "\n",
    "# igonre warning settings\n",
    "warnings.filterwarnings('ignore')"
   ]
  },
  {
   "cell_type": "markdown",
   "metadata": {},
   "source": [
    "Now load the training and test data into 2 dataframes and remeber to use date_parser option set to column 'project_submitted_datetime' columns so that this can be used later when we derive features related to date column."
   ]
  },
  {
   "cell_type": "code",
   "execution_count": 5,
   "metadata": {
    "collapsed": true
   },
   "outputs": [],
   "source": [
    "# read the train and test dataset from csv file into dataframe: df_train, df_test\n",
    "df_train = pd.read_csv('train.csv', date_parser='project_submitted_datetime',\n",
    "                       dtype={\"project_essay_3\": object, \"project_essay_4\": object})\n",
    "df_test = pd.read_csv('test.csv', date_parser='project_submitted_datetime', \n",
    "                     dtype={\"project_essay_3\": object, \"project_essay_4\": object})\n",
    "\n",
    "# read the resources file into dataframe: df_resources\n",
    "df_resources = pd.read_csv('resources.csv')"
   ]
  },
  {
   "cell_type": "code",
   "execution_count": 6,
   "metadata": {
    "collapsed": true
   },
   "outputs": [],
   "source": [
    "# create a new dataframe with only target values: df_target\n",
    "df_target = df_train['project_is_approved']\n",
    "\n",
    "# drop the target column from training dataset.\n",
    "df_train = df_train.drop('project_is_approved', axis=1)"
   ]
  },
  {
   "cell_type": "markdown",
   "metadata": {},
   "source": [
    "**Remember** the test files(test.csv) doesn't have the column *\"project_is_approved\"*. <br>\n",
    "From here onwards we will do all the steps in feature engineering on both the dataframes **train** and **test**, as test will have to be in the same format as of train to be used in the model for prediction."
   ]
  },
  {
   "cell_type": "code",
   "execution_count": 7,
   "metadata": {},
   "outputs": [
    {
     "data": {
      "text/plain": [
       "id                                              False\n",
       "teacher_id                                      False\n",
       "teacher_prefix                                   True\n",
       "school_state                                    False\n",
       "project_submitted_datetime                      False\n",
       "project_grade_category                          False\n",
       "project_subject_categories                      False\n",
       "project_subject_subcategories                   False\n",
       "project_title                                   False\n",
       "project_essay_1                                 False\n",
       "project_essay_2                                 False\n",
       "project_essay_3                                  True\n",
       "project_essay_4                                  True\n",
       "project_resource_summary                        False\n",
       "teacher_number_of_previously_posted_projects    False\n",
       "dtype: bool"
      ]
     },
     "execution_count": 7,
     "metadata": {},
     "output_type": "execute_result"
    }
   ],
   "source": [
    "# check for null values in train dataset\n",
    "df_train.isnull().any()"
   ]
  },
  {
   "cell_type": "code",
   "execution_count": 8,
   "metadata": {},
   "outputs": [
    {
     "data": {
      "text/plain": [
       "id                                              False\n",
       "teacher_id                                      False\n",
       "teacher_prefix                                   True\n",
       "school_state                                    False\n",
       "project_submitted_datetime                      False\n",
       "project_grade_category                          False\n",
       "project_subject_categories                      False\n",
       "project_subject_subcategories                   False\n",
       "project_title                                   False\n",
       "project_essay_1                                 False\n",
       "project_essay_2                                 False\n",
       "project_essay_3                                  True\n",
       "project_essay_4                                  True\n",
       "project_resource_summary                        False\n",
       "teacher_number_of_previously_posted_projects    False\n",
       "dtype: bool"
      ]
     },
     "execution_count": 8,
     "metadata": {},
     "output_type": "execute_result"
    }
   ],
   "source": [
    "# check for null values in test dataset\n",
    "df_test.isnull().any()"
   ]
  },
  {
   "cell_type": "markdown",
   "metadata": {},
   "source": [
    "From **EDA** part of this project we know the following:\n",
    "* missing values in *teacher_prefix* column of training and test dataset can be filled with _Teacher_. \n",
    "* missing values in columns *project_essay_3* and *project_essay_4* of training and test dataset can be filled with *\" \"(blank space)*.\n",
    "* missing values in columns _description_ of resource dataset can be filled with *\" \"(blank space)*.<br>\n",
    "\n",
    "We will be handling those missing values accordingly when we need it. First will handle the missing values of train and test dataset."
   ]
  },
  {
   "cell_type": "code",
   "execution_count": 9,
   "metadata": {
    "collapsed": true
   },
   "outputs": [],
   "source": [
    "# train dataset columns with NaN values are filled with most suitable values.\n",
    "df_train['teacher_prefix'].fillna('Teacher', inplace=True)\n",
    "\n",
    "# test dataset columns with NaN values are filled with most suitable values.\n",
    "df_test['teacher_prefix'].fillna('Teacher', inplace=True)"
   ]
  },
  {
   "cell_type": "markdown",
   "metadata": {},
   "source": [
    "## 1) Feature Engineering ##\n",
    "Let's start with feature engineering, we will convert all the columns into numerical values for obvious reason. we will start in same order as in the dataframe.\n",
    "We will first deal with all the categorical columns, then from some columns will be derived from resource file and will be joined with the main dataframe. We will also break down the datetime column into some numerical features and finally will deal with the text columns."
   ]
  },
  {
   "cell_type": "markdown",
   "metadata": {},
   "source": [
    "### 1.1) Categorical Features ###\n",
    "All the categorical features will be converted into the numerical values using **LabelEncoder()**. In some classification models LabelEncoder() performs better than the OneHotEncoder()."
   ]
  },
  {
   "cell_type": "code",
   "execution_count": 10,
   "metadata": {
    "collapsed": true
   },
   "outputs": [],
   "source": [
    "# storing all the categorical columns in a variable: cols\n",
    "cols = [\n",
    "    'teacher_id', \n",
    "    'teacher_prefix', \n",
    "    'school_state', \n",
    "    'project_grade_category', \n",
    "    'project_subject_categories', \n",
    "    'project_subject_subcategories'\n",
    "]\n",
    "\n",
    "for c in cols:\n",
    "    le = LabelEncoder()\n",
    "    le.fit(df_train[c].astype(str))\n",
    "    df_train[c] = le.transform(df_train[c].astype(str))\n",
    "    le.fit(df_test[c].astype(str))\n",
    "    df_test[c] = le.transform(df_test[c].astype(str))"
   ]
  },
  {
   "cell_type": "markdown",
   "metadata": {},
   "source": [
    "### 1.2) Datetime Features ###\n",
    "Now let's deal with Datetime column of train and test dataset."
   ]
  },
  {
   "cell_type": "code",
   "execution_count": 11,
   "metadata": {
    "collapsed": true
   },
   "outputs": [],
   "source": [
    "# first convert the datatype(dtype) of the column 'project_submitted_datetime' in both train and test dataset.\n",
    "df_train['project_submitted_datetime'] = pd.to_datetime(df_train['project_submitted_datetime'])\n",
    "df_test['project_submitted_datetime'] = pd.to_datetime(df_test['project_submitted_datetime'])"
   ]
  },
  {
   "cell_type": "code",
   "execution_count": 12,
   "metadata": {
    "collapsed": true
   },
   "outputs": [],
   "source": [
    "# extracting date and time related values from project submission date time column for train dataset.\n",
    "df_train[\"Year\"] = df_train[\"project_submitted_datetime\"].dt.year\n",
    "df_train[\"Month\"] = df_train[\"project_submitted_datetime\"].dt.month\n",
    "df_train[\"Day\"] = df_train['project_submitted_datetime'].dt.day\n",
    "df_train['Weekday'] = df_train['project_submitted_datetime'].dt.weekday\n",
    "df_train[\"Hour\"] = df_train[\"project_submitted_datetime\"].dt.hour\n",
    "\n",
    "# extracting date and time related values from project submission date time column for test dataset.\n",
    "df_test[\"Year\"] = df_test[\"project_submitted_datetime\"].dt.year\n",
    "df_test[\"Month\"] = df_test[\"project_submitted_datetime\"].dt.month\n",
    "df_test[\"Day\"] = df_test['project_submitted_datetime'].dt.day\n",
    "df_test['Weekday'] = df_test['project_submitted_datetime'].dt.weekday\n",
    "df_test[\"Hour\"] = df_test[\"project_submitted_datetime\"].dt.hour"
   ]
  },
  {
   "cell_type": "code",
   "execution_count": 13,
   "metadata": {
    "collapsed": true
   },
   "outputs": [],
   "source": [
    "# drop project_submitted_datetime column from train and test dataset.\n",
    "df_train = df_train.drop('project_submitted_datetime', axis=1)\n",
    "df_test = df_test.drop('project_submitted_datetime', axis=1)"
   ]
  },
  {
   "cell_type": "markdown",
   "metadata": {},
   "source": [
    "### 1.3) Derived Features ###\n",
    "**Length of TEXT columns.**"
   ]
  },
  {
   "cell_type": "code",
   "execution_count": 14,
   "metadata": {
    "collapsed": true
   },
   "outputs": [],
   "source": [
    "# get the project title length for both train and test dataset.\n",
    "df_train.insert(loc=7, column='project_title_len', value=df_train['project_title'].apply(lambda x: len(str(x))))\n",
    "df_test.insert(loc=7, column='project_title_len', value=df_test['project_title'].apply(lambda x: len(str(x))))"
   ]
  },
  {
   "cell_type": "markdown",
   "metadata": {},
   "source": [
    "#### From EDA section 8.2 ####\n",
    "Will combine the project_essay_1 with project_essay_2 and project_essay_3 with project_essay_4 to make new columns new_essay_1 and new_essay_2 respectively.<br>\n",
    "**For train dataset**"
   ]
  },
  {
   "cell_type": "code",
   "execution_count": 15,
   "metadata": {
    "collapsed": true
   },
   "outputs": [],
   "source": [
    "# Make new essay_1 column 'new_essay_1'.\n",
    "df_train['new_essay_1']=df_train['project_essay_1']\n",
    "df_train.loc[df_train.project_essay_3.notnull(),'new_essay_1']=df_train.loc[df_train.project_essay_3.notnull(),\n",
    "                            'project_essay_1']+ df_train.loc[df_train.project_essay_3.notnull(),'project_essay_2']\n",
    "\n",
    "# Make new essay_2 column 'new_essay_2'.\n",
    "df_train['new_essay_2']=df_train['project_essay_2']\n",
    "df_train.loc[df_train.project_essay_3.notnull(),'new_essay_2']=df_train.loc[df_train.project_essay_3.notnull(),\n",
    "                            'project_essay_3']+ df_train.loc[df_train.project_essay_3.notnull(),'project_essay_4']"
   ]
  },
  {
   "cell_type": "markdown",
   "metadata": {},
   "source": [
    "**For test dataset**"
   ]
  },
  {
   "cell_type": "code",
   "execution_count": 16,
   "metadata": {
    "collapsed": true
   },
   "outputs": [],
   "source": [
    "# Make new essay_1 column 'new_essay_1'.\n",
    "df_test['new_essay_1']=df_test['project_essay_1']\n",
    "df_test.loc[df_test.project_essay_3.notnull(),'new_essay_1']=df_test.loc[df_test.project_essay_3.notnull(),\n",
    "                            'project_essay_1']+ df_test.loc[df_test.project_essay_3.notnull(),'project_essay_2']\n",
    "\n",
    "# Make new essay_2 column 'new_essay_2'.\n",
    "df_test['new_essay_2']=df_test['project_essay_2']\n",
    "df_test.loc[df_test.project_essay_3.notnull(),'new_essay_2']=df_test.loc[df_test.project_essay_3.notnull(),\n",
    "                            'project_essay_3']+ df_test.loc[df_test.project_essay_3.notnull(),'project_essay_4']"
   ]
  },
  {
   "cell_type": "markdown",
   "metadata": {},
   "source": [
    "Now get the length of the **new_essay_1** and **new_essay_2** into our dataframe"
   ]
  },
  {
   "cell_type": "code",
   "execution_count": 17,
   "metadata": {
    "collapsed": true
   },
   "outputs": [],
   "source": [
    "# get the new_essay_1 and new_essay_2 length for both train and test dataset.\n",
    "df_train.insert(loc=8, column='new_essay1_len', value=df_train['new_essay_1'].apply(lambda x: len(str(x))))\n",
    "df_test.insert(loc=8, column='new_essay1_len', value=df_test['new_essay_1'].apply(lambda x: len(str(x))))\n",
    "\n",
    "df_train.insert(loc=9, column='new_essay2_len', value=df_train['new_essay_2'].apply(lambda x: len(str(x))))\n",
    "df_test.insert(loc=9, column='new_essay2_len', value=df_test['new_essay_2'].apply(lambda x: len(str(x))))"
   ]
  },
  {
   "cell_type": "markdown",
   "metadata": {},
   "source": [
    "Since we have combined the essay columns, will drop the project_essay_1, project_essay_2, project_essay_3 and project_essay_4, in both the datasets."
   ]
  },
  {
   "cell_type": "code",
   "execution_count": 18,
   "metadata": {
    "collapsed": true
   },
   "outputs": [],
   "source": [
    "# drop project_essay_1, project_essay_2, project_essay_3 and project_essay_4 in train dataset\n",
    "df_train = df_train.drop(['project_essay_1','project_essay_2','project_essay_3','project_essay_4'], axis=1)\n",
    "\n",
    "# drop project_essay_1, project_essay_2, project_essay_3 and project_essay_4 in test dataset\n",
    "df_test = df_test.drop(['project_essay_1','project_essay_2','project_essay_3','project_essay_4'], axis=1)"
   ]
  },
  {
   "cell_type": "markdown",
   "metadata": {},
   "source": [
    "#### Resource Dataset ####\n",
    "Now let's create some features using the **resource** dataset."
   ]
  },
  {
   "cell_type": "code",
   "execution_count": 19,
   "metadata": {},
   "outputs": [
    {
     "name": "stdout",
     "output_type": "stream",
     "text": [
      "<class 'pandas.core.frame.DataFrame'>\n",
      "RangeIndex: 1541272 entries, 0 to 1541271\n",
      "Data columns (total 4 columns):\n",
      "id             1541272 non-null object\n",
      "description    1540980 non-null object\n",
      "quantity       1541272 non-null int64\n",
      "price          1541272 non-null float64\n",
      "dtypes: float64(1), int64(1), object(2)\n",
      "memory usage: 47.0+ MB\n"
     ]
    }
   ],
   "source": [
    "df_resources.info()"
   ]
  },
  {
   "cell_type": "markdown",
   "metadata": {},
   "source": [
    "It looks like **description** column has some **missing** values."
   ]
  },
  {
   "cell_type": "code",
   "execution_count": 20,
   "metadata": {
    "collapsed": true
   },
   "outputs": [],
   "source": [
    "# fill missing values with blank space, which is more suitable than NaN values.\n",
    "df_resources['description'].fillna('', inplace=True)"
   ]
  },
  {
   "cell_type": "markdown",
   "metadata": {},
   "source": [
    "Since this dataframe contains details about the price and quantities, let's derive some columns which are related to the **Price** and **Quantities** which are going to play some important role in prediction."
   ]
  },
  {
   "cell_type": "code",
   "execution_count": 21,
   "metadata": {
    "collapsed": true
   },
   "outputs": [],
   "source": [
    "# get the total price as 'amount' by multiplying quatities and price and round it to nerest to 2 decimal points.\n",
    "df_resources['amount'] = round((df_resources['quantity'] * df_resources['price']),2)"
   ]
  },
  {
   "cell_type": "code",
   "execution_count": 22,
   "metadata": {
    "collapsed": true
   },
   "outputs": [],
   "source": [
    "# group by the id which will be ultimately used to join with the training dataset.\n",
    "resources = df_resources.groupby('id')['quantity','price','amount'].agg(\n",
    "    {'quantity':['sum','count'],'price':['mean'],'amount':['sum']})\n",
    "resources.columns=['item_quantity_sum','unique_items','avg_price_per_item','total_cost']"
   ]
  },
  {
   "cell_type": "code",
   "execution_count": 23,
   "metadata": {
    "collapsed": true
   },
   "outputs": [],
   "source": [
    "# description column\n",
    "df_resources['description'] = df_resources['description'].astype(str)\n",
    "des=df_resources.groupby('id')['description'].apply(lambda des: \"%s\" % ', '.join(des))\n",
    "\n",
    "# creating new column to the resources dataframe.\n",
    "resources['description'] = des\n",
    "\n",
    "# reset index so that it can be merged to the training dataframe.\n",
    "resources.reset_index(inplace=True)"
   ]
  },
  {
   "cell_type": "code",
   "execution_count": 24,
   "metadata": {
    "collapsed": true
   },
   "outputs": [],
   "source": [
    "#merge train data with resources\n",
    "df_train=pd.merge(df_train,resources,on='id')\n",
    "\n",
    "#merge test data with resources\n",
    "df_test=pd.merge(df_test,resources,on='id')"
   ]
  },
  {
   "cell_type": "markdown",
   "metadata": {},
   "source": [
    "Now we are going to deal with the text columns of the train and test dataset. Before doing so let's check out some basic info of the dataframe and how they look."
   ]
  },
  {
   "cell_type": "code",
   "execution_count": 25,
   "metadata": {},
   "outputs": [
    {
     "name": "stdout",
     "output_type": "stream",
     "text": [
      "<class 'pandas.core.frame.DataFrame'>\n",
      "Int64Index: 182080 entries, 0 to 182079\n",
      "Data columns (total 25 columns):\n",
      "id                                              182080 non-null object\n",
      "teacher_id                                      182080 non-null int64\n",
      "teacher_prefix                                  182080 non-null int64\n",
      "school_state                                    182080 non-null int64\n",
      "project_grade_category                          182080 non-null int64\n",
      "project_subject_categories                      182080 non-null int64\n",
      "project_subject_subcategories                   182080 non-null int64\n",
      "project_title_len                               182080 non-null int64\n",
      "new_essay1_len                                  182080 non-null int64\n",
      "new_essay2_len                                  182080 non-null int64\n",
      "project_title                                   182080 non-null object\n",
      "project_resource_summary                        182080 non-null object\n",
      "teacher_number_of_previously_posted_projects    182080 non-null int64\n",
      "Year                                            182080 non-null int64\n",
      "Month                                           182080 non-null int64\n",
      "Day                                             182080 non-null int64\n",
      "Weekday                                         182080 non-null int64\n",
      "Hour                                            182080 non-null int64\n",
      "new_essay_1                                     182080 non-null object\n",
      "new_essay_2                                     182080 non-null object\n",
      "item_quantity_sum                               182080 non-null int64\n",
      "unique_items                                    182080 non-null int64\n",
      "avg_price_per_item                              182080 non-null float64\n",
      "total_cost                                      182080 non-null float64\n",
      "description                                     182080 non-null object\n",
      "dtypes: float64(2), int64(17), object(6)\n",
      "memory usage: 36.1+ MB\n"
     ]
    }
   ],
   "source": [
    "df_train.info()"
   ]
  },
  {
   "cell_type": "code",
   "execution_count": 26,
   "metadata": {},
   "outputs": [
    {
     "name": "stdout",
     "output_type": "stream",
     "text": [
      "<class 'pandas.core.frame.DataFrame'>\n",
      "Int64Index: 78035 entries, 0 to 78034\n",
      "Data columns (total 25 columns):\n",
      "id                                              78035 non-null object\n",
      "teacher_id                                      78035 non-null int64\n",
      "teacher_prefix                                  78035 non-null int64\n",
      "school_state                                    78035 non-null int64\n",
      "project_grade_category                          78035 non-null int64\n",
      "project_subject_categories                      78035 non-null int64\n",
      "project_subject_subcategories                   78035 non-null int64\n",
      "project_title_len                               78035 non-null int64\n",
      "new_essay1_len                                  78035 non-null int64\n",
      "new_essay2_len                                  78035 non-null int64\n",
      "project_title                                   78035 non-null object\n",
      "project_resource_summary                        78035 non-null object\n",
      "teacher_number_of_previously_posted_projects    78035 non-null int64\n",
      "Year                                            78035 non-null int64\n",
      "Month                                           78035 non-null int64\n",
      "Day                                             78035 non-null int64\n",
      "Weekday                                         78035 non-null int64\n",
      "Hour                                            78035 non-null int64\n",
      "new_essay_1                                     78035 non-null object\n",
      "new_essay_2                                     78035 non-null object\n",
      "item_quantity_sum                               78035 non-null int64\n",
      "unique_items                                    78035 non-null int64\n",
      "avg_price_per_item                              78035 non-null float64\n",
      "total_cost                                      78035 non-null float64\n",
      "description                                     78035 non-null object\n",
      "dtypes: float64(2), int64(17), object(6)\n",
      "memory usage: 15.5+ MB\n"
     ]
    }
   ],
   "source": [
    "df_test.info()"
   ]
  },
  {
   "cell_type": "code",
   "execution_count": 27,
   "metadata": {},
   "outputs": [
    {
     "data": {
      "text/html": [
       "<div>\n",
       "<style>\n",
       "    .dataframe thead tr:only-child th {\n",
       "        text-align: right;\n",
       "    }\n",
       "\n",
       "    .dataframe thead th {\n",
       "        text-align: left;\n",
       "    }\n",
       "\n",
       "    .dataframe tbody tr th {\n",
       "        vertical-align: top;\n",
       "    }\n",
       "</style>\n",
       "<table border=\"1\" class=\"dataframe\">\n",
       "  <thead>\n",
       "    <tr style=\"text-align: right;\">\n",
       "      <th></th>\n",
       "      <th>id</th>\n",
       "      <th>teacher_id</th>\n",
       "      <th>teacher_prefix</th>\n",
       "      <th>school_state</th>\n",
       "      <th>project_grade_category</th>\n",
       "      <th>project_subject_categories</th>\n",
       "      <th>project_subject_subcategories</th>\n",
       "      <th>project_title_len</th>\n",
       "      <th>new_essay1_len</th>\n",
       "      <th>new_essay2_len</th>\n",
       "      <th>project_title</th>\n",
       "      <th>project_resource_summary</th>\n",
       "      <th>teacher_number_of_previously_posted_projects</th>\n",
       "      <th>Year</th>\n",
       "      <th>Month</th>\n",
       "      <th>Day</th>\n",
       "      <th>Weekday</th>\n",
       "      <th>Hour</th>\n",
       "      <th>new_essay_1</th>\n",
       "      <th>new_essay_2</th>\n",
       "      <th>item_quantity_sum</th>\n",
       "      <th>unique_items</th>\n",
       "      <th>avg_price_per_item</th>\n",
       "      <th>total_cost</th>\n",
       "      <th>description</th>\n",
       "    </tr>\n",
       "  </thead>\n",
       "  <tbody>\n",
       "    <tr>\n",
       "      <th>0</th>\n",
       "      <td>p036502</td>\n",
       "      <td>29315</td>\n",
       "      <td>3</td>\n",
       "      <td>33</td>\n",
       "      <td>3</td>\n",
       "      <td>24</td>\n",
       "      <td>321</td>\n",
       "      <td>24</td>\n",
       "      <td>967</td>\n",
       "      <td>805</td>\n",
       "      <td>Super Sight Word Centers</td>\n",
       "      <td>My students need 6 Ipod Nano's to create and d...</td>\n",
       "      <td>26</td>\n",
       "      <td>2016</td>\n",
       "      <td>11</td>\n",
       "      <td>18</td>\n",
       "      <td>4</td>\n",
       "      <td>14</td>\n",
       "      <td>Most of my kindergarten students come from low...</td>\n",
       "      <td>I currently have a differentiated sight word c...</td>\n",
       "      <td>6</td>\n",
       "      <td>2</td>\n",
       "      <td>149.99</td>\n",
       "      <td>899.94</td>\n",
       "      <td>Apple - iPod nano� 16GB MP3 Player (8th Genera...</td>\n",
       "    </tr>\n",
       "    <tr>\n",
       "      <th>1</th>\n",
       "      <td>p039565</td>\n",
       "      <td>91061</td>\n",
       "      <td>2</td>\n",
       "      <td>10</td>\n",
       "      <td>0</td>\n",
       "      <td>42</td>\n",
       "      <td>392</td>\n",
       "      <td>22</td>\n",
       "      <td>587</td>\n",
       "      <td>639</td>\n",
       "      <td>Keep Calm and Dance On</td>\n",
       "      <td>My students need matching shirts to wear for d...</td>\n",
       "      <td>1</td>\n",
       "      <td>2017</td>\n",
       "      <td>4</td>\n",
       "      <td>26</td>\n",
       "      <td>2</td>\n",
       "      <td>15</td>\n",
       "      <td>Our elementary school is a culturally rich sch...</td>\n",
       "      <td>We strive to provide our diverse population of...</td>\n",
       "      <td>20</td>\n",
       "      <td>1</td>\n",
       "      <td>20.00</td>\n",
       "      <td>400.00</td>\n",
       "      <td>Reebok Girls' Fashion Dance Graphic T-Shirt - ...</td>\n",
       "    </tr>\n",
       "  </tbody>\n",
       "</table>\n",
       "</div>"
      ],
      "text/plain": [
       "        id  teacher_id  teacher_prefix  school_state  project_grade_category  \\\n",
       "0  p036502       29315               3            33                       3   \n",
       "1  p039565       91061               2            10                       0   \n",
       "\n",
       "   project_subject_categories  project_subject_subcategories  \\\n",
       "0                          24                            321   \n",
       "1                          42                            392   \n",
       "\n",
       "   project_title_len  new_essay1_len  new_essay2_len  \\\n",
       "0                 24             967             805   \n",
       "1                 22             587             639   \n",
       "\n",
       "              project_title  \\\n",
       "0  Super Sight Word Centers   \n",
       "1    Keep Calm and Dance On   \n",
       "\n",
       "                            project_resource_summary  \\\n",
       "0  My students need 6 Ipod Nano's to create and d...   \n",
       "1  My students need matching shirts to wear for d...   \n",
       "\n",
       "   teacher_number_of_previously_posted_projects  Year  Month  Day  Weekday  \\\n",
       "0                                            26  2016     11   18        4   \n",
       "1                                             1  2017      4   26        2   \n",
       "\n",
       "   Hour                                        new_essay_1  \\\n",
       "0    14  Most of my kindergarten students come from low...   \n",
       "1    15  Our elementary school is a culturally rich sch...   \n",
       "\n",
       "                                         new_essay_2  item_quantity_sum  \\\n",
       "0  I currently have a differentiated sight word c...                  6   \n",
       "1  We strive to provide our diverse population of...                 20   \n",
       "\n",
       "   unique_items  avg_price_per_item  total_cost  \\\n",
       "0             2              149.99      899.94   \n",
       "1             1               20.00      400.00   \n",
       "\n",
       "                                         description  \n",
       "0  Apple - iPod nano� 16GB MP3 Player (8th Genera...  \n",
       "1  Reebok Girls' Fashion Dance Graphic T-Shirt - ...  "
      ]
     },
     "execution_count": 27,
     "metadata": {},
     "output_type": "execute_result"
    }
   ],
   "source": [
    "df_train.head(2)"
   ]
  },
  {
   "cell_type": "code",
   "execution_count": 28,
   "metadata": {},
   "outputs": [
    {
     "data": {
      "text/html": [
       "<div>\n",
       "<style>\n",
       "    .dataframe thead tr:only-child th {\n",
       "        text-align: right;\n",
       "    }\n",
       "\n",
       "    .dataframe thead th {\n",
       "        text-align: left;\n",
       "    }\n",
       "\n",
       "    .dataframe tbody tr th {\n",
       "        vertical-align: top;\n",
       "    }\n",
       "</style>\n",
       "<table border=\"1\" class=\"dataframe\">\n",
       "  <thead>\n",
       "    <tr style=\"text-align: right;\">\n",
       "      <th></th>\n",
       "      <th>id</th>\n",
       "      <th>teacher_id</th>\n",
       "      <th>teacher_prefix</th>\n",
       "      <th>school_state</th>\n",
       "      <th>project_grade_category</th>\n",
       "      <th>project_subject_categories</th>\n",
       "      <th>project_subject_subcategories</th>\n",
       "      <th>project_title_len</th>\n",
       "      <th>new_essay1_len</th>\n",
       "      <th>new_essay2_len</th>\n",
       "      <th>project_title</th>\n",
       "      <th>project_resource_summary</th>\n",
       "      <th>teacher_number_of_previously_posted_projects</th>\n",
       "      <th>Year</th>\n",
       "      <th>Month</th>\n",
       "      <th>Day</th>\n",
       "      <th>Weekday</th>\n",
       "      <th>Hour</th>\n",
       "      <th>new_essay_1</th>\n",
       "      <th>new_essay_2</th>\n",
       "      <th>item_quantity_sum</th>\n",
       "      <th>unique_items</th>\n",
       "      <th>avg_price_per_item</th>\n",
       "      <th>total_cost</th>\n",
       "      <th>description</th>\n",
       "    </tr>\n",
       "  </thead>\n",
       "  <tbody>\n",
       "    <tr>\n",
       "      <th>0</th>\n",
       "      <td>p233245</td>\n",
       "      <td>18923</td>\n",
       "      <td>3</td>\n",
       "      <td>4</td>\n",
       "      <td>3</td>\n",
       "      <td>40</td>\n",
       "      <td>387</td>\n",
       "      <td>24</td>\n",
       "      <td>548</td>\n",
       "      <td>439</td>\n",
       "      <td>Art Will Make You Happy!</td>\n",
       "      <td>My students need a drying rack for their art p...</td>\n",
       "      <td>2</td>\n",
       "      <td>2016</td>\n",
       "      <td>4</td>\n",
       "      <td>27</td>\n",
       "      <td>2</td>\n",
       "      <td>13</td>\n",
       "      <td>My 2nd grade students are amazing!  They are v...</td>\n",
       "      <td>My second grade class will really benefit from...</td>\n",
       "      <td>1</td>\n",
       "      <td>1</td>\n",
       "      <td>149.000000</td>\n",
       "      <td>149.00</td>\n",
       "      <td>LC652 - Lakeshore Double-Space Mobile Drying Rack</td>\n",
       "    </tr>\n",
       "    <tr>\n",
       "      <th>1</th>\n",
       "      <td>p096795</td>\n",
       "      <td>14777</td>\n",
       "      <td>2</td>\n",
       "      <td>40</td>\n",
       "      <td>0</td>\n",
       "      <td>28</td>\n",
       "      <td>320</td>\n",
       "      <td>25</td>\n",
       "      <td>806</td>\n",
       "      <td>1018</td>\n",
       "      <td>Keeping up with the TIMEs</td>\n",
       "      <td>My students need Time Magazines for next year ...</td>\n",
       "      <td>1</td>\n",
       "      <td>2016</td>\n",
       "      <td>4</td>\n",
       "      <td>28</td>\n",
       "      <td>3</td>\n",
       "      <td>12</td>\n",
       "      <td>Students within the classroom work in small gr...</td>\n",
       "      <td>We do a lot of small group, where the student ...</td>\n",
       "      <td>44</td>\n",
       "      <td>3</td>\n",
       "      <td>7.993333</td>\n",
       "      <td>238.34</td>\n",
       "      <td>Brewster WPD90218 Wall Pops Flirt Dot, Set of ...</td>\n",
       "    </tr>\n",
       "  </tbody>\n",
       "</table>\n",
       "</div>"
      ],
      "text/plain": [
       "        id  teacher_id  teacher_prefix  school_state  project_grade_category  \\\n",
       "0  p233245       18923               3             4                       3   \n",
       "1  p096795       14777               2            40                       0   \n",
       "\n",
       "   project_subject_categories  project_subject_subcategories  \\\n",
       "0                          40                            387   \n",
       "1                          28                            320   \n",
       "\n",
       "   project_title_len  new_essay1_len  new_essay2_len  \\\n",
       "0                 24             548             439   \n",
       "1                 25             806            1018   \n",
       "\n",
       "               project_title  \\\n",
       "0   Art Will Make You Happy!   \n",
       "1  Keeping up with the TIMEs   \n",
       "\n",
       "                            project_resource_summary  \\\n",
       "0  My students need a drying rack for their art p...   \n",
       "1  My students need Time Magazines for next year ...   \n",
       "\n",
       "   teacher_number_of_previously_posted_projects  Year  Month  Day  Weekday  \\\n",
       "0                                             2  2016      4   27        2   \n",
       "1                                             1  2016      4   28        3   \n",
       "\n",
       "   Hour                                        new_essay_1  \\\n",
       "0    13  My 2nd grade students are amazing!  They are v...   \n",
       "1    12  Students within the classroom work in small gr...   \n",
       "\n",
       "                                         new_essay_2  item_quantity_sum  \\\n",
       "0  My second grade class will really benefit from...                  1   \n",
       "1  We do a lot of small group, where the student ...                 44   \n",
       "\n",
       "   unique_items  avg_price_per_item  total_cost  \\\n",
       "0             1          149.000000      149.00   \n",
       "1             3            7.993333      238.34   \n",
       "\n",
       "                                         description  \n",
       "0  LC652 - Lakeshore Double-Space Mobile Drying Rack  \n",
       "1  Brewster WPD90218 Wall Pops Flirt Dot, Set of ...  "
      ]
     },
     "execution_count": 28,
     "metadata": {},
     "output_type": "execute_result"
    }
   ],
   "source": [
    "df_test.head(2)"
   ]
  },
  {
   "cell_type": "markdown",
   "metadata": {},
   "source": [
    "As we can see most of the columns are numerica values and there are only text columns which required to be converted to the numerical values. So let's go and start with text columns feature engineering."
   ]
  },
  {
   "cell_type": "markdown",
   "metadata": {},
   "source": [
    "### 1.4)Text Features ###\n",
    "#### Pre-processing of text columns ####\n",
    "We will combine all the text field into one text column in *project_text* column of the train and test dataframes. Once this is done we will drop all other text columns. "
   ]
  },
  {
   "cell_type": "code",
   "execution_count": 29,
   "metadata": {
    "collapsed": true
   },
   "outputs": [],
   "source": [
    "# combine all the three text columns into one single text column as 'project_text' in both train and test data.\n",
    "df_train['project_text'] = df_train.apply(lambda row: ' '.join([\n",
    "    str(row['new_essay_1']),\n",
    "    str(row['new_essay_2']),\n",
    "    str(row['project_resource_summary']),\n",
    "    str(row['description']),\n",
    "    str(row['project_title'])]), axis=1)\n",
    "\n",
    "df_test['project_text'] = df_test.apply(lambda row: ' '.join([\n",
    "    str(row['new_essay_1']),\n",
    "    str(row['new_essay_2']),\n",
    "    str(row['project_resource_summary']),\n",
    "    str(row['description']),\n",
    "    str(row['project_title'])]), axis=1)"
   ]
  },
  {
   "cell_type": "code",
   "execution_count": 30,
   "metadata": {
    "collapsed": true
   },
   "outputs": [],
   "source": [
    "# drop the 5 old columns and make sure we have only three text columns in both train and test dataset.\n",
    "drop_cols = ['project_title','new_essay_1','new_essay_2','project_resource_summary','description']\n",
    "df_train = df_train.drop(drop_cols, axis=1)\n",
    "df_test = df_test.drop(drop_cols, axis=1)"
   ]
  },
  {
   "cell_type": "markdown",
   "metadata": {},
   "source": [
    "Now we should check some basic info of the two dataframe to make sure everything is fine. There should be only 1 text column and there should not be any missing value in either of the train and test dataframes."
   ]
  },
  {
   "cell_type": "code",
   "execution_count": 31,
   "metadata": {},
   "outputs": [
    {
     "name": "stdout",
     "output_type": "stream",
     "text": [
      "<class 'pandas.core.frame.DataFrame'>\n",
      "Int64Index: 182080 entries, 0 to 182079\n",
      "Data columns (total 21 columns):\n",
      "id                                              182080 non-null object\n",
      "teacher_id                                      182080 non-null int64\n",
      "teacher_prefix                                  182080 non-null int64\n",
      "school_state                                    182080 non-null int64\n",
      "project_grade_category                          182080 non-null int64\n",
      "project_subject_categories                      182080 non-null int64\n",
      "project_subject_subcategories                   182080 non-null int64\n",
      "project_title_len                               182080 non-null int64\n",
      "new_essay1_len                                  182080 non-null int64\n",
      "new_essay2_len                                  182080 non-null int64\n",
      "teacher_number_of_previously_posted_projects    182080 non-null int64\n",
      "Year                                            182080 non-null int64\n",
      "Month                                           182080 non-null int64\n",
      "Day                                             182080 non-null int64\n",
      "Weekday                                         182080 non-null int64\n",
      "Hour                                            182080 non-null int64\n",
      "item_quantity_sum                               182080 non-null int64\n",
      "unique_items                                    182080 non-null int64\n",
      "avg_price_per_item                              182080 non-null float64\n",
      "total_cost                                      182080 non-null float64\n",
      "project_text                                    182080 non-null object\n",
      "dtypes: float64(2), int64(17), object(2)\n",
      "memory usage: 30.6+ MB\n"
     ]
    }
   ],
   "source": [
    "df_train.info()"
   ]
  },
  {
   "cell_type": "code",
   "execution_count": 32,
   "metadata": {},
   "outputs": [
    {
     "name": "stdout",
     "output_type": "stream",
     "text": [
      "<class 'pandas.core.frame.DataFrame'>\n",
      "Int64Index: 78035 entries, 0 to 78034\n",
      "Data columns (total 21 columns):\n",
      "id                                              78035 non-null object\n",
      "teacher_id                                      78035 non-null int64\n",
      "teacher_prefix                                  78035 non-null int64\n",
      "school_state                                    78035 non-null int64\n",
      "project_grade_category                          78035 non-null int64\n",
      "project_subject_categories                      78035 non-null int64\n",
      "project_subject_subcategories                   78035 non-null int64\n",
      "project_title_len                               78035 non-null int64\n",
      "new_essay1_len                                  78035 non-null int64\n",
      "new_essay2_len                                  78035 non-null int64\n",
      "teacher_number_of_previously_posted_projects    78035 non-null int64\n",
      "Year                                            78035 non-null int64\n",
      "Month                                           78035 non-null int64\n",
      "Day                                             78035 non-null int64\n",
      "Weekday                                         78035 non-null int64\n",
      "Hour                                            78035 non-null int64\n",
      "item_quantity_sum                               78035 non-null int64\n",
      "unique_items                                    78035 non-null int64\n",
      "avg_price_per_item                              78035 non-null float64\n",
      "total_cost                                      78035 non-null float64\n",
      "project_text                                    78035 non-null object\n",
      "dtypes: float64(2), int64(17), object(2)\n",
      "memory usage: 13.1+ MB\n"
     ]
    }
   ],
   "source": [
    "df_test.info()"
   ]
  },
  {
   "cell_type": "markdown",
   "metadata": {},
   "source": [
    "Everything looks fine except that _\"id\"_ column which is of type object and we do not need this column anymore. Hence drop the *\"id\"* column from train and test column."
   ]
  },
  {
   "cell_type": "code",
   "execution_count": 33,
   "metadata": {
    "collapsed": true
   },
   "outputs": [],
   "source": [
    "# before droping id column from test and train data, store it into dataframe: train_id, test_id\n",
    "train_id = df_train[['id']]\n",
    "test_id = df_test[['id']]\n",
    "\n",
    "# drop id column from the test and train dataset.\n",
    "df_train = df_train.drop('id', axis=1)\n",
    "df_test = df_test.drop('id', axis=1)"
   ]
  },
  {
   "cell_type": "markdown",
   "metadata": {},
   "source": [
    "**lemetization of the text column**"
   ]
  },
  {
   "cell_type": "code",
   "execution_count": 34,
   "metadata": {
    "collapsed": true
   },
   "outputs": [],
   "source": [
    "# define a function for cleaning and lemmatizing the text column: \n",
    "wt = nltk.tokenize.WhitespaceTokenizer()\n",
    "lemmatizer = nltk.stem.WordNetLemmatizer()\n",
    "\n",
    "def text_preprocess(text):\n",
    "    text = text.strip().lower()\n",
    "    text = re.sub(r'[^a-zA-Z\\s]', '', text, re.I|re.A)\n",
    "    text = re.sub('\\r','', text) # \\r\\n returns\n",
    "    text = re.sub('\\n','', text) # \\r\\n returns\n",
    "    text = re.sub('\\W+',' ', text)\n",
    "    text = re.sub(' i m ',' i\\'m ', text)\n",
    "    text = re.sub('n t ','n\\'t ', text)\n",
    "    text = re.sub(' re ',' are ', text)\n",
    "    text = [lemmatizer.lemmatize(w) for w in wt.tokenize(text)]\n",
    "    return text"
   ]
  },
  {
   "cell_type": "code",
   "execution_count": 35,
   "metadata": {
    "collapsed": true
   },
   "outputs": [],
   "source": [
    "# use the above function on the text column of train and test data.\n",
    "df_train['project_text'] = df_train['project_text'].apply(lambda x: text_preprocess(x))\n",
    "df_test['project_text'] = df_test['project_text'].apply(lambda x: text_preprocess(x))"
   ]
  },
  {
   "cell_type": "code",
   "execution_count": 36,
   "metadata": {},
   "outputs": [
    {
     "data": {
      "text/plain": [
       "0    [most, of, my, kindergarten, student, come, fr...\n",
       "1    [our, elementary, school, is, a, culturally, r...\n",
       "2    [hellornmy, name, is, mr, brotherton, i, teach...\n",
       "3    [my, student, are, the, greatest, student, but...\n",
       "4    [my, student, are, athlete, and, student, who,...\n",
       "5    [my, kid, tell, me, each, day, that, they, wan...\n",
       "6    [kindergarten, is, the, new, first, grade, my,...\n",
       "7    [first, grader, are, fantastic, they, are, exc...\n",
       "8    [my, seventh, grader, dream, big, they, cant, ...\n",
       "9    [i, teach, first, grade, in, a, small, farming...\n",
       "Name: project_text, dtype: object"
      ]
     },
     "execution_count": 36,
     "metadata": {},
     "output_type": "execute_result"
    }
   ],
   "source": [
    "# first 10 values of text column after preprocessing and lemmatization\n",
    "df_train['project_text'][0:10]"
   ]
  },
  {
   "cell_type": "markdown",
   "metadata": {},
   "source": [
    "As we can see there are still some english stop words are present in the text like **is, of, a** etc. Hence we will use **Tf-Idf** implementation on text column."
   ]
  },
  {
   "cell_type": "code",
   "execution_count": 37,
   "metadata": {
    "collapsed": true
   },
   "outputs": [],
   "source": [
    "# using tf-idf for text vectorization of the text column: tfidf_vect\n",
    "tfidf_vect = TfidfVectorizer(norm='l2', min_df=0,  max_features=6000, \n",
    "            strip_accents='unicode', analyzer='word', token_pattern=r'\\w{1,}',\n",
    "            ngram_range=(1,2), use_idf=True, smooth_idf=False, sublinear_tf=True,\n",
    "            stop_words = 'english')"
   ]
  },
  {
   "cell_type": "code",
   "execution_count": 38,
   "metadata": {
    "collapsed": true
   },
   "outputs": [],
   "source": [
    "# extract text column from the dataframe into a series: train_text, test_text\n",
    "train_text = df_train['project_text'].apply(lambda x: ' '.join(x))\n",
    "test_text = df_test['project_text'].apply(lambda x: ' '.join(x))"
   ]
  },
  {
   "cell_type": "code",
   "execution_count": 39,
   "metadata": {
    "collapsed": true
   },
   "outputs": [],
   "source": [
    "# Fitting tfidf on train dataset\n",
    "tfidf_vect.fit(list(train_text.values))\n",
    "train_tfv = tfidf_vect.transform(train_text)"
   ]
  },
  {
   "cell_type": "code",
   "execution_count": 40,
   "metadata": {
    "collapsed": true
   },
   "outputs": [],
   "source": [
    "# Fitting tfidf on test dataset\n",
    "tfidf_vect.fit(list(test_text.values))\n",
    "test_tfv = tfidf_vect.transform(test_text)"
   ]
  },
  {
   "cell_type": "markdown",
   "metadata": {},
   "source": [
    "**Combine text vectors and features**"
   ]
  },
  {
   "cell_type": "code",
   "execution_count": 41,
   "metadata": {
    "collapsed": true
   },
   "outputs": [],
   "source": [
    "# get all the features in the series for both train and test dataset: train_features, test_features\n",
    "train_features = df_train.drop('project_text', axis=1)\n",
    "test_features = df_test.drop('project_text', axis=1)"
   ]
  },
  {
   "cell_type": "code",
   "execution_count": 42,
   "metadata": {
    "collapsed": true
   },
   "outputs": [],
   "source": [
    "# convert all the features into Compressed Sparse Row matrix, so that it can be combined \n",
    "# with text vectors: train_features, test_features\n",
    "train_features = csr_matrix(train_features.values)\n",
    "test_features = csr_matrix(test_features.values)"
   ]
  },
  {
   "cell_type": "code",
   "execution_count": 43,
   "metadata": {},
   "outputs": [
    {
     "name": "stdout",
     "output_type": "stream",
     "text": [
      "Train shape:  (182080, 6019) \n",
      "\n",
      "Test Shape:  (78035, 6019)\n"
     ]
    }
   ],
   "source": [
    "# hstack the features with text vectorization: X_train_features, X_test_real\n",
    "X_train_features = hstack([train_features, train_tfv[0:train_features.shape[0]]])\n",
    "X_test_real = hstack([test_features, test_tfv[0:test_features.shape[0]]])\n",
    "\n",
    "# print the shape of the features to make sure that they have same number of columns.\n",
    "print('Train shape: ', X_train_features.shape, '\\n\\nTest Shape: ', X_test_real.shape)"
   ]
  },
  {
   "cell_type": "markdown",
   "metadata": {},
   "source": [
    "So we have all the features required for modeling."
   ]
  },
  {
   "cell_type": "markdown",
   "metadata": {},
   "source": [
    "### 2) Modeling ###\n",
    "In this senction, we will develop 3 different **Binary Classification** models and will compare the performance of these models. We will choose one model from each of these:<br>\n",
    "1) Linear Model - LogisticRegresson.<br>\n",
    "2) Naive Bayes Model - MultinomialNB.<br>\n",
    "3) Decision Tree model - RandonForest.<br>\n",
    "\n",
    "The models whose performance turns out be the best, will be selected to predict the actaul real data set for which we do not have the actaul targt value."
   ]
  },
  {
   "cell_type": "markdown",
   "metadata": {},
   "source": [
    "Let's start by checking if the dataset we have is actually imbalanced or not. To check that let's first split out dataset in to train and test, using train_test_split in skit-learn."
   ]
  },
  {
   "cell_type": "code",
   "execution_count": 44,
   "metadata": {
    "collapsed": true
   },
   "outputs": [],
   "source": [
    "# spliting the train dataset into training and test dataset as we do not have target value of X_test_real dataset.\n",
    "X_train, X_test, y_train, y_test = train_test_split(X_train_features, df_target,\n",
    "                                                                stratify=df_target, test_size = 0.40, random_state = 0)"
   ]
  },
  {
   "cell_type": "code",
   "execution_count": 45,
   "metadata": {},
   "outputs": [
    {
     "data": {
      "text/plain": [
       "((109248, 6019), (72832, 6019), 109248, 92608, 109248, 72832)"
      ]
     },
     "execution_count": 45,
     "metadata": {},
     "output_type": "execute_result"
    }
   ],
   "source": [
    "# checking the shape of train and test dataset. We have to make sure that the number of coumns are equal. Then check\n",
    "# number of approved and not approved records.\n",
    "X_train.shape, X_test.shape, y_train.count(), y_train.sum(), X_train.shape[0], X_test.shape[0]"
   ]
  },
  {
   "cell_type": "markdown",
   "metadata": {},
   "source": [
    "We have approximately 100K records for training and 72K records for testing. As we can see that out of 109248, majority class has 92608(approved) records which is like 85% percentage of the dataset. Hence our dataset is considered as **imbalanced dataset**.<br>\n",
    "we should not resample or disturb the X_test and y_test. These two will be used as test data for performance measures.<br>\n",
    "Let's check out the number of approved and not approved data in training data set. i.e X_train and y_train."
   ]
  },
  {
   "cell_type": "code",
   "execution_count": 46,
   "metadata": {
    "collapsed": true
   },
   "outputs": [],
   "source": [
    "# Resampling of training dataset: X_train_sm, y_train_sm\n",
    "sm = SMOTE(kind = \"regular\")\n",
    "X_train_sm, y_train_sm = sm.fit_sample(X_train, y_train)"
   ]
  },
  {
   "cell_type": "code",
   "execution_count": 47,
   "metadata": {},
   "outputs": [
    {
     "data": {
      "text/plain": [
       "(185216, 185216)"
      ]
     },
     "execution_count": 47,
     "metadata": {},
     "output_type": "execute_result"
    }
   ],
   "source": [
    "X_train_sm.shape[0] , y_train_sm.shape[0] # check number of columns after resample"
   ]
  },
  {
   "cell_type": "code",
   "execution_count": 48,
   "metadata": {
    "collapsed": true
   },
   "outputs": [],
   "source": [
    "# convert resampled target data into dataframe. It would help in checking the number of records in each class: y\n",
    "y=pd.DataFrame(y_train_sm, columns=['Approved'])"
   ]
  },
  {
   "cell_type": "code",
   "execution_count": 49,
   "metadata": {},
   "outputs": [
    {
     "data": {
      "text/plain": [
       "array([0, 1])"
      ]
     },
     "execution_count": 49,
     "metadata": {},
     "output_type": "execute_result"
    }
   ],
   "source": [
    "# make sure we have only two class.\n",
    "y.Approved.unique()"
   ]
  },
  {
   "cell_type": "code",
   "execution_count": 50,
   "metadata": {},
   "outputs": [
    {
     "data": {
      "text/plain": [
       "(92608, 92608)"
      ]
     },
     "execution_count": 50,
     "metadata": {},
     "output_type": "execute_result"
    }
   ],
   "source": [
    "# number of records in each class.\n",
    "(y.Approved == 1).sum(), (y.Approved == 0).sum()"
   ]
  },
  {
   "cell_type": "code",
   "execution_count": 51,
   "metadata": {
    "collapsed": true
   },
   "outputs": [],
   "source": [
    "# sub-sampling using StratifiedShuffleSplit: sss\n",
    "sss = StratifiedShuffleSplit(n_splits=5, test_size=0.25, random_state=42)"
   ]
  },
  {
   "cell_type": "markdown",
   "metadata": {},
   "source": [
    "### 2.1. LogisticRegression - A Linear model ###\n",
    "Linear models are also extensively used for classification. Let’s look at binary classification first. In this case, a prediction is made using the following formula:<br>\n",
    "\\begin{align*}\n",
    "&\\hat{y} = w[0] x[0] + w[1] x[1] + \\dotsc + w[p] * x[p] + b > 0 &\\text{ (1) linear\n",
    "binary classification}\n",
    "\\end{align*}\n",
    "The formula looks very similar to the one for linear regression, but instead of just returning the weighted sum of the features, we threshold the predicted value at zero. If the function was smaller than zero, we predict the class -1, if it was larger than zero, we predict the class +1.\n",
    "\n",
    "Our first model is **LogisticRegression**, used widely for the classification problems. We will use LogisticRegression with **GridSearchCV** to find the best parameters with this training dataset."
   ]
  },
  {
   "cell_type": "code",
   "execution_count": 52,
   "metadata": {
    "collapsed": true
   },
   "outputs": [],
   "source": [
    "# define range of C(regularization) parameter for logistic regression: param_grid\n",
    "param_grid = {'C': [0.01,1,100]}\n",
    "\n",
    "# model with GridSearchCV: lr_clf\n",
    "lr_clf = GridSearchCV(LogisticRegression(),param_grid, cv=sss)"
   ]
  },
  {
   "cell_type": "code",
   "execution_count": 53,
   "metadata": {},
   "outputs": [
    {
     "data": {
      "text/plain": [
       "GridSearchCV(cv=StratifiedShuffleSplit(n_splits=5, random_state=42, test_size=0.25,\n",
       "            train_size=None),\n",
       "       error_score='raise',\n",
       "       estimator=LogisticRegression(C=1.0, class_weight=None, dual=False, fit_intercept=True,\n",
       "          intercept_scaling=1, max_iter=100, multi_class='ovr', n_jobs=1,\n",
       "          penalty='l2', random_state=None, solver='liblinear', tol=0.0001,\n",
       "          verbose=0, warm_start=False),\n",
       "       fit_params=None, iid=True, n_jobs=1,\n",
       "       param_grid={'C': [0.01, 1, 100]}, pre_dispatch='2*n_jobs',\n",
       "       refit=True, return_train_score='warn', scoring=None, verbose=0)"
      ]
     },
     "execution_count": 53,
     "metadata": {},
     "output_type": "execute_result"
    }
   ],
   "source": [
    "# train the model\n",
    "lr_clf.fit(X_train_sm, y_train_sm)"
   ]
  },
  {
   "cell_type": "code",
   "execution_count": 54,
   "metadata": {},
   "outputs": [
    {
     "name": "stdout",
     "output_type": "stream",
     "text": [
      "Best Parameter: {'C': 1}\n",
      "Best score: 0.736826192122\n"
     ]
    }
   ],
   "source": [
    "# print the best parameter and best score\n",
    "print(\"Best Parameter:\", lr_clf.best_params_)\n",
    "print(\"Best score:\",lr_clf.best_score_)"
   ]
  },
  {
   "cell_type": "code",
   "execution_count": 55,
   "metadata": {},
   "outputs": [
    {
     "data": {
      "text/html": [
       "<div>\n",
       "<style>\n",
       "    .dataframe thead tr:only-child th {\n",
       "        text-align: right;\n",
       "    }\n",
       "\n",
       "    .dataframe thead th {\n",
       "        text-align: left;\n",
       "    }\n",
       "\n",
       "    .dataframe tbody tr th {\n",
       "        vertical-align: top;\n",
       "    }\n",
       "</style>\n",
       "<table border=\"1\" class=\"dataframe\">\n",
       "  <thead>\n",
       "    <tr style=\"text-align: right;\">\n",
       "      <th></th>\n",
       "      <th>mean_fit_time</th>\n",
       "      <th>mean_score_time</th>\n",
       "      <th>mean_test_score</th>\n",
       "      <th>mean_train_score</th>\n",
       "      <th>param_C</th>\n",
       "      <th>params</th>\n",
       "      <th>rank_test_score</th>\n",
       "      <th>split0_test_score</th>\n",
       "      <th>split0_train_score</th>\n",
       "      <th>split1_test_score</th>\n",
       "      <th>split1_train_score</th>\n",
       "      <th>split2_test_score</th>\n",
       "      <th>split2_train_score</th>\n",
       "      <th>split3_test_score</th>\n",
       "      <th>split3_train_score</th>\n",
       "      <th>split4_test_score</th>\n",
       "      <th>split4_train_score</th>\n",
       "      <th>std_fit_time</th>\n",
       "      <th>std_score_time</th>\n",
       "      <th>std_test_score</th>\n",
       "      <th>std_train_score</th>\n",
       "    </tr>\n",
       "  </thead>\n",
       "  <tbody>\n",
       "    <tr>\n",
       "      <th>0</th>\n",
       "      <td>100.223030</td>\n",
       "      <td>0.019244</td>\n",
       "      <td>0.695309</td>\n",
       "      <td>0.699352</td>\n",
       "      <td>0.01</td>\n",
       "      <td>{'C': 0.01}</td>\n",
       "      <td>3</td>\n",
       "      <td>0.695253</td>\n",
       "      <td>0.699292</td>\n",
       "      <td>0.693115</td>\n",
       "      <td>0.699781</td>\n",
       "      <td>0.696247</td>\n",
       "      <td>0.700191</td>\n",
       "      <td>0.696009</td>\n",
       "      <td>0.698953</td>\n",
       "      <td>0.695923</td>\n",
       "      <td>0.698543</td>\n",
       "      <td>15.267999</td>\n",
       "      <td>0.000900</td>\n",
       "      <td>0.001146</td>\n",
       "      <td>0.000584</td>\n",
       "    </tr>\n",
       "    <tr>\n",
       "      <th>1</th>\n",
       "      <td>162.810775</td>\n",
       "      <td>0.033612</td>\n",
       "      <td>0.736826</td>\n",
       "      <td>0.751433</td>\n",
       "      <td>1</td>\n",
       "      <td>{'C': 1}</td>\n",
       "      <td>1</td>\n",
       "      <td>0.744212</td>\n",
       "      <td>0.758639</td>\n",
       "      <td>0.742139</td>\n",
       "      <td>0.762958</td>\n",
       "      <td>0.735682</td>\n",
       "      <td>0.751821</td>\n",
       "      <td>0.735358</td>\n",
       "      <td>0.744522</td>\n",
       "      <td>0.726741</td>\n",
       "      <td>0.739223</td>\n",
       "      <td>18.058001</td>\n",
       "      <td>0.025170</td>\n",
       "      <td>0.006131</td>\n",
       "      <td>0.008738</td>\n",
       "    </tr>\n",
       "    <tr>\n",
       "      <th>2</th>\n",
       "      <td>172.265286</td>\n",
       "      <td>0.021919</td>\n",
       "      <td>0.735561</td>\n",
       "      <td>0.754737</td>\n",
       "      <td>100</td>\n",
       "      <td>{'C': 100}</td>\n",
       "      <td>2</td>\n",
       "      <td>0.720391</td>\n",
       "      <td>0.725107</td>\n",
       "      <td>0.739051</td>\n",
       "      <td>0.758387</td>\n",
       "      <td>0.741901</td>\n",
       "      <td>0.771632</td>\n",
       "      <td>0.742960</td>\n",
       "      <td>0.762029</td>\n",
       "      <td>0.733500</td>\n",
       "      <td>0.756529</td>\n",
       "      <td>16.246599</td>\n",
       "      <td>0.001998</td>\n",
       "      <td>0.008264</td>\n",
       "      <td>0.015704</td>\n",
       "    </tr>\n",
       "  </tbody>\n",
       "</table>\n",
       "</div>"
      ],
      "text/plain": [
       "   mean_fit_time  mean_score_time  mean_test_score  mean_train_score param_C  \\\n",
       "0     100.223030         0.019244         0.695309          0.699352    0.01   \n",
       "1     162.810775         0.033612         0.736826          0.751433       1   \n",
       "2     172.265286         0.021919         0.735561          0.754737     100   \n",
       "\n",
       "        params  rank_test_score  split0_test_score  split0_train_score  \\\n",
       "0  {'C': 0.01}                3           0.695253            0.699292   \n",
       "1     {'C': 1}                1           0.744212            0.758639   \n",
       "2   {'C': 100}                2           0.720391            0.725107   \n",
       "\n",
       "   split1_test_score  split1_train_score  split2_test_score  \\\n",
       "0           0.693115            0.699781           0.696247   \n",
       "1           0.742139            0.762958           0.735682   \n",
       "2           0.739051            0.758387           0.741901   \n",
       "\n",
       "   split2_train_score  split3_test_score  split3_train_score  \\\n",
       "0            0.700191           0.696009            0.698953   \n",
       "1            0.751821           0.735358            0.744522   \n",
       "2            0.771632           0.742960            0.762029   \n",
       "\n",
       "   split4_test_score  split4_train_score  std_fit_time  std_score_time  \\\n",
       "0           0.695923            0.698543     15.267999        0.000900   \n",
       "1           0.726741            0.739223     18.058001        0.025170   \n",
       "2           0.733500            0.756529     16.246599        0.001998   \n",
       "\n",
       "   std_test_score  std_train_score  \n",
       "0        0.001146         0.000584  \n",
       "1        0.006131         0.008738  \n",
       "2        0.008264         0.015704  "
      ]
     },
     "execution_count": 55,
     "metadata": {},
     "output_type": "execute_result"
    }
   ],
   "source": [
    "# check all the deatils regarding the model and its run: results_lr_clf\n",
    "results_lr_clf = pd.DataFrame(lr_clf.cv_results_)\n",
    "results_lr_clf.head()"
   ]
  },
  {
   "cell_type": "code",
   "execution_count": 167,
   "metadata": {
    "collapsed": true
   },
   "outputs": [],
   "source": [
    "# prediction on the test data: y_pred_lr_clf \n",
    "y_pred_lr_clf = lr_clf.predict(X_test)"
   ]
  },
  {
   "cell_type": "markdown",
   "metadata": {},
   "source": [
    "### Model Evaluation ####\n",
    "\n",
    "#### PR-Curve Vs RO-Curve - LogisticRegression ####"
   ]
  },
  {
   "cell_type": "code",
   "execution_count": 59,
   "metadata": {
    "collapsed": true
   },
   "outputs": [],
   "source": [
    "# calculate precision, recall and thresholds: precision_lr_clf, recall_lr_clf, thresholds_lr_clf\n",
    "precision_lr_clf, recall_lr_clf, thresholds_lr_clf = precision_recall_curve(y_test, lr_clf.decision_function(X_test))\n",
    "\n",
    "# find threshold close to 0 for pr: close_0_pr \n",
    "close_0_pr = np.argmin(np.abs(thresholds_lr_clf))\n",
    "\n",
    "# calculate fpr(flase positive rate), tpr(true positive rate) and thresholds: fpr_lr_clf, tpr_lr_clf, th_lr_clf\n",
    "fpr_lr_clf, tpr_lr_clf, th_lr_clf = roc_curve(y_test, lr_clf.decision_function(X_test))\n",
    "\n",
    "# find threshold close to 0 for roc: close_0_roc\n",
    "close_0_roc = np.argmin(np.abs(th_lr_clf))"
   ]
  },
  {
   "cell_type": "code",
   "execution_count": 110,
   "metadata": {},
   "outputs": [
    {
     "data": {
      "image/png": "[encoded data removed]",
      "text/plain": [
       "<matplotlib.figure.Figure at 0x1b86347d30>"
      ]
     },
     "metadata": {},
     "output_type": "display_data"
    }
   ],
   "source": [
    "# plot RO Curve\n",
    "plt.figure(figsize=(18, 6))\n",
    "plt.subplot(1,2,2)\n",
    "plt.plot(fpr_lr_clf[close_0_roc], tpr_lr_clf[close_0_roc], 'o', markersize=10, label=\"Threshold Zero\",\n",
    "        fillstyle=\"none\", c='k', mew=2)\n",
    "plt.plot(fpr_lr_clf, tpr_lr_clf, label=\"ROC Curve\")\n",
    "plt.title(\"ROC-Curve\", fontsize=16)\n",
    "plt.xlabel(\"FPR\", fontsize=16)\n",
    "plt.ylabel(\"TPR(Recall)\", fontsize=16)\n",
    "plt.legend(loc=\"best\", fontsize=12)\n",
    "\n",
    "# plot PR-Curve\n",
    "plt.subplot(1,2,1)\n",
    "plt.plot(precision_lr_clf[close_0_pr], recall_lr_clf[close_0_pr], 'o', markersize=10, label=\"Threshold Zero\",\n",
    "        fillstyle=\"none\", c='k', mew=2)\n",
    "plt.plot(precision_lr_clf, recall_lr_clf, label=\"Precision Recall curve\")\n",
    "plt.title(\"PR-Curve\", fontsize=16)\n",
    "plt.xlabel(\"Precision\", fontsize=16)\n",
    "plt.ylabel(\"Recall\", fontsize=16)\n",
    "plt.legend(loc=\"best\", fontsize=12)\n",
    "plt.show()"
   ]
  },
  {
   "cell_type": "code",
   "execution_count": 57,
   "metadata": {},
   "outputs": [
    {
     "name": "stdout",
     "output_type": "stream",
     "text": [
      "The Confusion Matrix for LogisticRegression:\n",
      " [[ 6761  4333]\n",
      " [16418 45320]]\n"
     ]
    }
   ],
   "source": [
    "# confusion Matrix: cm_lr_clf\n",
    "cm_lr_clf = confusion_matrix(y_test, y_pred_lr_clf)\n",
    "print(\"The Confusion Matrix for LogisticRegression:\\n\",cm_lr_clf )"
   ]
  },
  {
   "cell_type": "code",
   "execution_count": 58,
   "metadata": {},
   "outputs": [
    {
     "name": "stdout",
     "output_type": "stream",
     "text": [
      "             precision    recall  f1-score   support\n",
      "\n",
      "          0       0.29      0.61      0.39     11094\n",
      "          1       0.91      0.73      0.81     61738\n",
      "\n",
      "avg / total       0.82      0.72      0.75     72832\n",
      "\n"
     ]
    }
   ],
   "source": [
    "# print classification report\n",
    "print(classification_report(y_test, y_pred_lr_clf))"
   ]
  },
  {
   "cell_type": "code",
   "execution_count": 96,
   "metadata": {},
   "outputs": [
    {
     "name": "stdout",
     "output_type": "stream",
     "text": [
      "The ROC AUC Sore: 0.732563363492\n"
     ]
    }
   ],
   "source": [
    "# print ROC AUC acore for the model.\n",
    "roc_auc_lr_clf = roc_auc_score(y_test, lr_clf.decision_function(X_test))\n",
    "print(\"The ROC AUC Sore:\", roc_auc_lr_clf)"
   ]
  },
  {
   "cell_type": "code",
   "execution_count": 99,
   "metadata": {},
   "outputs": [
    {
     "name": "stdout",
     "output_type": "stream",
     "text": [
      "Average Precision for LogisticRegression: 0.929040869787\n"
     ]
    }
   ],
   "source": [
    "# calculation of average precision value: ap_lr_clf\n",
    "ap_lr_clf = average_precision_score(y_test, lr_clf.decision_function(X_test))\n",
    "print(\"Average Precision for LogisticRegression:\", ap_lr_clf)"
   ]
  },
  {
   "cell_type": "code",
   "execution_count": 156,
   "metadata": {},
   "outputs": [
    {
     "name": "stdout",
     "output_type": "stream",
     "text": [
      "The f1 score for the LosgisticRegression model: 0.813710263845\n"
     ]
    }
   ],
   "source": [
    "# Calculate the f1_score for the Linear model: f1_score_lr_clf\n",
    "f1_score_lr_clf = f1_score(y_test, y_pred_lr_clf)\n",
    "print(\"The f1 score for the LosgisticRegression model:\", f1_score_lr_clf)"
   ]
  },
  {
   "cell_type": "markdown",
   "metadata": {},
   "source": [
    "**Obeservations:** <br>\n",
    "   * As per the confusion matrix, the model was able to classify total of **52081** records correctly, which is like 72% correct prediction.\n",
    "   * Each point along the curve in **precision_recall_curve** corresponds to a possible threshold on the decision_function. We can see for example that we can achieve a recall of 0.4 at a precision of about 0.94. The black circle marks the point that corresponds to a threshold of zero, the default threshold for decision_function. This point is the trade-off that is chosen when calling the predict method.\n",
    "   * One particular way to summarize the precision-recall curve by computing the integral or area under the curve of the precision-recall curve, also known as **average precision**, which is 0.929 for our model. Because average precision is the area under a curve that goes from 0 to 1, average precision always returns a value between 0 (worst) and 1 (best). The average precision of a classifier that assigns decision_function at random is the fraction of positive samples in the dataset.\n",
    "   * For the **ROC curve**, the ideal curve is close to the top left: you want a classifier that produces a high recall while keeping a low false positive rate. Compared to the default threshold of zero, the curve shows that we could achieve a significant higher recall (around 0.9) while only increasing the FPR slightly. The point closes to the top left might be a better operating point than the one chosen by default.\n",
    "   * As for the precision-recall curve, we often want to summarize the ROC curve using a single number, the area under the curve. Often the **area under the ROC-curve** is just called **AUC** (area under the curve) and it is understood that the curve in question is the ROC curve. We can compute the area under the ROC curve using the roc_auc_score function. In our case this is .732\n"
   ]
  },
  {
   "cell_type": "markdown",
   "metadata": {},
   "source": [
    "### 2.2. MultinomialNB - Naive Bayes Classification ###\n",
    "Our second model is Naive Bayes Classifier. Naive Bayes classifiers are a family of classifiers that are quite similar to the linear models discussed above. However, they tend to be even faster in training. The price paid for this efficiency is that naive Bayes models often provide generalization performance that is slightly worse than linear classifiers. The reason that naive Bayes models are so efficient is that they learn parameters by looking at each feature individually, and collect simple per-class statistics from each feature. There are three kinds of naive Bayes classifiers implemented in scikit-learn, GaussianNB, BernoulliNB and MultinomialNB. We will be using **MultinomialNB**."
   ]
  },
  {
   "cell_type": "code",
   "execution_count": 66,
   "metadata": {
    "collapsed": true
   },
   "outputs": [],
   "source": [
    "# set the parameter which affects the model, for Naive Bayes it is alpha: param_grid\n",
    "param_grid = {'alpha':[0.001, 0.01, 0.1, 1, 10]}\n",
    "\n",
    "# Initiate the model with the GridSearchCV: mnb\n",
    "mnb = GridSearchCV(MultinomialNB(), param_grid, cv=sss)"
   ]
  },
  {
   "cell_type": "code",
   "execution_count": 67,
   "metadata": {},
   "outputs": [
    {
     "data": {
      "text/plain": [
       "GridSearchCV(cv=StratifiedShuffleSplit(n_splits=5, random_state=42, test_size=0.25,\n",
       "            train_size=None),\n",
       "       error_score='raise',\n",
       "       estimator=MultinomialNB(alpha=1.0, class_prior=None, fit_prior=True),\n",
       "       fit_params=None, iid=True, n_jobs=1,\n",
       "       param_grid={'alpha': [0.001, 0.01, 0.1, 1, 10]},\n",
       "       pre_dispatch='2*n_jobs', refit=True, return_train_score='warn',\n",
       "       scoring=None, verbose=0)"
      ]
     },
     "execution_count": 67,
     "metadata": {},
     "output_type": "execute_result"
    }
   ],
   "source": [
    "# train the model \n",
    "mnb.fit(X_train_sm, y_train_sm)"
   ]
  },
  {
   "cell_type": "code",
   "execution_count": 68,
   "metadata": {},
   "outputs": [
    {
     "name": "stdout",
     "output_type": "stream",
     "text": [
      "Best parameter: {'alpha': 0.001}\n",
      "Best score: 0.563432964755\n"
     ]
    }
   ],
   "source": [
    "# print best parameter and best score\n",
    "print(\"Best parameter:\", mnb.best_params_)\n",
    "print(\"Best score:\", mnb.best_score_)"
   ]
  },
  {
   "cell_type": "code",
   "execution_count": 69,
   "metadata": {},
   "outputs": [
    {
     "data": {
      "text/html": [
       "<div>\n",
       "<style>\n",
       "    .dataframe thead tr:only-child th {\n",
       "        text-align: right;\n",
       "    }\n",
       "\n",
       "    .dataframe thead th {\n",
       "        text-align: left;\n",
       "    }\n",
       "\n",
       "    .dataframe tbody tr th {\n",
       "        vertical-align: top;\n",
       "    }\n",
       "</style>\n",
       "<table border=\"1\" class=\"dataframe\">\n",
       "  <thead>\n",
       "    <tr style=\"text-align: right;\">\n",
       "      <th></th>\n",
       "      <th>mean_fit_time</th>\n",
       "      <th>mean_score_time</th>\n",
       "      <th>mean_test_score</th>\n",
       "      <th>mean_train_score</th>\n",
       "      <th>param_alpha</th>\n",
       "      <th>params</th>\n",
       "      <th>rank_test_score</th>\n",
       "      <th>split0_test_score</th>\n",
       "      <th>split0_train_score</th>\n",
       "      <th>split1_test_score</th>\n",
       "      <th>split1_train_score</th>\n",
       "      <th>split2_test_score</th>\n",
       "      <th>split2_train_score</th>\n",
       "      <th>split3_test_score</th>\n",
       "      <th>split3_train_score</th>\n",
       "      <th>split4_test_score</th>\n",
       "      <th>split4_train_score</th>\n",
       "      <th>std_fit_time</th>\n",
       "      <th>std_score_time</th>\n",
       "      <th>std_test_score</th>\n",
       "      <th>std_train_score</th>\n",
       "    </tr>\n",
       "  </thead>\n",
       "  <tbody>\n",
       "    <tr>\n",
       "      <th>0</th>\n",
       "      <td>1.140570</td>\n",
       "      <td>0.051459</td>\n",
       "      <td>0.563433</td>\n",
       "      <td>0.565270</td>\n",
       "      <td>0.001</td>\n",
       "      <td>{'alpha': 0.001}</td>\n",
       "      <td>1</td>\n",
       "      <td>0.563817</td>\n",
       "      <td>0.566603</td>\n",
       "      <td>0.563601</td>\n",
       "      <td>0.565315</td>\n",
       "      <td>0.570685</td>\n",
       "      <td>0.568374</td>\n",
       "      <td>0.556885</td>\n",
       "      <td>0.562291</td>\n",
       "      <td>0.562176</td>\n",
       "      <td>0.563767</td>\n",
       "      <td>0.728053</td>\n",
       "      <td>0.003561</td>\n",
       "      <td>0.004410</td>\n",
       "      <td>0.002124</td>\n",
       "    </tr>\n",
       "    <tr>\n",
       "      <th>1</th>\n",
       "      <td>0.667336</td>\n",
       "      <td>0.039889</td>\n",
       "      <td>0.563433</td>\n",
       "      <td>0.565270</td>\n",
       "      <td>0.01</td>\n",
       "      <td>{'alpha': 0.01}</td>\n",
       "      <td>1</td>\n",
       "      <td>0.563817</td>\n",
       "      <td>0.566603</td>\n",
       "      <td>0.563601</td>\n",
       "      <td>0.565315</td>\n",
       "      <td>0.570685</td>\n",
       "      <td>0.568374</td>\n",
       "      <td>0.556885</td>\n",
       "      <td>0.562291</td>\n",
       "      <td>0.562176</td>\n",
       "      <td>0.563767</td>\n",
       "      <td>0.006527</td>\n",
       "      <td>0.000072</td>\n",
       "      <td>0.004410</td>\n",
       "      <td>0.002124</td>\n",
       "    </tr>\n",
       "    <tr>\n",
       "      <th>2</th>\n",
       "      <td>0.683699</td>\n",
       "      <td>0.041539</td>\n",
       "      <td>0.563433</td>\n",
       "      <td>0.565267</td>\n",
       "      <td>0.1</td>\n",
       "      <td>{'alpha': 0.1}</td>\n",
       "      <td>1</td>\n",
       "      <td>0.563796</td>\n",
       "      <td>0.566603</td>\n",
       "      <td>0.563601</td>\n",
       "      <td>0.565315</td>\n",
       "      <td>0.570685</td>\n",
       "      <td>0.568360</td>\n",
       "      <td>0.556907</td>\n",
       "      <td>0.562291</td>\n",
       "      <td>0.562176</td>\n",
       "      <td>0.563767</td>\n",
       "      <td>0.019143</td>\n",
       "      <td>0.001688</td>\n",
       "      <td>0.004403</td>\n",
       "      <td>0.002119</td>\n",
       "    </tr>\n",
       "    <tr>\n",
       "      <th>3</th>\n",
       "      <td>0.699975</td>\n",
       "      <td>0.041673</td>\n",
       "      <td>0.563411</td>\n",
       "      <td>0.565247</td>\n",
       "      <td>1</td>\n",
       "      <td>{'alpha': 1}</td>\n",
       "      <td>4</td>\n",
       "      <td>0.563774</td>\n",
       "      <td>0.566560</td>\n",
       "      <td>0.563537</td>\n",
       "      <td>0.565308</td>\n",
       "      <td>0.570685</td>\n",
       "      <td>0.568353</td>\n",
       "      <td>0.556863</td>\n",
       "      <td>0.562241</td>\n",
       "      <td>0.562198</td>\n",
       "      <td>0.563774</td>\n",
       "      <td>0.043072</td>\n",
       "      <td>0.001401</td>\n",
       "      <td>0.004414</td>\n",
       "      <td>0.002125</td>\n",
       "    </tr>\n",
       "    <tr>\n",
       "      <th>4</th>\n",
       "      <td>0.679255</td>\n",
       "      <td>0.042805</td>\n",
       "      <td>0.563252</td>\n",
       "      <td>0.565116</td>\n",
       "      <td>10</td>\n",
       "      <td>{'alpha': 10}</td>\n",
       "      <td>5</td>\n",
       "      <td>0.563601</td>\n",
       "      <td>0.566416</td>\n",
       "      <td>0.563321</td>\n",
       "      <td>0.565207</td>\n",
       "      <td>0.570577</td>\n",
       "      <td>0.568194</td>\n",
       "      <td>0.556604</td>\n",
       "      <td>0.562147</td>\n",
       "      <td>0.562154</td>\n",
       "      <td>0.563616</td>\n",
       "      <td>0.016624</td>\n",
       "      <td>0.001571</td>\n",
       "      <td>0.004454</td>\n",
       "      <td>0.002109</td>\n",
       "    </tr>\n",
       "  </tbody>\n",
       "</table>\n",
       "</div>"
      ],
      "text/plain": [
       "   mean_fit_time  mean_score_time  mean_test_score  mean_train_score  \\\n",
       "0       1.140570         0.051459         0.563433          0.565270   \n",
       "1       0.667336         0.039889         0.563433          0.565270   \n",
       "2       0.683699         0.041539         0.563433          0.565267   \n",
       "3       0.699975         0.041673         0.563411          0.565247   \n",
       "4       0.679255         0.042805         0.563252          0.565116   \n",
       "\n",
       "  param_alpha            params  rank_test_score  split0_test_score  \\\n",
       "0       0.001  {'alpha': 0.001}                1           0.563817   \n",
       "1        0.01   {'alpha': 0.01}                1           0.563817   \n",
       "2         0.1    {'alpha': 0.1}                1           0.563796   \n",
       "3           1      {'alpha': 1}                4           0.563774   \n",
       "4          10     {'alpha': 10}                5           0.563601   \n",
       "\n",
       "   split0_train_score  split1_test_score  split1_train_score  \\\n",
       "0            0.566603           0.563601            0.565315   \n",
       "1            0.566603           0.563601            0.565315   \n",
       "2            0.566603           0.563601            0.565315   \n",
       "3            0.566560           0.563537            0.565308   \n",
       "4            0.566416           0.563321            0.565207   \n",
       "\n",
       "   split2_test_score  split2_train_score  split3_test_score  \\\n",
       "0           0.570685            0.568374           0.556885   \n",
       "1           0.570685            0.568374           0.556885   \n",
       "2           0.570685            0.568360           0.556907   \n",
       "3           0.570685            0.568353           0.556863   \n",
       "4           0.570577            0.568194           0.556604   \n",
       "\n",
       "   split3_train_score  split4_test_score  split4_train_score  std_fit_time  \\\n",
       "0            0.562291           0.562176            0.563767      0.728053   \n",
       "1            0.562291           0.562176            0.563767      0.006527   \n",
       "2            0.562291           0.562176            0.563767      0.019143   \n",
       "3            0.562241           0.562198            0.563774      0.043072   \n",
       "4            0.562147           0.562154            0.563616      0.016624   \n",
       "\n",
       "   std_score_time  std_test_score  std_train_score  \n",
       "0        0.003561        0.004410         0.002124  \n",
       "1        0.000072        0.004410         0.002124  \n",
       "2        0.001688        0.004403         0.002119  \n",
       "3        0.001401        0.004414         0.002125  \n",
       "4        0.001571        0.004454         0.002109  "
      ]
     },
     "execution_count": 69,
     "metadata": {},
     "output_type": "execute_result"
    }
   ],
   "source": [
    "# results converted into dataframes for detailed insight: mnb_results\n",
    "mnb_results = pd.DataFrame(mnb.cv_results_)\n",
    "mnb_results.head()"
   ]
  },
  {
   "cell_type": "markdown",
   "metadata": {},
   "source": [
    "If we look at the mean test/train score we can see that the alpha at 0.001, 0.01 and 0.1 are almost same. GridSearchCV has choosen alpha=0.001. The scores are not very good actually its bad. However let's see the model's performance on the test data."
   ]
  },
  {
   "cell_type": "code",
   "execution_count": 70,
   "metadata": {
    "collapsed": true
   },
   "outputs": [],
   "source": [
    "# prediction using the test data: y_pred_mnb\n",
    "y_pred_mnb = mnb.predict(X_test)"
   ]
  },
  {
   "cell_type": "markdown",
   "metadata": {},
   "source": [
    "### Model Evaluation ####\n",
    "#### PR-Curve Vs ROC-Curve  - MultinomialNB####"
   ]
  },
  {
   "cell_type": "code",
   "execution_count": 74,
   "metadata": {
    "collapsed": true
   },
   "outputs": [],
   "source": [
    "# calculate precision, recall and thresholds: precision_mnb, recall_mnb, thresholds_mnb\n",
    "precision_mnb, recall_mnb, thresholds_mnb = precision_recall_curve(y_test, mnb.predict_proba(X_test)[:,1])\n",
    "\n",
    "# find threshold close to 0: close_0_mnb\n",
    "close_0_mnb = np.argmin(np.abs(thresholds_mnb))\n",
    "\n",
    "# calculate fpr(flase positive rate), tpr(true positive rate) and thresholds: fpr_mnb, tpr_mnb, th_mnb \n",
    "fpr_mnb, tpr_mnb, th_mnb = roc_curve(y_test, mnb.predict_proba(X_test)[:,1])\n",
    "\n",
    "# find threshold close to 0: close_0_roc_mnb \n",
    "close_0_roc_mnb = np.argmin(np.abs(th_mnb))"
   ]
  },
  {
   "cell_type": "code",
   "execution_count": 109,
   "metadata": {},
   "outputs": [
    {
     "data": {
      "image/png": "[encoded data removed]",
      "text/plain": [
       "<matplotlib.figure.Figure at 0x1b6c796c88>"
      ]
     },
     "metadata": {},
     "output_type": "display_data"
    }
   ],
   "source": [
    "plt.figure(figsize=(18, 6))\n",
    "\n",
    "# plot PR-Curve\n",
    "plt.subplot(1,2,1)\n",
    "plt.plot(precision_mnb[close_0_mnb], recall_mnb[close_0_mnb], 'o',\n",
    "         markersize=10, label=\"Threshold Zero\", fillstyle=\"none\", c='k', mew=2)\n",
    "plt.plot(precision_mnb, recall_mnb, label=\"Precision Recall curve\")\n",
    "plt.title(\"PR-Curve\", fontsize=16)\n",
    "plt.xlabel(\"Precision\", fontsize=16)\n",
    "plt.ylabel(\"Recall\", fontsize=16)\n",
    "plt.legend(loc=\"best\", fontsize=12)\n",
    "\n",
    "# plot PR-Curve\n",
    "plt.subplot(1,2,2)\n",
    "plt.plot(fpr_mnb[close_0_roc_mnb], tpr_mnb[close_0_roc_mnb],\n",
    "         'o', markersize=10, label=\"Threshold Zero\", fillstyle=\"none\", c='k', mew=2)\n",
    "plt.plot(fpr_mnb, tpr_mnb, label=\"ROC Curve\")\n",
    "plt.title(\"RO-Curve\", fontsize=16)\n",
    "plt.xlabel(\"FPR\", fontsize=16)\n",
    "plt.ylabel(\"TPR(Recall)\", fontsize=16)\n",
    "plt.legend(loc=\"best\", fontsize=12)\n",
    "plt.show()"
   ]
  },
  {
   "cell_type": "code",
   "execution_count": 72,
   "metadata": {},
   "outputs": [
    {
     "name": "stdout",
     "output_type": "stream",
     "text": [
      "The confusion matrix for Naive Bayes Multinomial classifier:\n",
      " [[ 6415  4679]\n",
      " [28581 33157]]\n"
     ]
    }
   ],
   "source": [
    "# confusion Matrix: cm_mnb\n",
    "cm_mnb = confusion_matrix(y_test, y_pred_mnb)\n",
    "\n",
    "print(\"The confusion matrix for Naive Bayes Multinomial classifier:\\n\", cm_mnb)"
   ]
  },
  {
   "cell_type": "code",
   "execution_count": 73,
   "metadata": {},
   "outputs": [
    {
     "name": "stdout",
     "output_type": "stream",
     "text": [
      "             precision    recall  f1-score   support\n",
      "\n",
      "          0       0.18      0.58      0.28     11094\n",
      "          1       0.88      0.54      0.67     61738\n",
      "\n",
      "avg / total       0.77      0.54      0.61     72832\n",
      "\n"
     ]
    }
   ],
   "source": [
    "# Classification Report\n",
    "print(classification_report(y_test, y_pred_mnb))"
   ]
  },
  {
   "cell_type": "code",
   "execution_count": 101,
   "metadata": {},
   "outputs": [
    {
     "name": "stdout",
     "output_type": "stream",
     "text": [
      "The average Precision score for MultinomialNB is: 0.874624917163\n"
     ]
    }
   ],
   "source": [
    "# calculate and print average precision score: ap_mnb\n",
    "ap_mnb = average_precision_score(y_test, mnb.predict_proba(X_test)[:,1])\n",
    "print(\"The average Precision score for MultinomialNB is:\", ap_mnb)"
   ]
  },
  {
   "cell_type": "code",
   "execution_count": 88,
   "metadata": {},
   "outputs": [
    {
     "name": "stdout",
     "output_type": "stream",
     "text": [
      "The ROC AUC Sore: 0.577770717454\n"
     ]
    }
   ],
   "source": [
    "# print ROC AUC acore for the model.\n",
    "roc_auc_mnb = roc_auc_score(y_test, mnb.predict_proba(X_test)[:,1])\n",
    "print(\"The ROC AUC Sore:\", roc_auc_mnb)"
   ]
  },
  {
   "cell_type": "code",
   "execution_count": 166,
   "metadata": {},
   "outputs": [
    {
     "name": "stdout",
     "output_type": "stream",
     "text": [
      "The f1-score for MultinomialNB model is: 0.665977062285\n"
     ]
    }
   ],
   "source": [
    "# calculate the f1 score for Naive Bayes model: f1_mnb\n",
    "f1_mnb = f1_score(y_test, y_pred_mnb)\n",
    "print(\"The f1-score for MultinomialNB model is:\",f1_mnb)"
   ]
  },
  {
   "cell_type": "markdown",
   "metadata": {},
   "source": [
    "**Observations**:\n",
    " * As per the confusion matrix the total number of correct prediction is  **39572** which is only around 55%.\n",
    " * The PR-Curve and the ROC curve looks very bad. The f1-score is less than .60 whici is considered to be very bad.\n",
    " * It looks like this model is not better than the Linear Model LogisticRegression(). Let's now take a look at Decision Tree. And will directly move to random forest becuase ensable give better result than simple tree.\n",
    " * The average pricision score is lesser than that of LogisticRegression, same is the case with ROC AUC score."
   ]
  },
  {
   "cell_type": "markdown",
   "metadata": {},
   "source": [
    "### 2.3. RandomForestClassifier ###\n",
    "A main drawback of decision trees is that they tend to overfit the training data. Random forests are one way to address this problem. Random forests are essentially a collection of decision trees, where each tree is slightly different from the others. The idea of random forests is that each tree might do a relatively good job of predicting,\n",
    "but will likely overfit on part of the data. If we build many trees, all of which work well and overfit in different ways, we can reduce the amount of overfitting by averaging their results. This reduction in overfitting, while retaining the predictive power of the trees, can be shown using rigorous mathematics.\n",
    "\n",
    "Using GridSearchCV for the RandomForestClassifier for this big dataset, the training is taking more than 4hrs to complete. Hence for RandomForestClassifier I will be setting these **hyperparameter** manually and will compare the three different models.\n",
    "\n",
    "There are two hyperparameters of our interest here, **n_estimators** and **max_depth**"
   ]
  },
  {
   "cell_type": "code",
   "execution_count": 77,
   "metadata": {},
   "outputs": [
    {
     "data": {
      "text/plain": [
       "RandomForestClassifier(bootstrap=True, class_weight=None, criterion='gini',\n",
       "            max_depth=100, max_features='auto', max_leaf_nodes=None,\n",
       "            min_impurity_decrease=0.0, min_impurity_split=None,\n",
       "            min_samples_leaf=1, min_samples_split=2,\n",
       "            min_weight_fraction_leaf=0.0, n_estimators=5, n_jobs=1,\n",
       "            oob_score=False, random_state=None, verbose=0,\n",
       "            warm_start=False)"
      ]
     },
     "execution_count": 77,
     "metadata": {},
     "output_type": "execute_result"
    }
   ],
   "source": [
    "# setting n_estimators = 5 and max depth = 100: rf_clf5\n",
    "rf_clf5 = RandomForestClassifier(n_estimators=5, max_depth=100, n_jobs=-1)\n",
    "\n",
    "# train the model\n",
    "rf_clf5.fit(X_train_sm, y_train_sm)"
   ]
  },
  {
   "cell_type": "code",
   "execution_count": 78,
   "metadata": {
    "collapsed": true
   },
   "outputs": [],
   "source": [
    "# predict the test data: y_pred_rf5\n",
    "y_pred_rf5 = rf_clf5.predict(X_test)"
   ]
  },
  {
   "cell_type": "code",
   "execution_count": 79,
   "metadata": {},
   "outputs": [
    {
     "name": "stdout",
     "output_type": "stream",
     "text": [
      "             precision    recall  f1-score   support\n",
      "\n",
      "          0       0.25      0.22      0.24     11094\n",
      "          1       0.86      0.88      0.87     61738\n",
      "\n",
      "avg / total       0.77      0.78      0.77     72832\n",
      "\n"
     ]
    }
   ],
   "source": [
    "# print classification report which has summary for precision, recall and f1 score.\n",
    "print(classification_report(y_test, y_pred_rf5))"
   ]
  },
  {
   "cell_type": "code",
   "execution_count": 80,
   "metadata": {},
   "outputs": [
    {
     "data": {
      "text/plain": [
       "RandomForestClassifier(bootstrap=True, class_weight=None, criterion='gini',\n",
       "            max_depth=100, max_features='auto', max_leaf_nodes=None,\n",
       "            min_impurity_decrease=0.0, min_impurity_split=None,\n",
       "            min_samples_leaf=1, min_samples_split=2,\n",
       "            min_weight_fraction_leaf=0.0, n_estimators=10, n_jobs=1,\n",
       "            oob_score=False, random_state=None, verbose=0,\n",
       "            warm_start=False)"
      ]
     },
     "execution_count": 80,
     "metadata": {},
     "output_type": "execute_result"
    }
   ],
   "source": [
    "# setting n_estimators = 10 and max depth = 100: rf_clf10\n",
    "rf_clf10 = RandomForestClassifier(n_estimators=10, max_depth=100, n_jobs=-1)\n",
    "\n",
    "# train the model\n",
    "rf_clf10.fit(X_train_sm, y_train_sm)"
   ]
  },
  {
   "cell_type": "code",
   "execution_count": 83,
   "metadata": {
    "collapsed": true
   },
   "outputs": [],
   "source": [
    "# predict the test data: y_pred_rf10\n",
    "y_pred_rf10 = rf_clf10.predict(X_test)"
   ]
  },
  {
   "cell_type": "code",
   "execution_count": 84,
   "metadata": {},
   "outputs": [
    {
     "name": "stdout",
     "output_type": "stream",
     "text": [
      "             precision    recall  f1-score   support\n",
      "\n",
      "          0       0.27      0.24      0.25     11094\n",
      "          1       0.87      0.88      0.87     61738\n",
      "\n",
      "avg / total       0.77      0.78      0.78     72832\n",
      "\n"
     ]
    }
   ],
   "source": [
    "# print classification report which has summary for precision, recall and f1 score.\n",
    "print(classification_report(y_test, y_pred_rf10))"
   ]
  },
  {
   "cell_type": "markdown",
   "metadata": {},
   "source": [
    "As we can see the f1-score is almost same for n_estimators 5 and 10. Now we will build the model with n_estimators = 100 and check what is the improvement in the f1-score."
   ]
  },
  {
   "cell_type": "code",
   "execution_count": 85,
   "metadata": {},
   "outputs": [
    {
     "data": {
      "text/plain": [
       "RandomForestClassifier(bootstrap=True, class_weight=None, criterion='gini',\n",
       "            max_depth=100, max_features='auto', max_leaf_nodes=None,\n",
       "            min_impurity_decrease=0.0, min_impurity_split=None,\n",
       "            min_samples_leaf=1, min_samples_split=2,\n",
       "            min_weight_fraction_leaf=0.0, n_estimators=100, n_jobs=1,\n",
       "            oob_score=False, random_state=None, verbose=0,\n",
       "            warm_start=False)"
      ]
     },
     "execution_count": 85,
     "metadata": {},
     "output_type": "execute_result"
    }
   ],
   "source": [
    "# setting n_estimators = 5 and max depth = 100: rf_clf5\n",
    "rf_clf100 = RandomForestClassifier(n_estimators=100, max_depth=100, n_jobs=-1)\n",
    "\n",
    "# train the model\n",
    "rf_clf100.fit(X_train_sm, y_train_sm)"
   ]
  },
  {
   "cell_type": "code",
   "execution_count": 86,
   "metadata": {
    "collapsed": true
   },
   "outputs": [],
   "source": [
    "# predict the test data: y_pred_rf5\n",
    "y_pred_rf100 = rf_clf100.predict(X_test)"
   ]
  },
  {
   "cell_type": "markdown",
   "metadata": {},
   "source": [
    "### Model Evaluation ####\n",
    "#### PR-Curve Vs ROC-Curve - RandomForestClassifier ####"
   ]
  },
  {
   "cell_type": "code",
   "execution_count": 91,
   "metadata": {},
   "outputs": [],
   "source": [
    "# calculate precision, recall and thresholds: precision_rf100, recall_rf100, thresholds_rf100\n",
    "precision_rf100, recall_rf100, thresholds_rf100 = precision_recall_curve(y_test, rf_clf100.predict_proba(X_test)[:,1])\n",
    "\n",
    "# find threshold close to 0: close_0_rf100\n",
    "close_0_rf100 = np.argmin(np.abs(thresholds_rf100))\n",
    "\n",
    "# calculate fpr(flase positive rate), tpr(true positive rate) and thresholds: fpr_rf100, tpr_rf100, th_rf100\n",
    "fpr_rf100, tpr_rf100, th_rf100 = roc_curve(y_test, rf_clf100.predict_proba(X_test)[:,1])\n",
    "\n",
    "# find threshold close to 0: close_0_roc_rf100 \n",
    "close_0_roc_rf100 = np.argmin(np.abs(th_rf100))"
   ]
  },
  {
   "cell_type": "code",
   "execution_count": 108,
   "metadata": {},
   "outputs": [
    {
     "data": {
      "image/png": "[encoded data removed]",
      "text/plain": [
       "<matplotlib.figure.Figure at 0x1b7455fcc0>"
      ]
     },
     "metadata": {},
     "output_type": "display_data"
    }
   ],
   "source": [
    "plt.figure(figsize=(18, 6))\n",
    "\n",
    "# plot PR-Curve\n",
    "plt.subplot(1,2,1)\n",
    "plt.plot(precision_rf100[close_0_rf100], recall_rf100[close_0_rf100], 'o',\n",
    "         markersize=10, label=\"Threshold Zero\", fillstyle=\"none\", c='k', mew=2)\n",
    "plt.plot(precision_rf100, recall_rf100, label=\"Precision Recall curve\")\n",
    "plt.title(\"PR-Curve\", fontsize=16)\n",
    "plt.xlabel(\"Precision\", fontsize=16)\n",
    "plt.ylabel(\"Recall\", fontsize=16)\n",
    "plt.legend(loc=\"best\", fontsize=12)\n",
    "\n",
    "# plot PR-Curve\n",
    "plt.subplot(1,2,2)\n",
    "plt.plot(fpr_rf100[close_0_roc_rf100], tpr_rf100[close_0_roc_rf100],\n",
    "         'o', markersize=10, label=\"Threshold Zero\", fillstyle=\"none\", c='k', mew=2)\n",
    "plt.plot(fpr_rf100, tpr_rf100, label=\"ROC Curve\")\n",
    "plt.title(\"ROC-Curve\", fontsize=16)\n",
    "plt.xlabel(\"FPR\", fontsize=16)\n",
    "plt.ylabel(\"TPR(Recall)\", fontsize=16)\n",
    "plt.legend(loc=\"best\", fontsize=12)\n",
    "plt.show()"
   ]
  },
  {
   "cell_type": "code",
   "execution_count": 153,
   "metadata": {},
   "outputs": [
    {
     "name": "stdout",
     "output_type": "stream",
     "text": [
      "The confusion matrix for Random Forest:\n",
      " [[ 1192  9902]\n",
      " [ 2315 59423]]\n"
     ]
    }
   ],
   "source": [
    "cm_rf100 = confusion_matrix(y_test, y_pred_rf100)\n",
    "print(\"The confusion matrix for Random Forest:\\n\", cm_rf100)"
   ]
  },
  {
   "cell_type": "code",
   "execution_count": 87,
   "metadata": {},
   "outputs": [
    {
     "name": "stdout",
     "output_type": "stream",
     "text": [
      "             precision    recall  f1-score   support\n",
      "\n",
      "          0       0.34      0.11      0.16     11094\n",
      "          1       0.86      0.96      0.91     61738\n",
      "\n",
      "avg / total       0.78      0.83      0.79     72832\n",
      "\n"
     ]
    }
   ],
   "source": [
    "# print classification report which has summary for precision, recall and f1 score.\n",
    "print(classification_report(y_test, y_pred_rf100))"
   ]
  },
  {
   "cell_type": "code",
   "execution_count": 103,
   "metadata": {},
   "outputs": [
    {
     "name": "stdout",
     "output_type": "stream",
     "text": [
      "The average precision score for RandomForest is: 0.916630708901\n"
     ]
    }
   ],
   "source": [
    "# calulate the average precision score for random forest: ap_rf100\n",
    "ap_rf100 = average_precision_score(y_test, rf_clf100.predict_proba(X_test)[:,1])\n",
    "print(\"The average precision score for RandomForest is:\", ap_rf100)"
   ]
  },
  {
   "cell_type": "code",
   "execution_count": 94,
   "metadata": {},
   "outputs": [
    {
     "name": "stdout",
     "output_type": "stream",
     "text": [
      "The ROC AUC Sore: 0.686824206735\n"
     ]
    }
   ],
   "source": [
    "# print ROC AUC acore for the model.\n",
    "roc_auc_rf100 = roc_auc_score(y_test, rf_clf100.predict_proba(X_test)[:,1])\n",
    "print(\"The ROC AUC Sore:\", roc_auc_rf100)"
   ]
  },
  {
   "cell_type": "code",
   "execution_count": 157,
   "metadata": {},
   "outputs": [
    {
     "name": "stdout",
     "output_type": "stream",
     "text": [
      "The f1 score for the RandomForest model: 0.906785286465\n"
     ]
    }
   ],
   "source": [
    "f1_score_rf100 = f1_score(y_test, y_pred_rf100)\n",
    "print(\"The f1 score for the RandomForest model:\", f1_score_rf100)"
   ]
  },
  {
   "cell_type": "markdown",
   "metadata": {},
   "source": [
    "**Observations**\n",
    "* This model is definitely better than the Naive Bayes, but looks similar to Linear Model.\n",
    "* The average precision score is quite good at .916 where as the ROC AUC score is 0.689 which is lesser than the Linear model.\n",
    "* From confusion matrix we can see that almost 83% of records were classified correctly. Which is better than other two models.\n",
    "\n",
    "Since Linear and Decision Tree models are looking similar in performance we will comapre only **LogisticRegression** and **RandomForest** models and then choose one for the final prediction on real data. The best way to do this would be  plotting them together and comparing the two scores, average precision and ROC AUC scores. Lets start with the plot."
   ]
  },
  {
   "cell_type": "markdown",
   "metadata": {},
   "source": [
    "### Comparison between LogisticRegression and RondomForest ###"
   ]
  },
  {
   "cell_type": "code",
   "execution_count": 112,
   "metadata": {},
   "outputs": [
    {
     "data": {
      "image/png": "[encoded data removed]",
      "text/plain": [
       "<matplotlib.figure.Figure at 0x1b6b8a60f0>"
      ]
     },
     "metadata": {},
     "output_type": "display_data"
    }
   ],
   "source": [
    "# Plot the two curves PR and ROC together for both the models.\n",
    "plt.figure(figsize=(18, 6))\n",
    "plt.subplot(1,2,2)\n",
    "\n",
    "plt.plot(fpr_lr_clf[close_0_roc], tpr_lr_clf[close_0_roc], 'o', markersize=10, label=\"Threshold 0 LR\",\n",
    "        fillstyle=\"none\", c='k', mew=2)\n",
    "plt.plot(fpr_lr_clf, tpr_lr_clf, label=\"ROC Curve LogisticRegression\")\n",
    "\n",
    "plt.plot(fpr_rf100[close_0_roc_rf100], tpr_rf100[close_0_roc_rf100],\n",
    "         'o', markersize=10, label=\"Threshold 0 RF\", fillstyle=\"none\", c='k', mew=2)\n",
    "plt.plot(fpr_rf100, tpr_rf100, label=\"ROC Curve RandomForest\")\n",
    "\n",
    "plt.title(\"ROC-Curve\", fontsize=16)\n",
    "plt.xlabel(\"FPR\", fontsize=16)\n",
    "plt.ylabel(\"TPR(Recall)\", fontsize=16)\n",
    "plt.legend(loc=\"best\", fontsize=12)\n",
    "\n",
    "# plot PR-Curve\n",
    "plt.subplot(1,2,1)\n",
    "\n",
    "plt.plot(precision_lr_clf[close_0_pr], recall_lr_clf[close_0_pr], 'o', markersize=10,\n",
    "         label=\"Threshold 0 LR\", fillstyle=\"none\", c='k', mew=2)\n",
    "plt.plot(precision_lr_clf, recall_lr_clf, label=\"PR-curve LogisticRegression\")\n",
    "\n",
    "plt.plot(precision_rf100[close_0_rf100], recall_rf100[close_0_rf100], 'o',\n",
    "         markersize=10, label=\"Threshold 0 RF\", fillstyle=\"none\", c='k', mew=2)\n",
    "plt.plot(precision_rf100, recall_rf100, label=\"PR-curve RandomForest\")\n",
    "\n",
    "plt.title(\"PR-Curve\", fontsize=16)\n",
    "plt.xlabel(\"Precision\", fontsize=16)\n",
    "plt.ylabel(\"Recall\", fontsize=16)\n",
    "plt.legend(loc=\"best\", fontsize=12)\n",
    "plt.show()"
   ]
  },
  {
   "cell_type": "markdown",
   "metadata": {},
   "source": [
    "Clearly **Logistic Model** is better for the dataset. Let's check out the scores to confirm the above visualization."
   ]
  },
  {
   "cell_type": "code",
   "execution_count": 130,
   "metadata": {},
   "outputs": [
    {
     "data": {
      "text/plain": [
       "[0.7325633634921821, 0.68682420673536815]"
      ]
     },
     "execution_count": 130,
     "metadata": {},
     "output_type": "execute_result"
    }
   ],
   "source": [
    "# stores the roc, average precision and f1 scores in 3 seperate list: scores_ROC_AUC, scores_avg_precision, scores_f1\n",
    "scores_ROC_AUC = [roc_auc_lr_clf, roc_auc_rf100]\n",
    "scores_avg_precision = [ap_lr_clf, ap_rf100]\n",
    "scores_f1 = [f1_score_lr_clf, f1_score_rf100]"
   ]
  },
  {
   "cell_type": "code",
   "execution_count": null,
   "metadata": {
    "collapsed": true
   },
   "outputs": [],
   "source": [
    "# list of model name: model_name\n",
    "model_name = ['LR', 'RF']\n",
    "model_name"
   ]
  },
  {
   "cell_type": "code",
   "execution_count": 140,
   "metadata": {
    "collapsed": true
   },
   "outputs": [],
   "source": [
    "# convert list in to pandas dataframe: df_roc, df_ap, df_f1\n",
    "df_roc = pd.DataFrame(np.array(scores_ROC_AUC).reshape(1,2), columns = model_name)\n",
    "df_ap = pd.DataFrame(np.array(scores_avg_precision).reshape(1,2), columns = model_name)\n",
    "df_f1 = pd.DataFrame(np.array(scores_f1).reshape(1,2), columns = model_name)"
   ]
  },
  {
   "cell_type": "code",
   "execution_count": 161,
   "metadata": {
    "collapsed": true
   },
   "outputs": [],
   "source": [
    "# Concat 3 dataframes into one Dataframe: df_scores\n",
    "df_scores = pd.concat([df_roc, df_ap, df_f1]).reset_index()"
   ]
  },
  {
   "cell_type": "code",
   "execution_count": 162,
   "metadata": {},
   "outputs": [
    {
     "data": {
      "text/html": [
       "<div>\n",
       "<style>\n",
       "    .dataframe thead tr:only-child th {\n",
       "        text-align: right;\n",
       "    }\n",
       "\n",
       "    .dataframe thead th {\n",
       "        text-align: left;\n",
       "    }\n",
       "\n",
       "    .dataframe tbody tr th {\n",
       "        vertical-align: top;\n",
       "    }\n",
       "</style>\n",
       "<table border=\"1\" class=\"dataframe\">\n",
       "  <thead>\n",
       "    <tr style=\"text-align: right;\">\n",
       "      <th></th>\n",
       "      <th>index</th>\n",
       "      <th>LR</th>\n",
       "      <th>RF</th>\n",
       "    </tr>\n",
       "  </thead>\n",
       "  <tbody>\n",
       "    <tr>\n",
       "      <th>0</th>\n",
       "      <td>0</td>\n",
       "      <td>0.732563</td>\n",
       "      <td>0.686824</td>\n",
       "    </tr>\n",
       "    <tr>\n",
       "      <th>1</th>\n",
       "      <td>0</td>\n",
       "      <td>0.929041</td>\n",
       "      <td>0.916631</td>\n",
       "    </tr>\n",
       "    <tr>\n",
       "      <th>2</th>\n",
       "      <td>0</td>\n",
       "      <td>0.813710</td>\n",
       "      <td>0.906785</td>\n",
       "    </tr>\n",
       "  </tbody>\n",
       "</table>\n",
       "</div>"
      ],
      "text/plain": [
       "   index        LR        RF\n",
       "0      0  0.732563  0.686824\n",
       "1      0  0.929041  0.916631\n",
       "2      0  0.813710  0.906785"
      ]
     },
     "execution_count": 162,
     "metadata": {},
     "output_type": "execute_result"
    }
   ],
   "source": [
    "df_scores.head()"
   ]
  },
  {
   "cell_type": "code",
   "execution_count": 163,
   "metadata": {},
   "outputs": [],
   "source": [
    "# dopr the extra column from the dataframe\n",
    "df_scores.drop('index', inplace=True, axis=1)"
   ]
  },
  {
   "cell_type": "code",
   "execution_count": 164,
   "metadata": {},
   "outputs": [
    {
     "data": {
      "text/html": [
       "<div>\n",
       "<style>\n",
       "    .dataframe thead tr:only-child th {\n",
       "        text-align: right;\n",
       "    }\n",
       "\n",
       "    .dataframe thead th {\n",
       "        text-align: left;\n",
       "    }\n",
       "\n",
       "    .dataframe tbody tr th {\n",
       "        vertical-align: top;\n",
       "    }\n",
       "</style>\n",
       "<table border=\"1\" class=\"dataframe\">\n",
       "  <thead>\n",
       "    <tr style=\"text-align: right;\">\n",
       "      <th></th>\n",
       "      <th>LR</th>\n",
       "      <th>RF</th>\n",
       "    </tr>\n",
       "    <tr>\n",
       "      <th>score_name</th>\n",
       "      <th></th>\n",
       "      <th></th>\n",
       "    </tr>\n",
       "  </thead>\n",
       "  <tbody>\n",
       "    <tr>\n",
       "      <th>ROC-AUC</th>\n",
       "      <td>0.732563</td>\n",
       "      <td>0.686824</td>\n",
       "    </tr>\n",
       "    <tr>\n",
       "      <th>AVG-Precision</th>\n",
       "      <td>0.929041</td>\n",
       "      <td>0.916631</td>\n",
       "    </tr>\n",
       "    <tr>\n",
       "      <th>F1-Score</th>\n",
       "      <td>0.813710</td>\n",
       "      <td>0.906785</td>\n",
       "    </tr>\n",
       "  </tbody>\n",
       "</table>\n",
       "</div>"
      ],
      "text/plain": [
       "                     LR        RF\n",
       "score_name                       \n",
       "ROC-AUC        0.732563  0.686824\n",
       "AVG-Precision  0.929041  0.916631\n",
       "F1-Score       0.813710  0.906785"
      ]
     },
     "execution_count": 164,
     "metadata": {},
     "output_type": "execute_result"
    }
   ],
   "source": [
    "# insert the column of score names in the score dataframe. Print the dataframe.\n",
    "score_name = ['ROC-AUC', 'AVG-Precision', 'F1-Score']\n",
    "df_scores['score_name']  = score_name\n",
    "df_scores = df_scores.set_index('score_name')\n",
    "df_scores.head()"
   ]
  },
  {
   "cell_type": "code",
   "execution_count": 165,
   "metadata": {},
   "outputs": [
    {
     "data": {
      "text/plain": [
       "<matplotlib.figure.Figure at 0x1b6bc33978>"
      ]
     },
     "metadata": {},
     "output_type": "display_data"
    },
    {
     "data": {
      "image/png": "[encoded data removed]",
      "text/plain": [
       "<matplotlib.figure.Figure at 0x1b81572588>"
      ]
     },
     "metadata": {},
     "output_type": "display_data"
    }
   ],
   "source": [
    "# Bar Plot for better comparison of the two models.\n",
    "plt.figure(figsize=(15, 8))\n",
    "df_scores.plot.bar(cmap = 'viridis', fontsize=16, rot=360)\n",
    "plt.title(\"Score Comparison\",fontsize=16 )\n",
    "plt.xlabel(\"Model Name\", fontsize=16)\n",
    "plt.ylabel(\"Values\", fontsize=16)\n",
    "plt.legend(loc=\"upper left\", fontsize=16)\n",
    "plt.show()"
   ]
  },
  {
   "cell_type": "markdown",
   "metadata": {},
   "source": [
    "So we have **LogisticRegression (LR)** model, which has better **ROC-AUC** and **Average Precision Score**. On the Other hand **RandomForest (RF)** has better **F1-Score** and __Confusion Matrix__ tells that the number of correct prediction is better than the **LR** model. Hence we will be using both this models to predict the real test data."
   ]
  },
  {
   "cell_type": "markdown",
   "metadata": {},
   "source": [
    "### Prediction on Real test dataset ###\n",
    "** LogisticRegression **"
   ]
  },
  {
   "cell_type": "code",
   "execution_count": 169,
   "metadata": {
    "collapsed": true
   },
   "outputs": [],
   "source": [
    "# predict the real test data using lr_clf model: y_real_pred_lr_clf\n",
    "y_real_pred_lr_clf = lr_clf.predict(X_test_real)"
   ]
  },
  {
   "cell_type": "code",
   "execution_count": 182,
   "metadata": {},
   "outputs": [
    {
     "data": {
      "text/html": [
       "<div>\n",
       "<style>\n",
       "    .dataframe thead tr:only-child th {\n",
       "        text-align: right;\n",
       "    }\n",
       "\n",
       "    .dataframe thead th {\n",
       "        text-align: left;\n",
       "    }\n",
       "\n",
       "    .dataframe tbody tr th {\n",
       "        vertical-align: top;\n",
       "    }\n",
       "</style>\n",
       "<table border=\"1\" class=\"dataframe\">\n",
       "  <thead>\n",
       "    <tr style=\"text-align: right;\">\n",
       "      <th></th>\n",
       "      <th>LR_project_is_approved</th>\n",
       "    </tr>\n",
       "  </thead>\n",
       "  <tbody>\n",
       "    <tr>\n",
       "      <th>0</th>\n",
       "      <td>1</td>\n",
       "    </tr>\n",
       "    <tr>\n",
       "      <th>1</th>\n",
       "      <td>1</td>\n",
       "    </tr>\n",
       "    <tr>\n",
       "      <th>2</th>\n",
       "      <td>1</td>\n",
       "    </tr>\n",
       "    <tr>\n",
       "      <th>3</th>\n",
       "      <td>1</td>\n",
       "    </tr>\n",
       "    <tr>\n",
       "      <th>4</th>\n",
       "      <td>1</td>\n",
       "    </tr>\n",
       "  </tbody>\n",
       "</table>\n",
       "</div>"
      ],
      "text/plain": [
       "   LR_project_is_approved\n",
       "0                       1\n",
       "1                       1\n",
       "2                       1\n",
       "3                       1\n",
       "4                       1"
      ]
     },
     "execution_count": 182,
     "metadata": {},
     "output_type": "execute_result"
    }
   ],
   "source": [
    "# convert this array into a dataframe: df_real_test_lr\n",
    "df_real_test_lr = pd.DataFrame(y_real_pred_lr_clf, columns=['LR_project_is_approved'])\n",
    "df_real_test_lr.head(5)"
   ]
  },
  {
   "cell_type": "code",
   "execution_count": 173,
   "metadata": {
    "collapsed": true
   },
   "outputs": [],
   "source": [
    "# predict probability of each record used for classification: predict_prob_lr_clf\n",
    "predict_prob_lr_clf = lr_clf.predict_proba(X_test_real)"
   ]
  },
  {
   "cell_type": "code",
   "execution_count": 176,
   "metadata": {},
   "outputs": [
    {
     "data": {
      "text/html": [
       "<div>\n",
       "<style>\n",
       "    .dataframe thead tr:only-child th {\n",
       "        text-align: right;\n",
       "    }\n",
       "\n",
       "    .dataframe thead th {\n",
       "        text-align: left;\n",
       "    }\n",
       "\n",
       "    .dataframe tbody tr th {\n",
       "        vertical-align: top;\n",
       "    }\n",
       "</style>\n",
       "<table border=\"1\" class=\"dataframe\">\n",
       "  <thead>\n",
       "    <tr style=\"text-align: right;\">\n",
       "      <th></th>\n",
       "      <th>lr_prob_0</th>\n",
       "      <th>lr_prob_1</th>\n",
       "    </tr>\n",
       "  </thead>\n",
       "  <tbody>\n",
       "    <tr>\n",
       "      <th>0</th>\n",
       "      <td>0.108543</td>\n",
       "      <td>0.891457</td>\n",
       "    </tr>\n",
       "    <tr>\n",
       "      <th>1</th>\n",
       "      <td>0.313021</td>\n",
       "      <td>0.686979</td>\n",
       "    </tr>\n",
       "    <tr>\n",
       "      <th>2</th>\n",
       "      <td>0.019911</td>\n",
       "      <td>0.980089</td>\n",
       "    </tr>\n",
       "    <tr>\n",
       "      <th>3</th>\n",
       "      <td>0.088736</td>\n",
       "      <td>0.911264</td>\n",
       "    </tr>\n",
       "    <tr>\n",
       "      <th>4</th>\n",
       "      <td>0.166454</td>\n",
       "      <td>0.833546</td>\n",
       "    </tr>\n",
       "  </tbody>\n",
       "</table>\n",
       "</div>"
      ],
      "text/plain": [
       "   lr_prob_0  lr_prob_1\n",
       "0   0.108543   0.891457\n",
       "1   0.313021   0.686979\n",
       "2   0.019911   0.980089\n",
       "3   0.088736   0.911264\n",
       "4   0.166454   0.833546"
      ]
     },
     "execution_count": 176,
     "metadata": {},
     "output_type": "execute_result"
    }
   ],
   "source": [
    "# convert this predicted array into dataframe: df_pred_prob_lr\n",
    "df_pred_prob_lr = pd.DataFrame(predict_prob_lr_clf, columns=['lr_prob_0','lr_prob_1'])\n",
    "df_pred_prob_lr.head()"
   ]
  },
  {
   "cell_type": "markdown",
   "metadata": {},
   "source": [
    "### Prediction on Real test dataset ###\n",
    "** RandomForest **"
   ]
  },
  {
   "cell_type": "code",
   "execution_count": 177,
   "metadata": {
    "collapsed": true
   },
   "outputs": [],
   "source": [
    "# predict the real test data using rf_clf100 model: y_real_pred_rf\n",
    "y_real_pred_rf = rf_clf100.predict(X_test_real)"
   ]
  },
  {
   "cell_type": "code",
   "execution_count": 179,
   "metadata": {},
   "outputs": [
    {
     "data": {
      "text/html": [
       "<div>\n",
       "<style>\n",
       "    .dataframe thead tr:only-child th {\n",
       "        text-align: right;\n",
       "    }\n",
       "\n",
       "    .dataframe thead th {\n",
       "        text-align: left;\n",
       "    }\n",
       "\n",
       "    .dataframe tbody tr th {\n",
       "        vertical-align: top;\n",
       "    }\n",
       "</style>\n",
       "<table border=\"1\" class=\"dataframe\">\n",
       "  <thead>\n",
       "    <tr style=\"text-align: right;\">\n",
       "      <th></th>\n",
       "      <th>RF_project_is_approved</th>\n",
       "    </tr>\n",
       "  </thead>\n",
       "  <tbody>\n",
       "    <tr>\n",
       "      <th>0</th>\n",
       "      <td>1</td>\n",
       "    </tr>\n",
       "    <tr>\n",
       "      <th>1</th>\n",
       "      <td>1</td>\n",
       "    </tr>\n",
       "    <tr>\n",
       "      <th>2</th>\n",
       "      <td>1</td>\n",
       "    </tr>\n",
       "    <tr>\n",
       "      <th>3</th>\n",
       "      <td>1</td>\n",
       "    </tr>\n",
       "    <tr>\n",
       "      <th>4</th>\n",
       "      <td>1</td>\n",
       "    </tr>\n",
       "  </tbody>\n",
       "</table>\n",
       "</div>"
      ],
      "text/plain": [
       "   RF_project_is_approved\n",
       "0                       1\n",
       "1                       1\n",
       "2                       1\n",
       "3                       1\n",
       "4                       1"
      ]
     },
     "execution_count": 179,
     "metadata": {},
     "output_type": "execute_result"
    }
   ],
   "source": [
    "# convert this prediction array into a dataframe: df_real_test_rf\n",
    "df_real_test_rf = pd.DataFrame(y_real_pred_rf, columns=['RF_project_is_approved'])\n",
    "df_real_test_rf.head(5)"
   ]
  },
  {
   "cell_type": "code",
   "execution_count": 180,
   "metadata": {
    "collapsed": true
   },
   "outputs": [],
   "source": [
    "# predict probability of each record used for classification: predict_prob_rf\n",
    "predict_prob_rf = rf_clf100.predict_proba(X_test_real)"
   ]
  },
  {
   "cell_type": "code",
   "execution_count": 181,
   "metadata": {},
   "outputs": [
    {
     "data": {
      "text/html": [
       "<div>\n",
       "<style>\n",
       "    .dataframe thead tr:only-child th {\n",
       "        text-align: right;\n",
       "    }\n",
       "\n",
       "    .dataframe thead th {\n",
       "        text-align: left;\n",
       "    }\n",
       "\n",
       "    .dataframe tbody tr th {\n",
       "        vertical-align: top;\n",
       "    }\n",
       "</style>\n",
       "<table border=\"1\" class=\"dataframe\">\n",
       "  <thead>\n",
       "    <tr style=\"text-align: right;\">\n",
       "      <th></th>\n",
       "      <th>rf_prob_0</th>\n",
       "      <th>rf_prob_1</th>\n",
       "    </tr>\n",
       "  </thead>\n",
       "  <tbody>\n",
       "    <tr>\n",
       "      <th>0</th>\n",
       "      <td>0.188942</td>\n",
       "      <td>0.811058</td>\n",
       "    </tr>\n",
       "    <tr>\n",
       "      <th>1</th>\n",
       "      <td>0.209209</td>\n",
       "      <td>0.790791</td>\n",
       "    </tr>\n",
       "    <tr>\n",
       "      <th>2</th>\n",
       "      <td>0.119166</td>\n",
       "      <td>0.880834</td>\n",
       "    </tr>\n",
       "    <tr>\n",
       "      <th>3</th>\n",
       "      <td>0.222361</td>\n",
       "      <td>0.777639</td>\n",
       "    </tr>\n",
       "    <tr>\n",
       "      <th>4</th>\n",
       "      <td>0.150524</td>\n",
       "      <td>0.849476</td>\n",
       "    </tr>\n",
       "  </tbody>\n",
       "</table>\n",
       "</div>"
      ],
      "text/plain": [
       "   rf_prob_0  rf_prob_1\n",
       "0   0.188942   0.811058\n",
       "1   0.209209   0.790791\n",
       "2   0.119166   0.880834\n",
       "3   0.222361   0.777639\n",
       "4   0.150524   0.849476"
      ]
     },
     "execution_count": 181,
     "metadata": {},
     "output_type": "execute_result"
    }
   ],
   "source": [
    "# convert this predicted array into dataframe: df_pred_prob_lr\n",
    "df_pred_prob_rf = pd.DataFrame(predict_prob_rf, columns=['rf_prob_0','rf_prob_1'])\n",
    "df_pred_prob_rf.head()"
   ]
  },
  {
   "cell_type": "markdown",
   "metadata": {},
   "source": [
    "So we have 4 dataframes now, each model's classification prediction and probabilities associated with it. We will merge these 4 dataframes. This will help to compare each record for the predicted class and the probabilities."
   ]
  },
  {
   "cell_type": "code",
   "execution_count": 185,
   "metadata": {},
   "outputs": [
    {
     "data": {
      "text/html": [
       "<div>\n",
       "<style>\n",
       "    .dataframe thead tr:only-child th {\n",
       "        text-align: right;\n",
       "    }\n",
       "\n",
       "    .dataframe thead th {\n",
       "        text-align: left;\n",
       "    }\n",
       "\n",
       "    .dataframe tbody tr th {\n",
       "        vertical-align: top;\n",
       "    }\n",
       "</style>\n",
       "<table border=\"1\" class=\"dataframe\">\n",
       "  <thead>\n",
       "    <tr style=\"text-align: right;\">\n",
       "      <th></th>\n",
       "      <th>lr_prob_0</th>\n",
       "      <th>lr_prob_1</th>\n",
       "      <th>LR_project_is_approved</th>\n",
       "      <th>rf_prob_0</th>\n",
       "      <th>rf_prob_1</th>\n",
       "      <th>RF_project_is_approved</th>\n",
       "    </tr>\n",
       "  </thead>\n",
       "  <tbody>\n",
       "    <tr>\n",
       "      <th>0</th>\n",
       "      <td>0.108543</td>\n",
       "      <td>0.891457</td>\n",
       "      <td>1</td>\n",
       "      <td>0.188942</td>\n",
       "      <td>0.811058</td>\n",
       "      <td>1</td>\n",
       "    </tr>\n",
       "    <tr>\n",
       "      <th>1</th>\n",
       "      <td>0.313021</td>\n",
       "      <td>0.686979</td>\n",
       "      <td>1</td>\n",
       "      <td>0.209209</td>\n",
       "      <td>0.790791</td>\n",
       "      <td>1</td>\n",
       "    </tr>\n",
       "    <tr>\n",
       "      <th>2</th>\n",
       "      <td>0.019911</td>\n",
       "      <td>0.980089</td>\n",
       "      <td>1</td>\n",
       "      <td>0.119166</td>\n",
       "      <td>0.880834</td>\n",
       "      <td>1</td>\n",
       "    </tr>\n",
       "    <tr>\n",
       "      <th>3</th>\n",
       "      <td>0.088736</td>\n",
       "      <td>0.911264</td>\n",
       "      <td>1</td>\n",
       "      <td>0.222361</td>\n",
       "      <td>0.777639</td>\n",
       "      <td>1</td>\n",
       "    </tr>\n",
       "    <tr>\n",
       "      <th>4</th>\n",
       "      <td>0.166454</td>\n",
       "      <td>0.833546</td>\n",
       "      <td>1</td>\n",
       "      <td>0.150524</td>\n",
       "      <td>0.849476</td>\n",
       "      <td>1</td>\n",
       "    </tr>\n",
       "  </tbody>\n",
       "</table>\n",
       "</div>"
      ],
      "text/plain": [
       "   lr_prob_0  lr_prob_1  LR_project_is_approved  rf_prob_0  rf_prob_1  \\\n",
       "0   0.108543   0.891457                       1   0.188942   0.811058   \n",
       "1   0.313021   0.686979                       1   0.209209   0.790791   \n",
       "2   0.019911   0.980089                       1   0.119166   0.880834   \n",
       "3   0.088736   0.911264                       1   0.222361   0.777639   \n",
       "4   0.166454   0.833546                       1   0.150524   0.849476   \n",
       "\n",
       "   RF_project_is_approved  \n",
       "0                       1  \n",
       "1                       1  \n",
       "2                       1  \n",
       "3                       1  \n",
       "4                       1  "
      ]
     },
     "execution_count": 185,
     "metadata": {},
     "output_type": "execute_result"
    }
   ],
   "source": [
    "# merge the 4 dataframes into one: df_real_test\n",
    "df_real_test = pd.concat([df_pred_prob_lr, df_real_test_lr, df_pred_prob_rf, df_real_test_rf], axis=1)\n",
    "df_real_test.head()"
   ]
  },
  {
   "cell_type": "code",
   "execution_count": 198,
   "metadata": {},
   "outputs": [],
   "source": [
    "# we also have the project id dataframe as well, so we will merge into the df_real_test\n",
    "df_real_test.insert(loc=0, column='id',  value=test_id['id'])"
   ]
  },
  {
   "cell_type": "code",
   "execution_count": 199,
   "metadata": {},
   "outputs": [
    {
     "data": {
      "text/html": [
       "<div>\n",
       "<style>\n",
       "    .dataframe thead tr:only-child th {\n",
       "        text-align: right;\n",
       "    }\n",
       "\n",
       "    .dataframe thead th {\n",
       "        text-align: left;\n",
       "    }\n",
       "\n",
       "    .dataframe tbody tr th {\n",
       "        vertical-align: top;\n",
       "    }\n",
       "</style>\n",
       "<table border=\"1\" class=\"dataframe\">\n",
       "  <thead>\n",
       "    <tr style=\"text-align: right;\">\n",
       "      <th></th>\n",
       "      <th>id</th>\n",
       "      <th>lr_prob_0</th>\n",
       "      <th>lr_prob_1</th>\n",
       "      <th>LR_project_is_approved</th>\n",
       "      <th>rf_prob_0</th>\n",
       "      <th>rf_prob_1</th>\n",
       "      <th>RF_project_is_approved</th>\n",
       "    </tr>\n",
       "  </thead>\n",
       "  <tbody>\n",
       "    <tr>\n",
       "      <th>0</th>\n",
       "      <td>p233245</td>\n",
       "      <td>0.108543</td>\n",
       "      <td>0.891457</td>\n",
       "      <td>1</td>\n",
       "      <td>0.188942</td>\n",
       "      <td>0.811058</td>\n",
       "      <td>1</td>\n",
       "    </tr>\n",
       "    <tr>\n",
       "      <th>1</th>\n",
       "      <td>p096795</td>\n",
       "      <td>0.313021</td>\n",
       "      <td>0.686979</td>\n",
       "      <td>1</td>\n",
       "      <td>0.209209</td>\n",
       "      <td>0.790791</td>\n",
       "      <td>1</td>\n",
       "    </tr>\n",
       "    <tr>\n",
       "      <th>2</th>\n",
       "      <td>p236235</td>\n",
       "      <td>0.019911</td>\n",
       "      <td>0.980089</td>\n",
       "      <td>1</td>\n",
       "      <td>0.119166</td>\n",
       "      <td>0.880834</td>\n",
       "      <td>1</td>\n",
       "    </tr>\n",
       "    <tr>\n",
       "      <th>3</th>\n",
       "      <td>p233680</td>\n",
       "      <td>0.088736</td>\n",
       "      <td>0.911264</td>\n",
       "      <td>1</td>\n",
       "      <td>0.222361</td>\n",
       "      <td>0.777639</td>\n",
       "      <td>1</td>\n",
       "    </tr>\n",
       "    <tr>\n",
       "      <th>4</th>\n",
       "      <td>p171879</td>\n",
       "      <td>0.166454</td>\n",
       "      <td>0.833546</td>\n",
       "      <td>1</td>\n",
       "      <td>0.150524</td>\n",
       "      <td>0.849476</td>\n",
       "      <td>1</td>\n",
       "    </tr>\n",
       "  </tbody>\n",
       "</table>\n",
       "</div>"
      ],
      "text/plain": [
       "        id  lr_prob_0  lr_prob_1  LR_project_is_approved  rf_prob_0  \\\n",
       "0  p233245   0.108543   0.891457                       1   0.188942   \n",
       "1  p096795   0.313021   0.686979                       1   0.209209   \n",
       "2  p236235   0.019911   0.980089                       1   0.119166   \n",
       "3  p233680   0.088736   0.911264                       1   0.222361   \n",
       "4  p171879   0.166454   0.833546                       1   0.150524   \n",
       "\n",
       "   rf_prob_1  RF_project_is_approved  \n",
       "0   0.811058                       1  \n",
       "1   0.790791                       1  \n",
       "2   0.880834                       1  \n",
       "3   0.777639                       1  \n",
       "4   0.849476                       1  "
      ]
     },
     "execution_count": 199,
     "metadata": {},
     "output_type": "execute_result"
    }
   ],
   "source": [
    "# print few rows from the final dataframe.\n",
    "df_real_test.head(5)"
   ]
  },
  {
   "cell_type": "markdown",
   "metadata": {},
   "source": [
    "So we have the final dataframe, which can be transformed into any desired format for submission. Also we can **increase/decrease** the threshold for the probability class for better screening. For example if the appications submitted to the DonorsChoose.org are more, they can increase the probability threshold of \"approved or 1\" class from default .5 to something like .6 or .65, to regulate the number of project proposals so that volunteers can spend time on really good propsals which has more chances of getting approval and get to be posted on **DonorsChoose.org**"
   ]
  },
  {
   "cell_type": "markdown",
   "metadata": {},
   "source": [
    "----------------------------------------------------------------------------------------------------------------------"
   ]
  }
 ],
 "metadata": {
  "kernelspec": {
   "display_name": "Python 3",
   "language": "python",
   "name": "python3"
  }
 },
 "nbformat": 4,
 "nbformat_minor": 2
}
