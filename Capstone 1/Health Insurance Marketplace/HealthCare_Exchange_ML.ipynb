{
 "cells": [
  {
   "cell_type": "markdown",
   "metadata": {},
   "source": [
    "## Machine Learning ##\n",
    "_____________________________________________________________________________________________\n",
    "**Health Insurance Marketplace:** In this part I will try to predict Individual Rates and Individual Tobacco Rates using regression models and will comapare results and performance of these models."
   ]
  },
  {
   "cell_type": "markdown",
   "metadata": {},
   "source": [
    "### Predict the monthly premium of individuals and individual tobacco users. ###\n",
    "**How premiums are set**<br>\n",
    "Under the health care law, insurance companies can account for only 5 things when setting premiums.\n",
    "\n",
    "**1.Age:** Premiums can be up to 3 times higher for older people than for younger ones.\n",
    "\n",
    "**2.Location:** Where you live has a big effect on your premiums. Differences in competition, state and local rules, and cost of living account for this.\n",
    "\n",
    "**3.Tobacco use:** Insurers can charge tobacco users up to 50% more than those who don’t use tobacco.\n",
    "\n",
    "**4.Individual vs. family enrollment:** Insurers can charge more for a plan that also covers a spouse and/or dependents.\n",
    "\n",
    "**5.Plan category:** There are five plan categories – Bronze, Silver, Gold, Platinum, and Catastrophic. The categories are based on how you and the plan share costs. Bronze plans usually have lower monthly premiums and higher out-of-pocket costs when you get care. Platinum plans usually have the highest premiums and lowest out-of-pocket costs.\n",
    "\n",
    "For more details on this please refer to the link below.<br>\n",
    "https://www.healthcare.gov/how-plans-set-your-premiums/"
   ]
  },
  {
   "cell_type": "code",
   "execution_count": 4,
   "metadata": {
    "collapsed": true
   },
   "outputs": [],
   "source": [
    "# This cell will be used for import. All the necessary packages and libraries will be imported.\n",
    "# As the work on this project moves on, the required packages will be imported.\n",
    "import pandas as pd\n",
    "import numpy as np\n",
    "import seaborn as sns\n",
    "import matplotlib.pyplot as plt\n",
    "import plotly.plotly as py\n",
    "from plotly.graph_objs import Figure\n",
    "py.sign_in('username', 'password')\n",
    "from ggplot import *\n",
    "%matplotlib inline \n"
   ]
  },
  {
   "cell_type": "markdown",
   "metadata": {},
   "source": [
    "### Rate data set ###\n",
    "From the Explainatory Data Analysis(EDA) part of this project, we already have the required rate dataset in csv form. We just need to import the csv file.<br>\n",
    "We have to do some cleaning in the dataframe to bring it in the format we need."
   ]
  },
  {
   "cell_type": "code",
   "execution_count": 647,
   "metadata": {
    "collapsed": true
   },
   "outputs": [],
   "source": [
    "# import csv file into dpandas ataframe \n",
    "rates = pd.read_csv('merged_rates.csv')"
   ]
  },
  {
   "cell_type": "code",
   "execution_count": 648,
   "metadata": {},
   "outputs": [
    {
     "name": "stdout",
     "output_type": "stream",
     "text": [
      "<class 'pandas.core.frame.DataFrame'>\n",
      "RangeIndex: 18081008 entries, 0 to 18081007\n",
      "Data columns (total 22 columns):\n",
      "Unnamed: 0                                   int64\n",
      "Age                                          object\n",
      "BusinessYear                                 int64\n",
      "Couple                                       float64\n",
      "CoupleAndOneDependent                        float64\n",
      "CoupleAndThreeOrMoreDependents               float64\n",
      "CoupleAndTwoDependents                       float64\n",
      "FederalTIN                                   object\n",
      "ImportDate                                   object\n",
      "IndividualRate                               float64\n",
      "IndividualTobaccoRate                        float64\n",
      "IssuerId                                     int64\n",
      "PlanId                                       object\n",
      "PrimarySubscriberAndOneDependent             float64\n",
      "PrimarySubscriberAndThreeOrMoreDependents    float64\n",
      "PrimarySubscriberAndTwoDependents            float64\n",
      "RateEffectiveDate                            object\n",
      "RateExpirationDate                           object\n",
      "RatingAreaId                                 object\n",
      "SourceName                                   object\n",
      "StateCode                                    object\n",
      "Tobacco                                      object\n",
      "dtypes: float64(9), int64(3), object(10)\n",
      "memory usage: 3.0+ GB\n"
     ]
    }
   ],
   "source": [
    "rates.info()"
   ]
  },
  {
   "cell_type": "code",
   "execution_count": 649,
   "metadata": {},
   "outputs": [
    {
     "data": {
      "text/plain": [
       "array(['0-20', 'Family Option', '21', '22', '23', '24', '25', '26', '27',\n",
       "       '28', '29', '30', '31', '32', '33', '34', '35', '36', '37', '38',\n",
       "       '39', '40', '41', '42', '43', '44', '45', '46', '47', '48', '49',\n",
       "       '50', '51', '52', '53', '54', '55', '56', '57', '58', '59', '60',\n",
       "       '61', '62', '63', '64', '65 and over', '0-14', '15', '16', '17',\n",
       "       '18', '19', '20', '64 and over'], dtype=object)"
      ]
     },
     "execution_count": 649,
     "metadata": {},
     "output_type": "execute_result"
    }
   ],
   "source": [
    "rates.Age.unique()"
   ]
  },
  {
   "cell_type": "code",
   "execution_count": 691,
   "metadata": {
    "collapsed": true
   },
   "outputs": [],
   "source": [
    "age_grp = ['0-20', '21', '22', '23', '24', '25', '26', '27', '28', '29', '30',\n",
    "                  '31', '32', '33', '34', '35', '36', '37', '38', '39', '40', '41',\n",
    "                  '42', '43', '44', '45', '46', '47', '48', '49', '50', '51', '52',\n",
    "                  '53', '54', '55', '56', '57', '58', '59', '60', '61', '62', '63',\n",
    "                  '64', '65 and over']"
   ]
  },
  {
   "cell_type": "code",
   "execution_count": 692,
   "metadata": {},
   "outputs": [
    {
     "data": {
      "text/plain": [
       "array(['0-20', '21', '22', '23', '24', '25', '26', '27', '28', '29', '30',\n",
       "       '31', '32', '33', '34', '35', '36', '37', '38', '39', '40', '41',\n",
       "       '42', '43', '44', '45', '46', '47', '48', '49', '50', '51', '52',\n",
       "       '53', '54', '55', '56', '57', '58', '59', '60', '61', '62', '63',\n",
       "       '64', '65 and over'], dtype=object)"
      ]
     },
     "execution_count": 692,
     "metadata": {},
     "output_type": "execute_result"
    }
   ],
   "source": [
    "# Get rid off the columns which appears after '65 and over' above.\n",
    "rates = rates[rates.Age.isin(age_grp)]\n",
    "rates.Age.unique()"
   ]
  },
  {
   "cell_type": "code",
   "execution_count": 693,
   "metadata": {},
   "outputs": [
    {
     "name": "stdout",
     "output_type": "stream",
     "text": [
      "<class 'pandas.core.frame.DataFrame'>\n",
      "Int64Index: 17676705 entries, 0 to 18081003\n",
      "Data columns (total 22 columns):\n",
      "Unnamed: 0                                   int64\n",
      "Age                                          object\n",
      "BusinessYear                                 int64\n",
      "Couple                                       float64\n",
      "CoupleAndOneDependent                        float64\n",
      "CoupleAndThreeOrMoreDependents               float64\n",
      "CoupleAndTwoDependents                       float64\n",
      "FederalTIN                                   object\n",
      "ImportDate                                   object\n",
      "IndividualRate                               float64\n",
      "IndividualTobaccoRate                        float64\n",
      "IssuerId                                     int64\n",
      "PlanId                                       object\n",
      "PrimarySubscriberAndOneDependent             float64\n",
      "PrimarySubscriberAndThreeOrMoreDependents    float64\n",
      "PrimarySubscriberAndTwoDependents            float64\n",
      "RateEffectiveDate                            object\n",
      "RateExpirationDate                           object\n",
      "RatingAreaId                                 object\n",
      "SourceName                                   object\n",
      "StateCode                                    object\n",
      "Tobacco                                      object\n",
      "dtypes: float64(9), int64(3), object(10)\n",
      "memory usage: 3.0+ GB\n"
     ]
    }
   ],
   "source": [
    "rates.info()"
   ]
  },
  {
   "cell_type": "code",
   "execution_count": 695,
   "metadata": {},
   "outputs": [
    {
     "data": {
      "text/html": [
       "<div>\n",
       "<style>\n",
       "    .dataframe thead tr:only-child th {\n",
       "        text-align: right;\n",
       "    }\n",
       "\n",
       "    .dataframe thead th {\n",
       "        text-align: left;\n",
       "    }\n",
       "\n",
       "    .dataframe tbody tr th {\n",
       "        vertical-align: top;\n",
       "    }\n",
       "</style>\n",
       "<table border=\"1\" class=\"dataframe\">\n",
       "  <thead>\n",
       "    <tr style=\"text-align: right;\">\n",
       "      <th></th>\n",
       "      <th>Age</th>\n",
       "      <th>BusinessYear</th>\n",
       "      <th>IndividualRate</th>\n",
       "      <th>IndividualTobaccoRate</th>\n",
       "      <th>PlanId</th>\n",
       "      <th>RatingAreaId</th>\n",
       "      <th>StateCode</th>\n",
       "      <th>Tobacco</th>\n",
       "    </tr>\n",
       "  </thead>\n",
       "  <tbody>\n",
       "    <tr>\n",
       "      <th>0</th>\n",
       "      <td>0-20</td>\n",
       "      <td>2014</td>\n",
       "      <td>29.0</td>\n",
       "      <td>NaN</td>\n",
       "      <td>21989AK0010001</td>\n",
       "      <td>Rating Area 1</td>\n",
       "      <td>AK</td>\n",
       "      <td>No Preference</td>\n",
       "    </tr>\n",
       "    <tr>\n",
       "      <th>3</th>\n",
       "      <td>21</td>\n",
       "      <td>2014</td>\n",
       "      <td>32.0</td>\n",
       "      <td>NaN</td>\n",
       "      <td>21989AK0010001</td>\n",
       "      <td>Rating Area 1</td>\n",
       "      <td>AK</td>\n",
       "      <td>No Preference</td>\n",
       "    </tr>\n",
       "  </tbody>\n",
       "</table>\n",
       "</div>"
      ],
      "text/plain": [
       "    Age  BusinessYear  IndividualRate  IndividualTobaccoRate          PlanId  \\\n",
       "0  0-20          2014            29.0                    NaN  21989AK0010001   \n",
       "3    21          2014            32.0                    NaN  21989AK0010001   \n",
       "\n",
       "    RatingAreaId StateCode        Tobacco  \n",
       "0  Rating Area 1        AK  No Preference  \n",
       "3  Rating Area 1        AK  No Preference  "
      ]
     },
     "execution_count": 695,
     "metadata": {},
     "output_type": "execute_result"
    }
   ],
   "source": [
    "# Create dataframe with the columns which will be required for this Regression Analysis: ml_rates\n",
    "ml_rates = rates[['Age','BusinessYear','IndividualRate','IndividualTobaccoRate','PlanId',\n",
    "                 'RatingAreaId','StateCode','Tobacco']]\n",
    "ml_rates.head(2) # just to make sure we have all the required columns"
   ]
  },
  {
   "cell_type": "markdown",
   "metadata": {},
   "source": [
    "we know from EDA part of this project that individual rate column has this sudo numbers eleminating those 9999 kind of numbers."
   ]
  },
  {
   "cell_type": "code",
   "execution_count": 697,
   "metadata": {
    "collapsed": true
   },
   "outputs": [],
   "source": [
    "# Drop individual rates more than 9000.\n",
    "ml_rates = ml_rates[ml_rates['IndividualRate'] < 9000]"
   ]
  },
  {
   "cell_type": "code",
   "execution_count": 698,
   "metadata": {},
   "outputs": [
    {
     "name": "stdout",
     "output_type": "stream",
     "text": [
      "Max of Individual Rate: 5503.85\n",
      "Unique Ages: ['0-20' '21' '22' '23' '24' '25' '26' '27' '28' '29' '30' '31' '32' '33'\n",
      " '34' '35' '36' '37' '38' '39' '40' '41' '42' '43' '44' '45' '46' '47' '48'\n",
      " '49' '50' '51' '52' '53' '54' '55' '56' '57' '58' '59' '60' '61' '62' '63'\n",
      " '64' '65 and over']\n"
     ]
    }
   ],
   "source": [
    "# verification of whatever done above.\n",
    "print(\"Max of Individual Rate:\", ml_rates.IndividualRate.max())\n",
    "print(\"Unique Ages:\", ml_rates.Age.unique())"
   ]
  },
  {
   "cell_type": "code",
   "execution_count": 668,
   "metadata": {},
   "outputs": [
    {
     "name": "stdout",
     "output_type": "stream",
     "text": [
      "<class 'pandas.core.frame.DataFrame'>\n",
      "Int64Index: 17588591 entries, 0 to 18081003\n",
      "Data columns (total 8 columns):\n",
      "Age                      object\n",
      "BusinessYear             int64\n",
      "IndividualRate           float64\n",
      "IndividualTobaccoRate    float64\n",
      "PlanId                   object\n",
      "RatingAreaId             object\n",
      "StateCode                object\n",
      "Tobacco                  object\n",
      "dtypes: float64(2), int64(1), object(5)\n",
      "memory usage: 1.2+ GB\n"
     ]
    }
   ],
   "source": [
    "# basic info about the dataframe.\n",
    "ml_rates.info()"
   ]
  },
  {
   "cell_type": "markdown",
   "metadata": {},
   "source": [
    "All look good with the rate dataframe. Will save this dataframe for intermediate work if needed. This would help repeat of work if for any reason the notebook has to restart. It also help if there is memory crunch on the system you are working on."
   ]
  },
  {
   "cell_type": "code",
   "execution_count": 700,
   "metadata": {
    "collapsed": true
   },
   "outputs": [],
   "source": [
    "# save the dataframe to csv file on hard disk.\n",
    "ml_rates.to_csv('ml_rates.csv')"
   ]
  },
  {
   "cell_type": "markdown",
   "metadata": {},
   "source": [
    "### Plan attribute dataset ###\n",
    "The second dataset required for this regression analysis is plan_attribute. From the Explainatory Data Analysis(EDA) part of this project, we already have the required plan attribute dataset in csv form. We just need to import the csv file.<br>\n",
    "We may have to do some cleaning in the dataframe to bring it in the format we need."
   ]
  },
  {
   "cell_type": "code",
   "execution_count": 701,
   "metadata": {},
   "outputs": [
    {
     "data": {
      "text/html": [
       "<div>\n",
       "<style>\n",
       "    .dataframe thead tr:only-child th {\n",
       "        text-align: right;\n",
       "    }\n",
       "\n",
       "    .dataframe thead th {\n",
       "        text-align: left;\n",
       "    }\n",
       "\n",
       "    .dataframe tbody tr th {\n",
       "        vertical-align: top;\n",
       "    }\n",
       "</style>\n",
       "<table border=\"1\" class=\"dataframe\">\n",
       "  <thead>\n",
       "    <tr style=\"text-align: right;\">\n",
       "      <th></th>\n",
       "      <th>Unnamed: 0</th>\n",
       "      <th>AVCalculatorOutputNumber</th>\n",
       "      <th>BeginPrimaryCareCostSharingAfterNumberOfVisits</th>\n",
       "      <th>BeginPrimaryCareDeductibleCoinsuranceAfterNumberOfCopays</th>\n",
       "      <th>BusinessYear</th>\n",
       "      <th>CSRVariationType</th>\n",
       "      <th>ChildOnlyOffering</th>\n",
       "      <th>ChildOnlyPlanId</th>\n",
       "      <th>CompositeRatingOffered</th>\n",
       "      <th>DEHBCombInnOonFamilyPerGroupMOOP</th>\n",
       "      <th>...</th>\n",
       "      <th>TEHBInnTier2FamilyPerPersonMOOP</th>\n",
       "      <th>TEHBInnTier2IndividualMOOP</th>\n",
       "      <th>TEHBOutOfNetFamilyPerGroupMOOP</th>\n",
       "      <th>TEHBOutOfNetFamilyPerPersonMOOP</th>\n",
       "      <th>TEHBOutOfNetIndividualMOOP</th>\n",
       "      <th>TIN</th>\n",
       "      <th>URLForEnrollmentPayment</th>\n",
       "      <th>URLForSummaryofBenefitsCoverage</th>\n",
       "      <th>UniquePlanDesign</th>\n",
       "      <th>WellnessProgramOffered</th>\n",
       "    </tr>\n",
       "  </thead>\n",
       "  <tbody>\n",
       "    <tr>\n",
       "      <th>0</th>\n",
       "      <td>0</td>\n",
       "      <td>NaN</td>\n",
       "      <td>0</td>\n",
       "      <td>0</td>\n",
       "      <td>2014</td>\n",
       "      <td>Standard Low Off Exchange Plan</td>\n",
       "      <td>Allows Adult and Child-Only</td>\n",
       "      <td>NaN</td>\n",
       "      <td>NaN</td>\n",
       "      <td>NaN</td>\n",
       "      <td>...</td>\n",
       "      <td>NaN</td>\n",
       "      <td>NaN</td>\n",
       "      <td>NaN</td>\n",
       "      <td>NaN</td>\n",
       "      <td>NaN</td>\n",
       "      <td>93-0438772</td>\n",
       "      <td>https://www.modahealth.com/employers/enroll.shtml</td>\n",
       "      <td>https://www.modahealth.com/producers/grp/den.s...</td>\n",
       "      <td>NaN</td>\n",
       "      <td>NaN</td>\n",
       "    </tr>\n",
       "    <tr>\n",
       "      <th>1</th>\n",
       "      <td>1</td>\n",
       "      <td>NaN</td>\n",
       "      <td>0</td>\n",
       "      <td>0</td>\n",
       "      <td>2014</td>\n",
       "      <td>Standard Low On Exchange Plan</td>\n",
       "      <td>Allows Adult and Child-Only</td>\n",
       "      <td>NaN</td>\n",
       "      <td>NaN</td>\n",
       "      <td>NaN</td>\n",
       "      <td>...</td>\n",
       "      <td>NaN</td>\n",
       "      <td>NaN</td>\n",
       "      <td>NaN</td>\n",
       "      <td>NaN</td>\n",
       "      <td>NaN</td>\n",
       "      <td>93-0438772</td>\n",
       "      <td>https://www.modahealth.com/employers/enroll.shtml</td>\n",
       "      <td>https://www.modahealth.com/producers/grp/den.s...</td>\n",
       "      <td>NaN</td>\n",
       "      <td>NaN</td>\n",
       "    </tr>\n",
       "  </tbody>\n",
       "</table>\n",
       "<p>2 rows × 154 columns</p>\n",
       "</div>"
      ],
      "text/plain": [
       "   Unnamed: 0 AVCalculatorOutputNumber  \\\n",
       "0           0                      NaN   \n",
       "1           1                      NaN   \n",
       "\n",
       "   BeginPrimaryCareCostSharingAfterNumberOfVisits  \\\n",
       "0                                               0   \n",
       "1                                               0   \n",
       "\n",
       "   BeginPrimaryCareDeductibleCoinsuranceAfterNumberOfCopays  BusinessYear  \\\n",
       "0                                                  0                 2014   \n",
       "1                                                  0                 2014   \n",
       "\n",
       "                 CSRVariationType            ChildOnlyOffering  \\\n",
       "0  Standard Low Off Exchange Plan  Allows Adult and Child-Only   \n",
       "1   Standard Low On Exchange Plan  Allows Adult and Child-Only   \n",
       "\n",
       "  ChildOnlyPlanId CompositeRatingOffered DEHBCombInnOonFamilyPerGroupMOOP  \\\n",
       "0             NaN                    NaN                              NaN   \n",
       "1             NaN                    NaN                              NaN   \n",
       "\n",
       "           ...           TEHBInnTier2FamilyPerPersonMOOP  \\\n",
       "0          ...                                       NaN   \n",
       "1          ...                                       NaN   \n",
       "\n",
       "  TEHBInnTier2IndividualMOOP TEHBOutOfNetFamilyPerGroupMOOP  \\\n",
       "0                        NaN                            NaN   \n",
       "1                        NaN                            NaN   \n",
       "\n",
       "  TEHBOutOfNetFamilyPerPersonMOOP TEHBOutOfNetIndividualMOOP         TIN  \\\n",
       "0                             NaN                        NaN  93-0438772   \n",
       "1                             NaN                        NaN  93-0438772   \n",
       "\n",
       "                             URLForEnrollmentPayment  \\\n",
       "0  https://www.modahealth.com/employers/enroll.shtml   \n",
       "1  https://www.modahealth.com/employers/enroll.shtml   \n",
       "\n",
       "                     URLForSummaryofBenefitsCoverage UniquePlanDesign  \\\n",
       "0  https://www.modahealth.com/producers/grp/den.s...              NaN   \n",
       "1  https://www.modahealth.com/producers/grp/den.s...              NaN   \n",
       "\n",
       "  WellnessProgramOffered  \n",
       "0                    NaN  \n",
       "1                    NaN  \n",
       "\n",
       "[2 rows x 154 columns]"
      ]
     },
     "execution_count": 701,
     "metadata": {},
     "output_type": "execute_result"
    }
   ],
   "source": [
    "# import plan_attribute csv file into dataframe: pa\n",
    "pa = pd.read_csv('plan_attribute.csv', low_memory=False)\n",
    "pa.head(2)"
   ]
  },
  {
   "cell_type": "code",
   "execution_count": 702,
   "metadata": {},
   "outputs": [
    {
     "name": "stdout",
     "output_type": "stream",
     "text": [
      "<class 'pandas.core.frame.DataFrame'>\n",
      "RangeIndex: 112579 entries, 0 to 112578\n",
      "Columns: 154 entries, Unnamed: 0 to WellnessProgramOffered\n",
      "dtypes: float64(5), int64(6), object(143)\n",
      "memory usage: 132.3+ MB\n"
     ]
    }
   ],
   "source": [
    "# Basic information about the pa dataframe.\n",
    "pa.info()"
   ]
  },
  {
   "cell_type": "markdown",
   "metadata": {},
   "source": [
    "As we can see from the above that there are 154 columns in this dataframe. We need only two columns from this dataframe, PlanId and MetalLevel. Rest all the columns are not useful for this project.<br>\n",
    "So I have all the datframes required, but need to merge these two dataframes(rates and plan_attribute) on PlanId column."
   ]
  },
  {
   "cell_type": "markdown",
   "metadata": {},
   "source": [
    "### Merge plan attribute(pa) and rates: plans_to_use ###\n",
    "I will extract all the metal levels which are available in the healthcare insurance marketplce. As described in the EDA part of this project, Metal Level is one of the most crucial element of deciding monthly premiums."
   ]
  },
  {
   "cell_type": "code",
   "execution_count": 703,
   "metadata": {
    "collapsed": true
   },
   "outputs": [],
   "source": [
    "# Metal level of all the plans: plans_to_use\n",
    "plans_to_use = pa[['PlanId','MetalLevel']]"
   ]
  },
  {
   "cell_type": "code",
   "execution_count": 704,
   "metadata": {},
   "outputs": [
    {
     "name": "stdout",
     "output_type": "stream",
     "text": [
      "<class 'pandas.core.frame.DataFrame'>\n",
      "RangeIndex: 112579 entries, 0 to 112578\n",
      "Data columns (total 2 columns):\n",
      "PlanId        112579 non-null object\n",
      "MetalLevel    112579 non-null object\n",
      "dtypes: object(2)\n",
      "memory usage: 1.7+ MB\n"
     ]
    }
   ],
   "source": [
    "plans_to_use.info()"
   ]
  },
  {
   "cell_type": "markdown",
   "metadata": {},
   "source": [
    "**PlanId** column of rates dataset has only 14 alpha-numeric characters and whereas the **PlanId** of the plan attribute dataset has 17 characters. First 14 characters will be same and last 3 characters specify cost sharing reduction(CSR)."
   ]
  },
  {
   "cell_type": "code",
   "execution_count": 705,
   "metadata": {},
   "outputs": [
    {
     "name": "stderr",
     "output_type": "stream",
     "text": [
      "/Users/vishalshilpi/anaconda/lib/python3.6/site-packages/pandas/core/generic.py:2999: SettingWithCopyWarning:\n",
      "\n",
      "\n",
      "A value is trying to be set on a copy of a slice from a DataFrame.\n",
      "Try using .loc[row_indexer,col_indexer] = value instead\n",
      "\n",
      "See the caveats in the documentation: http://pandas.pydata.org/pandas-docs/stable/indexing.html#indexing-view-versus-copy\n",
      "\n"
     ]
    }
   ],
   "source": [
    "plans_to_use.PlanId = plans_to_use.PlanId.str[:14]"
   ]
  },
  {
   "cell_type": "code",
   "execution_count": 706,
   "metadata": {},
   "outputs": [
    {
     "data": {
      "text/plain": [
       "0    21989AK0020002\n",
       "1    21989AK0020002\n",
       "Name: PlanId, dtype: object"
      ]
     },
     "execution_count": 706,
     "metadata": {},
     "output_type": "execute_result"
    }
   ],
   "source": [
    "# check that the PlanId column has 14 character values.\n",
    "plans_to_use.PlanId.head(2)"
   ]
  },
  {
   "cell_type": "code",
   "execution_count": 707,
   "metadata": {},
   "outputs": [
    {
     "name": "stdout",
     "output_type": "stream",
     "text": [
      "<class 'pandas.core.frame.DataFrame'>\n",
      "RangeIndex: 112579 entries, 0 to 112578\n",
      "Data columns (total 2 columns):\n",
      "PlanId        112579 non-null object\n",
      "MetalLevel    112579 non-null object\n",
      "dtypes: object(2)\n",
      "memory usage: 1.7+ MB\n"
     ]
    }
   ],
   "source": [
    "plans_to_use.info()"
   ]
  },
  {
   "cell_type": "code",
   "execution_count": 708,
   "metadata": {
    "collapsed": true
   },
   "outputs": [],
   "source": [
    "# Groupby plans_to_use dataframe to have unique PlanId and MetalLevel\n",
    "plans_to_use = plans_to_use.groupby(['PlanId','MetalLevel'])"
   ]
  },
  {
   "cell_type": "code",
   "execution_count": 709,
   "metadata": {
    "collapsed": true
   },
   "outputs": [],
   "source": [
    "# make groupby dataframe to dataframe using count()\n",
    "plans_to_use = plans_to_use.count()\n",
    "plans_to_use.reset_index(inplace=True)"
   ]
  },
  {
   "cell_type": "code",
   "execution_count": 710,
   "metadata": {
    "collapsed": true
   },
   "outputs": [],
   "source": [
    "# Save this dataframe into csv file on hard drive.\n",
    "plans_to_use.to_csv('plan_to_use.csv')"
   ]
  },
  {
   "cell_type": "code",
   "execution_count": 711,
   "metadata": {
    "collapsed": true
   },
   "outputs": [],
   "source": [
    "# dataframe after merging plan attribute and rates dataframes: ml_plan_rates\n",
    "ml_plan_rates = ml_rates.join(plans_to_use.set_index('PlanId'), on='PlanId', how= 'inner')"
   ]
  },
  {
   "cell_type": "code",
   "execution_count": 712,
   "metadata": {},
   "outputs": [
    {
     "data": {
      "text/html": [
       "<div>\n",
       "<style>\n",
       "    .dataframe thead tr:only-child th {\n",
       "        text-align: right;\n",
       "    }\n",
       "\n",
       "    .dataframe thead th {\n",
       "        text-align: left;\n",
       "    }\n",
       "\n",
       "    .dataframe tbody tr th {\n",
       "        vertical-align: top;\n",
       "    }\n",
       "</style>\n",
       "<table border=\"1\" class=\"dataframe\">\n",
       "  <thead>\n",
       "    <tr style=\"text-align: right;\">\n",
       "      <th></th>\n",
       "      <th>BusinessYear</th>\n",
       "      <th>IndividualRate</th>\n",
       "      <th>IndividualTobaccoRate</th>\n",
       "    </tr>\n",
       "  </thead>\n",
       "  <tbody>\n",
       "    <tr>\n",
       "      <th>count</th>\n",
       "      <td>1.773430e+07</td>\n",
       "      <td>1.773430e+07</td>\n",
       "      <td>6.111323e+06</td>\n",
       "    </tr>\n",
       "    <tr>\n",
       "      <th>mean</th>\n",
       "      <td>2.015711e+03</td>\n",
       "      <td>3.145197e+02</td>\n",
       "      <td>5.656890e+02</td>\n",
       "    </tr>\n",
       "    <tr>\n",
       "      <th>std</th>\n",
       "      <td>1.282219e+00</td>\n",
       "      <td>3.142857e+02</td>\n",
       "      <td>3.106098e+02</td>\n",
       "    </tr>\n",
       "    <tr>\n",
       "      <th>min</th>\n",
       "      <td>2.014000e+03</td>\n",
       "      <td>0.000000e+00</td>\n",
       "      <td>4.173000e+01</td>\n",
       "    </tr>\n",
       "    <tr>\n",
       "      <th>25%</th>\n",
       "      <td>2.015000e+03</td>\n",
       "      <td>2.750000e+01</td>\n",
       "      <td>3.489800e+02</td>\n",
       "    </tr>\n",
       "    <tr>\n",
       "      <th>50%</th>\n",
       "      <td>2.016000e+03</td>\n",
       "      <td>2.817800e+02</td>\n",
       "      <td>4.802500e+02</td>\n",
       "    </tr>\n",
       "    <tr>\n",
       "      <th>75%</th>\n",
       "      <td>2.017000e+03</td>\n",
       "      <td>4.838700e+02</td>\n",
       "      <td>7.119652e+02</td>\n",
       "    </tr>\n",
       "    <tr>\n",
       "      <th>max</th>\n",
       "      <td>2.018000e+03</td>\n",
       "      <td>5.503850e+03</td>\n",
       "      <td>6.604610e+03</td>\n",
       "    </tr>\n",
       "  </tbody>\n",
       "</table>\n",
       "</div>"
      ],
      "text/plain": [
       "       BusinessYear  IndividualRate  IndividualTobaccoRate\n",
       "count  1.773430e+07    1.773430e+07           6.111323e+06\n",
       "mean   2.015711e+03    3.145197e+02           5.656890e+02\n",
       "std    1.282219e+00    3.142857e+02           3.106098e+02\n",
       "min    2.014000e+03    0.000000e+00           4.173000e+01\n",
       "25%    2.015000e+03    2.750000e+01           3.489800e+02\n",
       "50%    2.016000e+03    2.817800e+02           4.802500e+02\n",
       "75%    2.017000e+03    4.838700e+02           7.119652e+02\n",
       "max    2.018000e+03    5.503850e+03           6.604610e+03"
      ]
     },
     "execution_count": 712,
     "metadata": {},
     "output_type": "execute_result"
    }
   ],
   "source": [
    "# statistics about the two columns which will be used as my target variable.\n",
    "ml_plan_rates.describe()"
   ]
  },
  {
   "cell_type": "markdown",
   "metadata": {},
   "source": [
    "Metal Level as **Low** and **High** are **Dental Plans**. So we can ignore these metal groups becaue dental plans premiums are calculated in a different way than the medical plans."
   ]
  },
  {
   "cell_type": "code",
   "execution_count": 713,
   "metadata": {
    "collapsed": true
   },
   "outputs": [],
   "source": [
    "ml_plan_rates = ml_plan_rates[(ml_plan_rates['MetalLevel'] !='High')\n",
    "                             & (ml_plan_rates['MetalLevel'] != 'Low')]"
   ]
  },
  {
   "cell_type": "code",
   "execution_count": 714,
   "metadata": {},
   "outputs": [
    {
     "data": {
      "text/plain": [
       "array(['Catastrophic', 'Gold', 'Silver', 'Bronze', 'Platinum',\n",
       "       'Expanded Bronze'], dtype=object)"
      ]
     },
     "execution_count": 714,
     "metadata": {},
     "output_type": "execute_result"
    }
   ],
   "source": [
    "ml_plan_rates.MetalLevel.unique() # make sure that the Low and High MetalLevel are removed."
   ]
  },
  {
   "cell_type": "code",
   "execution_count": 715,
   "metadata": {},
   "outputs": [
    {
     "name": "stdout",
     "output_type": "stream",
     "text": [
      "<class 'pandas.core.frame.DataFrame'>\n",
      "Int64Index: 10270281 entries, 1398 to 18072591\n",
      "Data columns (total 9 columns):\n",
      "Age                      object\n",
      "BusinessYear             int64\n",
      "IndividualRate           float64\n",
      "IndividualTobaccoRate    float64\n",
      "PlanId                   object\n",
      "RatingAreaId             object\n",
      "StateCode                object\n",
      "Tobacco                  object\n",
      "MetalLevel               object\n",
      "dtypes: float64(2), int64(1), object(6)\n",
      "memory usage: 783.6+ MB\n"
     ]
    }
   ],
   "source": [
    "# Check that there are only columns which are required in regresson analysis are there in the \n",
    "# ml_plan_rates dataframe.\n",
    "ml_plan_rates.info()"
   ]
  },
  {
   "cell_type": "code",
   "execution_count": 716,
   "metadata": {
    "collapsed": true
   },
   "outputs": [],
   "source": [
    "# Save this intermediate dataframe to hard drive in csv format.\n",
    "ml_plan_rates.to_csv('ml_plan_rates.csv')"
   ]
  },
  {
   "cell_type": "markdown",
   "metadata": {},
   "source": [
    "## Regression ##\n",
    "In this section of this project, I am going to predict **Individual Rate** and **Individual Tobacco Rate** using regression. Before we start working on the regression model let's check how  these two target variables have been trending since the inception of Healthcare Insurance Marketplace or Exchange in year 2014."
   ]
  },
  {
   "cell_type": "code",
   "execution_count": 717,
   "metadata": {},
   "outputs": [
    {
     "name": "stdout",
     "output_type": "stream",
     "text": [
      "<class 'pandas.core.frame.DataFrame'>\n",
      "Int64Index: 10270281 entries, 1398 to 18072591\n",
      "Data columns (total 9 columns):\n",
      "Age                      object\n",
      "BusinessYear             int64\n",
      "IndividualRate           float64\n",
      "IndividualTobaccoRate    float64\n",
      "PlanId                   object\n",
      "RatingAreaId             object\n",
      "StateCode                object\n",
      "Tobacco                  object\n",
      "MetalLevel               object\n",
      "dtypes: float64(2), int64(1), object(6)\n",
      "memory usage: 783.6+ MB\n"
     ]
    }
   ],
   "source": [
    "ml_plan_rates.info()"
   ]
  },
  {
   "cell_type": "code",
   "execution_count": 734,
   "metadata": {
    "collapsed": true
   },
   "outputs": [],
   "source": [
    "# create new dataframe with only years and two rates: plan_rates_by_years\n",
    "plan_rates_by_years = ml_plan_rates[['BusinessYear','IndividualRate','IndividualTobaccoRate']]"
   ]
  },
  {
   "cell_type": "code",
   "execution_count": 735,
   "metadata": {
    "collapsed": true
   },
   "outputs": [],
   "source": [
    "# Groupby BusinessYear, as we need to find the average rate year wise.\n",
    "plan_rates_by_years = plan_rates_by_years.groupby(\"BusinessYear\")"
   ]
  },
  {
   "cell_type": "code",
   "execution_count": 736,
   "metadata": {
    "collapsed": true
   },
   "outputs": [],
   "source": [
    "# calculate the mean of the two rates for each year: averag_plan_rates_yearwise\n",
    "averag_plan_rates_yearwise = plan_rates_by_years.mean()"
   ]
  },
  {
   "cell_type": "code",
   "execution_count": 745,
   "metadata": {},
   "outputs": [
    {
     "data": {
      "text/html": [
       "<div>\n",
       "<style>\n",
       "    .dataframe thead tr:only-child th {\n",
       "        text-align: right;\n",
       "    }\n",
       "\n",
       "    .dataframe thead th {\n",
       "        text-align: left;\n",
       "    }\n",
       "\n",
       "    .dataframe tbody tr th {\n",
       "        vertical-align: top;\n",
       "    }\n",
       "</style>\n",
       "<table border=\"1\" class=\"dataframe\">\n",
       "  <thead>\n",
       "    <tr style=\"text-align: right;\">\n",
       "      <th></th>\n",
       "      <th>IndividualRate</th>\n",
       "      <th>IndividualTobaccoRate</th>\n",
       "    </tr>\n",
       "    <tr>\n",
       "      <th>BusinessYear</th>\n",
       "      <th></th>\n",
       "      <th></th>\n",
       "    </tr>\n",
       "  </thead>\n",
       "  <tbody>\n",
       "    <tr>\n",
       "      <th>2014</th>\n",
       "      <td>452.572059</td>\n",
       "      <td>559.038110</td>\n",
       "    </tr>\n",
       "    <tr>\n",
       "      <th>2015</th>\n",
       "      <td>467.784105</td>\n",
       "      <td>525.099584</td>\n",
       "    </tr>\n",
       "    <tr>\n",
       "      <th>2016</th>\n",
       "      <td>494.222201</td>\n",
       "      <td>546.544725</td>\n",
       "    </tr>\n",
       "    <tr>\n",
       "      <th>2017</th>\n",
       "      <td>546.953067</td>\n",
       "      <td>614.844157</td>\n",
       "    </tr>\n",
       "    <tr>\n",
       "      <th>2018</th>\n",
       "      <td>607.575814</td>\n",
       "      <td>740.114261</td>\n",
       "    </tr>\n",
       "  </tbody>\n",
       "</table>\n",
       "</div>"
      ],
      "text/plain": [
       "              IndividualRate  IndividualTobaccoRate\n",
       "BusinessYear                                       \n",
       "2014              452.572059             559.038110\n",
       "2015              467.784105             525.099584\n",
       "2016              494.222201             546.544725\n",
       "2017              546.953067             614.844157\n",
       "2018              607.575814             740.114261"
      ]
     },
     "execution_count": 745,
     "metadata": {},
     "output_type": "execute_result"
    }
   ],
   "source": [
    "# unstack the groupby dataframe for better table like display.\n",
    "averag_plan_rates_yearwise.unstack()\n",
    "\n",
    "# print the dataframe.\n",
    "averag_plan_rates_yearwise"
   ]
  },
  {
   "cell_type": "code",
   "execution_count": 746,
   "metadata": {},
   "outputs": [
    {
     "data": {
      "image/png": "[encoded data removed]",
      "text/plain": [
       "<matplotlib.figure.Figure at 0x1304e6978>"
      ]
     },
     "metadata": {},
     "output_type": "display_data"
    }
   ],
   "source": [
    "# Plot the above dataframe\n",
    "averag_plan_rates_yearwise.plot(figsize=(15, 6), fontsize=\"large\")\n",
    "plt.title('Average Individual and Individual Tobacco Rate', fontsize=\"large\")\n",
    "plt.xlabel(\"Years\", fontsize=\"large\")\n",
    "plt.ylabel(\"Yearly Rates($)\", fontsize=\"large\")\n",
    "plt.legend(fontsize=\"large\")\n",
    "plt.show()"
   ]
  },
  {
   "cell_type": "markdown",
   "metadata": {},
   "source": [
    "We can see above that the individual rates has been increasing since its inception but. The increase in rate is also getting bigger every year. But the same is not true for the Individual Tobacco Rate. The second year of exchange saw a fall in individual tobacco rate but again started increasing every year and last year the incease in rate is very large.<br>"
   ]
  },
  {
   "cell_type": "markdown",
   "metadata": {},
   "source": [
    "### Lets start with individual monthly rate prediction. ###\n",
    "We will create two dataframes one for the target variables (**IndividualRate** and **IndividualTobaccoRate**) and other for dependent variables only. In this case depended variables are **Age, RatingAreaId, Tobacco and MetalLevel.** "
   ]
  },
  {
   "cell_type": "code",
   "execution_count": 751,
   "metadata": {},
   "outputs": [
    {
     "data": {
      "text/plain": [
       "Age                      False\n",
       "BusinessYear             False\n",
       "IndividualRate           False\n",
       "IndividualTobaccoRate     True\n",
       "PlanId                   False\n",
       "RatingAreaId             False\n",
       "StateCode                False\n",
       "Tobacco                  False\n",
       "MetalLevel               False\n",
       "dtype: bool"
      ]
     },
     "execution_count": 751,
     "metadata": {},
     "output_type": "execute_result"
    }
   ],
   "source": [
    "# first check for the nan values if any in the dataframe.\n",
    "ml_plan_rates.isnull().any(axis=0)"
   ]
  },
  {
   "cell_type": "code",
   "execution_count": 752,
   "metadata": {
    "collapsed": true
   },
   "outputs": [],
   "source": [
    "# drop all the rows with nan values. There is only one column having nan values i.e \n",
    "# IndividualTobaccoRate\n",
    "ml_plan_rates.dropna(inplace=True)"
   ]
  },
  {
   "cell_type": "code",
   "execution_count": 754,
   "metadata": {},
   "outputs": [
    {
     "data": {
      "text/plain": [
       "Age                      False\n",
       "BusinessYear             False\n",
       "IndividualRate           False\n",
       "IndividualTobaccoRate    False\n",
       "PlanId                   False\n",
       "RatingAreaId             False\n",
       "StateCode                False\n",
       "Tobacco                  False\n",
       "MetalLevel               False\n",
       "dtype: bool"
      ]
     },
     "execution_count": 754,
     "metadata": {},
     "output_type": "execute_result"
    }
   ],
   "source": [
    "# just to make sure that there is no nan value.\n",
    "ml_plan_rates.isnull().any(axis=0)"
   ]
  },
  {
   "cell_type": "code",
   "execution_count": 756,
   "metadata": {},
   "outputs": [
    {
     "name": "stdout",
     "output_type": "stream",
     "text": [
      "<class 'pandas.core.frame.DataFrame'>\n",
      "Int64Index: 6111323 entries, 14551 to 18072591\n",
      "Data columns (total 9 columns):\n",
      "Age                      object\n",
      "BusinessYear             int64\n",
      "IndividualRate           float64\n",
      "IndividualTobaccoRate    float64\n",
      "PlanId                   object\n",
      "RatingAreaId             object\n",
      "StateCode                object\n",
      "Tobacco                  object\n",
      "MetalLevel               object\n",
      "dtypes: float64(2), int64(1), object(6)\n",
      "memory usage: 466.3+ MB\n"
     ]
    }
   ],
   "source": [
    "# Lets have a look of the dataframe we have ml_plan_rates\n",
    "ml_plan_rates.info()"
   ]
  },
  {
   "cell_type": "markdown",
   "metadata": {},
   "source": [
    "As we can see that all the independent variable are of type object. We need to convert them into numeric columns."
   ]
  },
  {
   "cell_type": "markdown",
   "metadata": {},
   "source": [
    "**Lets start with Age and RatingAreaId columns.**<br>\n",
    "Age and RatingAreaId column has the similar type of data formatting to be done. Remove all the characters and then convert them to numbers."
   ]
  },
  {
   "cell_type": "code",
   "execution_count": 757,
   "metadata": {
    "collapsed": true
   },
   "outputs": [],
   "source": [
    "# replace 0-20 and 65 and over with 020 and 65 respectively.\n",
    "ml_plan_rates['Age'] = ml_plan_rates['Age'].replace(['0-20','65 and over'], ['020','65'])"
   ]
  },
  {
   "cell_type": "code",
   "execution_count": 758,
   "metadata": {},
   "outputs": [
    {
     "data": {
      "text/plain": [
       "array(['020', '21', '22', '23', '24', '25', '26', '27', '28', '29', '30',\n",
       "       '31', '32', '33', '34', '35', '36', '37', '38', '39', '40', '41',\n",
       "       '42', '43', '44', '45', '46', '47', '48', '49', '50', '51', '52',\n",
       "       '53', '54', '55', '56', '57', '58', '59', '60', '61', '62', '63',\n",
       "       '64', '65'], dtype=object)"
      ]
     },
     "execution_count": 758,
     "metadata": {},
     "output_type": "execute_result"
    }
   ],
   "source": [
    "# check Age column values and make sure that they are only in numbers but within inverted comma.\n",
    "ml_plan_rates.Age.unique()"
   ]
  },
  {
   "cell_type": "code",
   "execution_count": 759,
   "metadata": {},
   "outputs": [
    {
     "data": {
      "text/plain": [
       "array(['Rating Area 3', 'Rating Area 9', 'Rating Area 5', 'Rating Area 1',\n",
       "       'Rating Area 2', 'Rating Area 4', 'Rating Area 6', 'Rating Area 7',\n",
       "       'Rating Area 8', 'Rating Area 10', 'Rating Area 11',\n",
       "       'Rating Area 12', 'Rating Area 13', 'Rating Area 32',\n",
       "       'Rating Area 33', 'Rating Area 34', 'Rating Area 35',\n",
       "       'Rating Area 36', 'Rating Area 37', 'Rating Area 38',\n",
       "       'Rating Area 39', 'Rating Area 40', 'Rating Area 41',\n",
       "       'Rating Area 42', 'Rating Area 43', 'Rating Area 44',\n",
       "       'Rating Area 45', 'Rating Area 46', 'Rating Area 47',\n",
       "       'Rating Area 48', 'Rating Area 49', 'Rating Area 50',\n",
       "       'Rating Area 51', 'Rating Area 52', 'Rating Area 53',\n",
       "       'Rating Area 54', 'Rating Area 55', 'Rating Area 56',\n",
       "       'Rating Area 57', 'Rating Area 58', 'Rating Area 59',\n",
       "       'Rating Area 60', 'Rating Area 61', 'Rating Area 62',\n",
       "       'Rating Area 63', 'Rating Area 64', 'Rating Area 65',\n",
       "       'Rating Area 66', 'Rating Area 67', 'Rating Area 14',\n",
       "       'Rating Area 15', 'Rating Area 16', 'Rating Area 17',\n",
       "       'Rating Area 18', 'Rating Area 19', 'Rating Area 20',\n",
       "       'Rating Area 21', 'Rating Area 22', 'Rating Area 23',\n",
       "       'Rating Area 24', 'Rating Area 25', 'Rating Area 26',\n",
       "       'Rating Area 27', 'Rating Area 28', 'Rating Area 29',\n",
       "       'Rating Area 30', 'Rating Area 31'], dtype=object)"
      ]
     },
     "execution_count": 759,
     "metadata": {},
     "output_type": "execute_result"
    }
   ],
   "source": [
    "# now check the unique values of RatingAreaId column\n",
    "ml_plan_rates.RatingAreaId.unique()"
   ]
  },
  {
   "cell_type": "code",
   "execution_count": 760,
   "metadata": {
    "collapsed": true
   },
   "outputs": [],
   "source": [
    "# get sub string of the numerical values only.\n",
    "ml_plan_rates.RatingAreaId = ml_plan_rates.RatingAreaId.str[12:]"
   ]
  },
  {
   "cell_type": "code",
   "execution_count": 761,
   "metadata": {},
   "outputs": [
    {
     "data": {
      "text/plain": [
       "array(['3', '9', '5', '1', '2', '4', '6', '7', '8', '10', '11', '12', '13',\n",
       "       '32', '33', '34', '35', '36', '37', '38', '39', '40', '41', '42',\n",
       "       '43', '44', '45', '46', '47', '48', '49', '50', '51', '52', '53',\n",
       "       '54', '55', '56', '57', '58', '59', '60', '61', '62', '63', '64',\n",
       "       '65', '66', '67', '14', '15', '16', '17', '18', '19', '20', '21',\n",
       "       '22', '23', '24', '25', '26', '27', '28', '29', '30', '31'], dtype=object)"
      ]
     },
     "execution_count": 761,
     "metadata": {},
     "output_type": "execute_result"
    }
   ],
   "source": [
    "# check that the substrings are correct.\n",
    "ml_plan_rates.RatingAreaId.unique()"
   ]
  },
  {
   "cell_type": "code",
   "execution_count": 763,
   "metadata": {
    "collapsed": true
   },
   "outputs": [],
   "source": [
    "# converting Age and RatingAreaId columns from object type to numeric type: ml_cols_tobe_num\n",
    "ml_cols_tobe_num = ['Age','RatingAreaId']\n",
    "ml_plan_rates[ml_cols_tobe_num] = ml_plan_rates[ml_cols_tobe_num].apply(pd.to_numeric)"
   ]
  },
  {
   "cell_type": "markdown",
   "metadata": {},
   "source": [
    "Now let's change the **Tobacco** column to binary variable where 0 means \"No Preference\" and 1 means \"Tobacco User/Non-Tobacco User\"."
   ]
  },
  {
   "cell_type": "code",
   "execution_count": 764,
   "metadata": {
    "collapsed": true
   },
   "outputs": [],
   "source": [
    "# we know that the Tobacco column has only two kind of values: No Preference and\n",
    "# Tobacco User/Non-Tobacco User. We will covert these into 0 and 1 value.\n",
    "ml_plan_rates['Tobacco'] = ml_plan_rates['Tobacco'].replace({'No Preference':0,\n",
    "                                                          'Tobacco User/Non-Tobacco User':1})"
   ]
  },
  {
   "cell_type": "code",
   "execution_count": 765,
   "metadata": {},
   "outputs": [
    {
     "data": {
      "text/plain": [
       "array([1, 0])"
      ]
     },
     "execution_count": 765,
     "metadata": {},
     "output_type": "execute_result"
    }
   ],
   "source": [
    "# Just to make sure that the Tobacco column has only the values we want.\n",
    "ml_plan_rates['Tobacco'].unique()"
   ]
  },
  {
   "cell_type": "code",
   "execution_count": 766,
   "metadata": {},
   "outputs": [
    {
     "name": "stdout",
     "output_type": "stream",
     "text": [
      "<class 'pandas.core.frame.DataFrame'>\n",
      "Int64Index: 6111323 entries, 14551 to 18072591\n",
      "Data columns (total 9 columns):\n",
      "Age                      int64\n",
      "BusinessYear             int64\n",
      "IndividualRate           float64\n",
      "IndividualTobaccoRate    float64\n",
      "PlanId                   object\n",
      "RatingAreaId             int64\n",
      "StateCode                object\n",
      "Tobacco                  int64\n",
      "MetalLevel               object\n",
      "dtypes: float64(2), int64(4), object(3)\n",
      "memory usage: 466.3+ MB\n"
     ]
    }
   ],
   "source": [
    "# check datatype of the columns Age and RatingAreaId\n",
    "ml_plan_rates.info()"
   ]
  },
  {
   "cell_type": "code",
   "execution_count": 769,
   "metadata": {
    "collapsed": true
   },
   "outputs": [],
   "source": [
    "# Lets save this intermediate dataset as csv file to the hard drive.\n",
    "ml_plan_rates.to_csv('ml_plan_rates_Fully_formated.csv')"
   ]
  },
  {
   "cell_type": "markdown",
   "metadata": {},
   "source": [
    "Let's deal with MetalLevel column. We need to change the data type of the values from object to numeric.<br>\n",
    "Lets try **OneHotEncoder** for metal level to do that, we may want to seperate the data from year 2014 and 2015 as training data and then 2016 as the test data. Otherwise all the object data type in the dataframe will have the numerical values, like PlanId, StateCode. These two columns are not required at this moment and can be used if I want to have statewise data or year wise.<br>\n",
    "<br>\n",
    "Now let's divide the entire dataframe into training and test dataset. Dataset from year 2014 to 2017 as **Training** data and data from year 2018 as **Test** data."
   ]
  },
  {
   "cell_type": "code",
   "execution_count": 772,
   "metadata": {
    "collapsed": true
   },
   "outputs": [],
   "source": [
    "# get the data from year 2014 to 2017: year_14to17\n",
    "year_14to17 = ml_plan_rates[ml_plan_rates.BusinessYear < 2018]"
   ]
  },
  {
   "cell_type": "code",
   "execution_count": 774,
   "metadata": {
    "collapsed": true
   },
   "outputs": [],
   "source": [
    "# get only the column which will be used as features in the regression.\n",
    "all_regression_columns = year_14to17[['Age','RatingAreaId','Tobacco',\n",
    "                                       'MetalLevel','IndividualRate', 'IndividualTobaccoRate']]"
   ]
  },
  {
   "cell_type": "code",
   "execution_count": 776,
   "metadata": {},
   "outputs": [
    {
     "name": "stdout",
     "output_type": "stream",
     "text": [
      "<class 'pandas.core.frame.DataFrame'>\n",
      "Int64Index: 5654319 entries, 14551 to 15775490\n",
      "Data columns (total 6 columns):\n",
      "Age                      int64\n",
      "RatingAreaId             int64\n",
      "Tobacco                  int64\n",
      "MetalLevel               object\n",
      "IndividualRate           float64\n",
      "IndividualTobaccoRate    float64\n",
      "dtypes: float64(2), int64(3), object(1)\n",
      "memory usage: 302.0+ MB\n"
     ]
    }
   ],
   "source": [
    "# check if we have only the columns to be used in the regression.\n",
    "all_regression_columns.info()"
   ]
  },
  {
   "cell_type": "markdown",
   "metadata": {},
   "source": [
    "MetalLevel column is the only column which object type value. We will use OneHotEncoder for this column to change it into numberical values which will be used in prediction calculation. This dataframe will be my **training data**."
   ]
  },
  {
   "cell_type": "code",
   "execution_count": 780,
   "metadata": {},
   "outputs": [
    {
     "data": {
      "text/plain": [
       "Index(['Age', 'RatingAreaId', 'Tobacco', 'IndividualRate',\n",
       "       'IndividualTobaccoRate', 'MetalLevel_Bronze', 'MetalLevel_Catastrophic',\n",
       "       'MetalLevel_Expanded Bronze', 'MetalLevel_Gold', 'MetalLevel_Platinum',\n",
       "       'MetalLevel_Silver'],\n",
       "      dtype='object')"
      ]
     },
     "execution_count": 780,
     "metadata": {},
     "output_type": "execute_result"
    }
   ],
   "source": [
    "# use OneHotEncoder on this dataset to make it numerical categorical dataset: train_df\n",
    "train_df = pd.get_dummies(all_regression_columns)\n",
    "train_df.columns"
   ]
  },
  {
   "cell_type": "code",
   "execution_count": 781,
   "metadata": {
    "collapsed": true
   },
   "outputs": [],
   "source": [
    "# getting all the independent variables in one dataframe: train_features\n",
    "train_features = train_df[['Age', 'RatingAreaId', 'Tobacco', 'MetalLevel_Bronze',\n",
    "                           'MetalLevel_Catastrophic', 'MetalLevel_Expanded Bronze',\n",
    "                           'MetalLevel_Gold', 'MetalLevel_Platinum', 'MetalLevel_Silver']]"
   ]
  },
  {
   "cell_type": "markdown",
   "metadata": {},
   "source": [
    "**Target Variables** for training dataset."
   ]
  },
  {
   "cell_type": "code",
   "execution_count": 790,
   "metadata": {
    "collapsed": true
   },
   "outputs": [],
   "source": [
    "# get all the target variables into one dataframe: train_target\n",
    "train_target = train_df[['IndividualRate', 'IndividualTobaccoRate']]"
   ]
  },
  {
   "cell_type": "code",
   "execution_count": 791,
   "metadata": {},
   "outputs": [
    {
     "name": "stdout",
     "output_type": "stream",
     "text": [
      "<class 'pandas.core.frame.DataFrame'>\n",
      "Int64Index: 5654319 entries, 14551 to 15775490\n",
      "Data columns (total 2 columns):\n",
      "IndividualRate           float64\n",
      "IndividualTobaccoRate    float64\n",
      "dtypes: float64(2)\n",
      "memory usage: 129.4 MB\n"
     ]
    }
   ],
   "source": [
    "# Make sure the dataframe has the same number of rows as in the train_df\n",
    "train_target.info()"
   ]
  },
  {
   "cell_type": "markdown",
   "metadata": {},
   "source": [
    "Now let's get **Test Data** into another datframe. Test data will be data from year 2018."
   ]
  },
  {
   "cell_type": "code",
   "execution_count": 784,
   "metadata": {
    "collapsed": true
   },
   "outputs": [],
   "source": [
    "# get the data from year 2014 to 2017: year_18\n",
    "year_18 = ml_plan_rates[ml_plan_rates.BusinessYear == 2018]"
   ]
  },
  {
   "cell_type": "code",
   "execution_count": 785,
   "metadata": {
    "collapsed": true
   },
   "outputs": [],
   "source": [
    "# get only the column which will be used as features in the regression.\n",
    "all_regression_columns_test = year_18[['Age','RatingAreaId','Tobacco',\n",
    "                                       'MetalLevel','IndividualRate', 'IndividualTobaccoRate']]"
   ]
  },
  {
   "cell_type": "code",
   "execution_count": 786,
   "metadata": {},
   "outputs": [
    {
     "name": "stdout",
     "output_type": "stream",
     "text": [
      "<class 'pandas.core.frame.DataFrame'>\n",
      "Int64Index: 457004 entries, 15825139 to 18072591\n",
      "Data columns (total 6 columns):\n",
      "Age                      457004 non-null int64\n",
      "RatingAreaId             457004 non-null int64\n",
      "Tobacco                  457004 non-null int64\n",
      "MetalLevel               457004 non-null object\n",
      "IndividualRate           457004 non-null float64\n",
      "IndividualTobaccoRate    457004 non-null float64\n",
      "dtypes: float64(2), int64(3), object(1)\n",
      "memory usage: 24.4+ MB\n"
     ]
    }
   ],
   "source": [
    "# check if we have only the columns to be used in the regression.\n",
    "all_regression_columns_test.info()"
   ]
  },
  {
   "cell_type": "markdown",
   "metadata": {},
   "source": [
    "MetalLevel column is the only column which object type value. We will use OneHotEncoder for this column to change it into numberical values which will be used in prediction calculation. This dataframe will be my **test data**."
   ]
  },
  {
   "cell_type": "code",
   "execution_count": 787,
   "metadata": {},
   "outputs": [
    {
     "data": {
      "text/plain": [
       "Index(['Age', 'RatingAreaId', 'Tobacco', 'IndividualRate',\n",
       "       'IndividualTobaccoRate', 'MetalLevel_Bronze', 'MetalLevel_Catastrophic',\n",
       "       'MetalLevel_Expanded Bronze', 'MetalLevel_Gold', 'MetalLevel_Platinum',\n",
       "       'MetalLevel_Silver'],\n",
       "      dtype='object')"
      ]
     },
     "execution_count": 787,
     "metadata": {},
     "output_type": "execute_result"
    }
   ],
   "source": [
    "# use OneHotEncoder on this dataset to make it numerical categorical dataset: test_df\n",
    "test_df = pd.get_dummies(all_regression_columns_test)\n",
    "test_df.columns"
   ]
  },
  {
   "cell_type": "code",
   "execution_count": 788,
   "metadata": {
    "collapsed": true
   },
   "outputs": [],
   "source": [
    "# getting all the independent variables in one dataframe: test_features\n",
    "test_features = test_df[['Age', 'RatingAreaId', 'Tobacco', 'MetalLevel_Bronze',\n",
    "                           'MetalLevel_Catastrophic', 'MetalLevel_Expanded Bronze',\n",
    "                           'MetalLevel_Gold', 'MetalLevel_Platinum', 'MetalLevel_Silver']]"
   ]
  },
  {
   "cell_type": "code",
   "execution_count": 789,
   "metadata": {},
   "outputs": [
    {
     "name": "stdout",
     "output_type": "stream",
     "text": [
      "<class 'pandas.core.frame.DataFrame'>\n",
      "Int64Index: 457004 entries, 15825139 to 18072591\n",
      "Data columns (total 9 columns):\n",
      "Age                           457004 non-null int64\n",
      "RatingAreaId                  457004 non-null int64\n",
      "Tobacco                       457004 non-null int64\n",
      "MetalLevel_Bronze             457004 non-null uint8\n",
      "MetalLevel_Catastrophic       457004 non-null uint8\n",
      "MetalLevel_Expanded Bronze    457004 non-null uint8\n",
      "MetalLevel_Gold               457004 non-null uint8\n",
      "MetalLevel_Platinum           457004 non-null uint8\n",
      "MetalLevel_Silver             457004 non-null uint8\n",
      "dtypes: int64(3), uint8(6)\n",
      "memory usage: 16.6 MB\n"
     ]
    }
   ],
   "source": [
    "test_features.info()"
   ]
  },
  {
   "cell_type": "markdown",
   "metadata": {},
   "source": [
    "**Target Variables** for training dataset."
   ]
  },
  {
   "cell_type": "code",
   "execution_count": 794,
   "metadata": {
    "collapsed": true
   },
   "outputs": [],
   "source": [
    "# get all the target variables into one dataframe: test_target\n",
    "test_target = test_df[['IndividualRate', 'IndividualTobaccoRate']]"
   ]
  },
  {
   "cell_type": "code",
   "execution_count": 795,
   "metadata": {},
   "outputs": [
    {
     "name": "stdout",
     "output_type": "stream",
     "text": [
      "<class 'pandas.core.frame.DataFrame'>\n",
      "Int64Index: 457004 entries, 15825139 to 18072591\n",
      "Data columns (total 2 columns):\n",
      "IndividualRate           457004 non-null float64\n",
      "IndividualTobaccoRate    457004 non-null float64\n",
      "dtypes: float64(2)\n",
      "memory usage: 10.5 MB\n"
     ]
    }
   ],
   "source": [
    "# make sure we have same number of rows as in the test_df\n",
    "test_target.info()"
   ]
  },
  {
   "cell_type": "markdown",
   "metadata": {},
   "source": [
    "### Regression Anaylysis ###\n",
    "**1. Ordinary Least Square(OLS)** method: For Individual Rate"
   ]
  },
  {
   "cell_type": "code",
   "execution_count": 797,
   "metadata": {
    "collapsed": true
   },
   "outputs": [],
   "source": [
    "# Import regression modules\n",
    "import statsmodels.api as sm\n",
    "from statsmodels.formula.api import OLS"
   ]
  },
  {
   "cell_type": "code",
   "execution_count": 798,
   "metadata": {},
   "outputs": [
    {
     "name": "stdout",
     "output_type": "stream",
     "text": [
      "                            OLS Regression Results                            \n",
      "==============================================================================\n",
      "Dep. Variable:         IndividualRate   R-squared:                       0.640\n",
      "Model:                            OLS   Adj. R-squared:                  0.640\n",
      "Method:                 Least Squares   F-statistic:                 1.257e+06\n",
      "Date:                Thu, 22 Feb 2018   Prob (F-statistic):               0.00\n",
      "Time:                        02:29:24   Log-Likelihood:            -3.6078e+07\n",
      "No. Observations:             5654319   AIC:                         7.216e+07\n",
      "Df Residuals:                 5654310   BIC:                         7.216e+07\n",
      "Df Model:                           8                                         \n",
      "Covariance Type:            nonrobust                                         \n",
      "==============================================================================================\n",
      "                                 coef    std err          t      P>|t|      [0.025      0.975]\n",
      "----------------------------------------------------------------------------------------------\n",
      "Age                           13.1524      0.005   2906.992      0.000      13.144      13.161\n",
      "RatingAreaId                   0.3916      0.004     96.750      0.000       0.384       0.399\n",
      "Tobacco                      -25.7513      0.704    -36.603      0.000     -27.130     -24.372\n",
      "MetalLevel_Bronze           -160.8049      0.747   -215.408      0.000    -162.268    -159.342\n",
      "MetalLevel_Catastrophic     -238.0645      0.804   -295.939      0.000    -239.641    -236.488\n",
      "MetalLevel_Expanded Bronze  -132.2627      0.915   -144.599      0.000    -134.055    -130.470\n",
      "MetalLevel_Gold                1.9395      0.738      2.630      0.009       0.494       3.385\n",
      "MetalLevel_Platinum           73.3229      0.780     94.037      0.000      71.795      74.851\n",
      "MetalLevel_Silver            -82.2257      0.737   -111.521      0.000     -83.671     -80.781\n",
      "==============================================================================\n",
      "Omnibus:                  6768826.974   Durbin-Watson:                   0.053\n",
      "Prob(Omnibus):                  0.000   Jarque-Bera (JB):       3147937538.341\n",
      "Skew:                           5.918   Prob(JB):                         0.00\n",
      "Kurtosis:                     117.985   Cond. No.                     1.51e+03\n",
      "==============================================================================\n",
      "\n",
      "Warnings:\n",
      "[1] Standard Errors assume that the covariance matrix of the errors is correctly specified.\n",
      "[2] The condition number is large, 1.51e+03. This might indicate that there are\n",
      "strong multicollinearity or other numerical problems.\n"
     ]
    }
   ],
   "source": [
    "# initiate and fit the ols model: m\n",
    "m = sm.OLS(train_target[['IndividualRate']], train_features).fit()\n",
    "\n",
    "# predict using model m\n",
    "prediction = m.predict(test_features)\n",
    "\n",
    "# print summary.\n",
    "print(m.summary())"
   ]
  },
  {
   "cell_type": "markdown",
   "metadata": {},
   "source": [
    "The table in the middle is the one we need to concern about. All the p values are 0 except MetalLevel_Gold which is 0.009 which is smaller than 0.05.<br>\n",
    "**R-Squared value: 0.640** which means there this model is **64%** accurate."
   ]
  },
  {
   "cell_type": "markdown",
   "metadata": {},
   "source": [
    "**2.Linear Regression in sklearn:** with the same training and test data for **Individual Rate**"
   ]
  },
  {
   "cell_type": "code",
   "execution_count": 799,
   "metadata": {},
   "outputs": [
    {
     "data": {
      "text/plain": [
       "LinearRegression(copy_X=True, fit_intercept=True, n_jobs=1, normalize=False)"
      ]
     },
     "execution_count": 799,
     "metadata": {},
     "output_type": "execute_result"
    }
   ],
   "source": [
    "# importing required \n",
    "from sklearn.linear_model import LinearRegression\n",
    "from sklearn.metrics import mean_squared_error, r2_score\n",
    "\n",
    "# This creates a LinearRegression object: lm\n",
    "lm = LinearRegression()\n",
    "lm"
   ]
  },
  {
   "cell_type": "code",
   "execution_count": 800,
   "metadata": {},
   "outputs": [
    {
     "data": {
      "text/plain": [
       "LinearRegression(copy_X=True, fit_intercept=True, n_jobs=1, normalize=False)"
      ]
     },
     "execution_count": 800,
     "metadata": {},
     "output_type": "execute_result"
    }
   ],
   "source": [
    "# fit the linear model\n",
    "lm.fit(train_features, train_target.IndividualRate)"
   ]
  },
  {
   "cell_type": "code",
   "execution_count": 801,
   "metadata": {},
   "outputs": [
    {
     "name": "stdout",
     "output_type": "stream",
     "text": [
      "Estimated intercept coefficient: 297105581056.72845\n"
     ]
    }
   ],
   "source": [
    "# print the intercept coefficient.\n",
    "print('Estimated intercept coefficient: {}'.format(lm.intercept_))"
   ]
  },
  {
   "cell_type": "code",
   "execution_count": 802,
   "metadata": {},
   "outputs": [
    {
     "name": "stdout",
     "output_type": "stream",
     "text": [
      "Number of coefficients: 9\n"
     ]
    }
   ],
   "source": [
    "print('Number of coefficients: {}'.format(len(lm.coef_)))"
   ]
  },
  {
   "cell_type": "code",
   "execution_count": 803,
   "metadata": {
    "collapsed": true
   },
   "outputs": [],
   "source": [
    "y_predict = lm.predict(test_features)"
   ]
  },
  {
   "cell_type": "code",
   "execution_count": 808,
   "metadata": {},
   "outputs": [
    {
     "name": "stdout",
     "output_type": "stream",
     "text": [
      "The score for this model is 64.00%\n"
     ]
    }
   ],
   "source": [
    "# Calculate the score for the accuracy of the model: lm_score\n",
    "lm_score = lm.score(train_features, train_target.IndividualRate)\n",
    "\n",
    "# print the score in percentage format. \n",
    "print('The score for this model is {0:.2f}%' .format(lm_score*100))"
   ]
  },
  {
   "cell_type": "markdown",
   "metadata": {},
   "source": [
    "As we can see above both regression models OLS and Linear model perform the same with score of **64%.** which is not that great."
   ]
  },
  {
   "cell_type": "code",
   "execution_count": 809,
   "metadata": {},
   "outputs": [
    {
     "data": {
      "image/png": "[encoded data removed]",
      "text/plain": [
       "<matplotlib.figure.Figure at 0x13de7cc18>"
      ]
     },
     "metadata": {},
     "output_type": "display_data"
    }
   ],
   "source": [
    "# plot the predicted price to check if the distributio is normal.\n",
    "plt.figure(figsize=(15,10))\n",
    "plt.hist(y_predict)\n",
    "plt.title('Price Prediction')\n",
    "plt.xlabel('Predicted Price')\n",
    "plt.ylabel('Frequency')\n",
    "plt.show()"
   ]
  },
  {
   "cell_type": "markdown",
   "metadata": {},
   "source": [
    "The distribution is near to normal but slightly left skewed."
   ]
  },
  {
   "cell_type": "code",
   "execution_count": 810,
   "metadata": {},
   "outputs": [
    {
     "data": {
      "text/html": [
       "<div>\n",
       "<style>\n",
       "    .dataframe thead tr:only-child th {\n",
       "        text-align: right;\n",
       "    }\n",
       "\n",
       "    .dataframe thead th {\n",
       "        text-align: left;\n",
       "    }\n",
       "\n",
       "    .dataframe tbody tr th {\n",
       "        vertical-align: top;\n",
       "    }\n",
       "</style>\n",
       "<table border=\"1\" class=\"dataframe\">\n",
       "  <thead>\n",
       "    <tr style=\"text-align: right;\">\n",
       "      <th></th>\n",
       "      <th>features</th>\n",
       "      <th>estimatedCoefficients</th>\n",
       "    </tr>\n",
       "  </thead>\n",
       "  <tbody>\n",
       "    <tr>\n",
       "      <th>0</th>\n",
       "      <td>Age</td>\n",
       "      <td>1.315240e+01</td>\n",
       "    </tr>\n",
       "    <tr>\n",
       "      <th>1</th>\n",
       "      <td>RatingAreaId</td>\n",
       "      <td>3.916033e-01</td>\n",
       "    </tr>\n",
       "    <tr>\n",
       "      <th>2</th>\n",
       "      <td>Tobacco</td>\n",
       "      <td>-2.572299e+01</td>\n",
       "    </tr>\n",
       "    <tr>\n",
       "      <th>3</th>\n",
       "      <td>MetalLevel_Bronze</td>\n",
       "      <td>-2.971056e+11</td>\n",
       "    </tr>\n",
       "    <tr>\n",
       "      <th>4</th>\n",
       "      <td>MetalLevel_Catastrophic</td>\n",
       "      <td>-2.971056e+11</td>\n",
       "    </tr>\n",
       "    <tr>\n",
       "      <th>5</th>\n",
       "      <td>MetalLevel_Expanded Bronze</td>\n",
       "      <td>-2.971056e+11</td>\n",
       "    </tr>\n",
       "    <tr>\n",
       "      <th>6</th>\n",
       "      <td>MetalLevel_Gold</td>\n",
       "      <td>-2.971056e+11</td>\n",
       "    </tr>\n",
       "    <tr>\n",
       "      <th>7</th>\n",
       "      <td>MetalLevel_Platinum</td>\n",
       "      <td>-2.971056e+11</td>\n",
       "    </tr>\n",
       "    <tr>\n",
       "      <th>8</th>\n",
       "      <td>MetalLevel_Silver</td>\n",
       "      <td>-2.971056e+11</td>\n",
       "    </tr>\n",
       "  </tbody>\n",
       "</table>\n",
       "</div>"
      ],
      "text/plain": [
       "                     features  estimatedCoefficients\n",
       "0                         Age           1.315240e+01\n",
       "1                RatingAreaId           3.916033e-01\n",
       "2                     Tobacco          -2.572299e+01\n",
       "3           MetalLevel_Bronze          -2.971056e+11\n",
       "4     MetalLevel_Catastrophic          -2.971056e+11\n",
       "5  MetalLevel_Expanded Bronze          -2.971056e+11\n",
       "6             MetalLevel_Gold          -2.971056e+11\n",
       "7         MetalLevel_Platinum          -2.971056e+11\n",
       "8           MetalLevel_Silver          -2.971056e+11"
      ]
     },
     "execution_count": 810,
     "metadata": {},
     "output_type": "execute_result"
    }
   ],
   "source": [
    "# The coefficients\n",
    "pd.DataFrame({'features': train_features.columns, 'estimatedCoefficients': lm.coef_})[\n",
    "    ['features', 'estimatedCoefficients']]"
   ]
  },
  {
   "cell_type": "markdown",
   "metadata": {},
   "source": [
    "### Model Evaluation ###\n",
    "**Mean Squared Error:** This is for Linear Model __lm__"
   ]
  },
  {
   "cell_type": "code",
   "execution_count": 811,
   "metadata": {},
   "outputs": [
    {
     "name": "stdout",
     "output_type": "stream",
     "text": [
      "77781.30797154522\n"
     ]
    }
   ],
   "source": [
    "# Manual calculation on Mean Squared Error: mse\n",
    "mse = np.mean((test_target.IndividualRate - lm.predict(test_features))**2)\n",
    "print(mse)"
   ]
  },
  {
   "cell_type": "code",
   "execution_count": 812,
   "metadata": {},
   "outputs": [
    {
     "data": {
      "text/plain": [
       "77781.307971542861"
      ]
     },
     "execution_count": 812,
     "metadata": {},
     "output_type": "execute_result"
    }
   ],
   "source": [
    "# calculate mean_squared_error from sklearn package\n",
    "mean_squared_error(test_target.IndividualRate, y_predict)"
   ]
  },
  {
   "cell_type": "code",
   "execution_count": 813,
   "metadata": {},
   "outputs": [
    {
     "data": {
      "text/plain": [
       "0.20320464715011433"
      ]
     },
     "execution_count": 813,
     "metadata": {},
     "output_type": "execute_result"
    }
   ],
   "source": [
    "# calculate r-squared value from sklearn\n",
    "r2_score(test_target.IndividualRate, y_predict)"
   ]
  },
  {
   "cell_type": "markdown",
   "metadata": {},
   "source": [
    "Low $R^2$ value is not bad, though we can conclude about how changes in the predictor values are associated with changes in the response value."
   ]
  },
  {
   "cell_type": "markdown",
   "metadata": {},
   "source": [
    "### Regression for predicting Individual Tobacco Rate ###\n",
    "**1. OLS Method**: Individual Tobacco Rate"
   ]
  },
  {
   "cell_type": "code",
   "execution_count": 816,
   "metadata": {},
   "outputs": [
    {
     "name": "stdout",
     "output_type": "stream",
     "text": [
      "                              OLS Regression Results                             \n",
      "=================================================================================\n",
      "Dep. Variable:     IndividualTobaccoRate   R-squared:                       0.622\n",
      "Model:                               OLS   Adj. R-squared:                  0.622\n",
      "Method:                    Least Squares   F-statistic:                 1.165e+06\n",
      "Date:                   Thu, 22 Feb 2018   Prob (F-statistic):               0.00\n",
      "Time:                           03:19:22   Log-Likelihood:            -3.7513e+07\n",
      "No. Observations:                5654319   AIC:                         7.503e+07\n",
      "Df Residuals:                    5654310   BIC:                         7.503e+07\n",
      "Df Model:                              8                                         \n",
      "Covariance Type:               nonrobust                                         \n",
      "==============================================================================================\n",
      "                                 coef    std err          t      P>|t|      [0.025      0.975]\n",
      "----------------------------------------------------------------------------------------------\n",
      "Age                           16.4408      0.006   2819.102      0.000      16.429      16.452\n",
      "RatingAreaId                   0.3327      0.005     63.778      0.000       0.322       0.343\n",
      "Tobacco                       61.5313      0.907     67.853      0.000      59.754      63.309\n",
      "MetalLevel_Bronze           -313.2672      0.962   -325.557      0.000    -315.153    -311.381\n",
      "MetalLevel_Catastrophic     -411.8137      1.037   -397.152      0.000    -413.846    -409.781\n",
      "MetalLevel_Expanded Bronze  -281.2538      1.179   -238.548      0.000    -283.565    -278.943\n",
      "MetalLevel_Gold             -119.3521      0.951   -125.544      0.000    -121.215    -117.489\n",
      "MetalLevel_Platinum          -33.0204      1.005    -32.854      0.000     -34.990     -31.051\n",
      "MetalLevel_Silver           -219.0240      0.950   -230.458      0.000    -220.887    -217.161\n",
      "==============================================================================\n",
      "Omnibus:                  5946018.636   Durbin-Watson:                   0.053\n",
      "Prob(Omnibus):                  0.000   Jarque-Bera (JB):       1603855571.287\n",
      "Skew:                           4.798   Prob(JB):                         0.00\n",
      "Kurtosis:                      84.948   Cond. No.                     1.51e+03\n",
      "==============================================================================\n",
      "\n",
      "Warnings:\n",
      "[1] Standard Errors assume that the covariance matrix of the errors is correctly specified.\n",
      "[2] The condition number is large, 1.51e+03. This might indicate that there are\n",
      "strong multicollinearity or other numerical problems.\n"
     ]
    }
   ],
   "source": [
    "# fit the ols model: m_tobacco\n",
    "#m = sm.OLS(Y_indi_train_df, X_indi_train_df).fit()\n",
    "m_tobacco = sm.OLS(train_target[['IndividualTobaccoRate']], train_features).fit()\n",
    "\n",
    "# predict using model m_tobacco: predict_tobacco\n",
    "predict_tobacco = m_tobacco.predict(test_features)\n",
    "\n",
    "# print summary.\n",
    "print(m_tobacco.summary())"
   ]
  },
  {
   "cell_type": "markdown",
   "metadata": {},
   "source": [
    "Middle table has p-value as 0 for all the variables.<br>\n",
    "The model performance is  **62.2%**"
   ]
  },
  {
   "cell_type": "markdown",
   "metadata": {},
   "source": [
    "**2.Linear Regreesion:** Individual Tabacco Rates."
   ]
  },
  {
   "cell_type": "code",
   "execution_count": 818,
   "metadata": {},
   "outputs": [
    {
     "data": {
      "text/plain": [
       "LinearRegression(copy_X=True, fit_intercept=True, n_jobs=1, normalize=False)"
      ]
     },
     "execution_count": 818,
     "metadata": {},
     "output_type": "execute_result"
    }
   ],
   "source": [
    "# create a LinearRegression object: lm_tobacco\n",
    "lm_tobacco = LinearRegression()\n",
    "lm_tobacco"
   ]
  },
  {
   "cell_type": "code",
   "execution_count": 819,
   "metadata": {},
   "outputs": [
    {
     "data": {
      "text/plain": [
       "LinearRegression(copy_X=True, fit_intercept=True, n_jobs=1, normalize=False)"
      ]
     },
     "execution_count": 819,
     "metadata": {},
     "output_type": "execute_result"
    }
   ],
   "source": [
    "# fit the linear model\n",
    "lm_tobacco.fit(train_features, train_target.IndividualTobaccoRate)"
   ]
  },
  {
   "cell_type": "code",
   "execution_count": 821,
   "metadata": {},
   "outputs": [
    {
     "name": "stdout",
     "output_type": "stream",
     "text": [
      "Estimated intercept coefficient: 332655784018.43933\n"
     ]
    }
   ],
   "source": [
    "# print the intercept coefficient.\n",
    "print('Estimated intercept coefficient: {}'.format(lm_tobacco.intercept_))"
   ]
  },
  {
   "cell_type": "code",
   "execution_count": 822,
   "metadata": {},
   "outputs": [
    {
     "name": "stdout",
     "output_type": "stream",
     "text": [
      "Number of coefficients: 9\n"
     ]
    }
   ],
   "source": [
    "print('Number of coefficients: {}'.format(len(lm_tobacco.coef_)))"
   ]
  },
  {
   "cell_type": "code",
   "execution_count": 824,
   "metadata": {
    "collapsed": true
   },
   "outputs": [],
   "source": [
    "# predict using test data from year 2016: y_predict_tobacco\n",
    "y_predict_tobacco = lm_tobacco.predict(test_features)"
   ]
  },
  {
   "cell_type": "code",
   "execution_count": 826,
   "metadata": {},
   "outputs": [
    {
     "name": "stdout",
     "output_type": "stream",
     "text": [
      "The score for this model is 62.24%\n"
     ]
    }
   ],
   "source": [
    "# Calculate the score for the accuracy of the model: lm_tobacco_score\n",
    "lm_tobacco_score = lm_tobacco.score(train_features, train_target.IndividualTobaccoRate)\n",
    "\n",
    "# print the score in percentage format. \n",
    "print('The score for this model is {0:.2f}%' .format(lm_tobacco_score*100))"
   ]
  },
  {
   "cell_type": "markdown",
   "metadata": {},
   "source": [
    "As we can see above both regression models OLS and Linear model perform the same with score of **62.24%.** which is not that great."
   ]
  },
  {
   "cell_type": "code",
   "execution_count": 828,
   "metadata": {},
   "outputs": [
    {
     "data": {
      "image/png": "[encoded data removed]",
      "text/plain": [
       "<matplotlib.figure.Figure at 0x11e201828>"
      ]
     },
     "metadata": {},
     "output_type": "display_data"
    }
   ],
   "source": [
    "# plot the predicted values to see the distribution\n",
    "plt.figure(figsize=(15,10))\n",
    "plt.hist(y_predict_tobacco)\n",
    "plt.title('Price Prediction')\n",
    "plt.xlabel('Predicted Price')\n",
    "plt.ylabel('Frequency')\n",
    "plt.show()"
   ]
  },
  {
   "cell_type": "markdown",
   "metadata": {},
   "source": [
    "The distribution looks normal."
   ]
  },
  {
   "cell_type": "code",
   "execution_count": 829,
   "metadata": {},
   "outputs": [
    {
     "data": {
      "text/html": [
       "<div>\n",
       "<style>\n",
       "    .dataframe thead tr:only-child th {\n",
       "        text-align: right;\n",
       "    }\n",
       "\n",
       "    .dataframe thead th {\n",
       "        text-align: left;\n",
       "    }\n",
       "\n",
       "    .dataframe tbody tr th {\n",
       "        vertical-align: top;\n",
       "    }\n",
       "</style>\n",
       "<table border=\"1\" class=\"dataframe\">\n",
       "  <thead>\n",
       "    <tr style=\"text-align: right;\">\n",
       "      <th></th>\n",
       "      <th>features</th>\n",
       "      <th>estimatedCoefficients</th>\n",
       "    </tr>\n",
       "  </thead>\n",
       "  <tbody>\n",
       "    <tr>\n",
       "      <th>0</th>\n",
       "      <td>Age</td>\n",
       "      <td>1.644081e+01</td>\n",
       "    </tr>\n",
       "    <tr>\n",
       "      <th>1</th>\n",
       "      <td>RatingAreaId</td>\n",
       "      <td>3.327511e-01</td>\n",
       "    </tr>\n",
       "    <tr>\n",
       "      <th>2</th>\n",
       "      <td>Tobacco</td>\n",
       "      <td>6.156298e+01</td>\n",
       "    </tr>\n",
       "    <tr>\n",
       "      <th>3</th>\n",
       "      <td>MetalLevel_Bronze</td>\n",
       "      <td>-3.326558e+11</td>\n",
       "    </tr>\n",
       "    <tr>\n",
       "      <th>4</th>\n",
       "      <td>MetalLevel_Catastrophic</td>\n",
       "      <td>-3.326558e+11</td>\n",
       "    </tr>\n",
       "    <tr>\n",
       "      <th>5</th>\n",
       "      <td>MetalLevel_Expanded Bronze</td>\n",
       "      <td>-3.326558e+11</td>\n",
       "    </tr>\n",
       "    <tr>\n",
       "      <th>6</th>\n",
       "      <td>MetalLevel_Gold</td>\n",
       "      <td>-3.326558e+11</td>\n",
       "    </tr>\n",
       "    <tr>\n",
       "      <th>7</th>\n",
       "      <td>MetalLevel_Platinum</td>\n",
       "      <td>-3.326558e+11</td>\n",
       "    </tr>\n",
       "    <tr>\n",
       "      <th>8</th>\n",
       "      <td>MetalLevel_Silver</td>\n",
       "      <td>-3.326558e+11</td>\n",
       "    </tr>\n",
       "  </tbody>\n",
       "</table>\n",
       "</div>"
      ],
      "text/plain": [
       "                     features  estimatedCoefficients\n",
       "0                         Age           1.644081e+01\n",
       "1                RatingAreaId           3.327511e-01\n",
       "2                     Tobacco           6.156298e+01\n",
       "3           MetalLevel_Bronze          -3.326558e+11\n",
       "4     MetalLevel_Catastrophic          -3.326558e+11\n",
       "5  MetalLevel_Expanded Bronze          -3.326558e+11\n",
       "6             MetalLevel_Gold          -3.326558e+11\n",
       "7         MetalLevel_Platinum          -3.326558e+11\n",
       "8           MetalLevel_Silver          -3.326558e+11"
      ]
     },
     "execution_count": 829,
     "metadata": {},
     "output_type": "execute_result"
    }
   ],
   "source": [
    "# The coefficients\n",
    "pd.DataFrame({'features': test_features.columns, 'estimatedCoefficients': lm_tobacco.coef_})[\n",
    "    ['features', 'estimatedCoefficients']]"
   ]
  },
  {
   "cell_type": "markdown",
   "metadata": {},
   "source": [
    "### Model Evaluation ###\n",
    "Individual Rates for tobacoo users.\n",
    "#### Mean Squared Error ####"
   ]
  },
  {
   "cell_type": "code",
   "execution_count": 831,
   "metadata": {},
   "outputs": [
    {
     "name": "stdout",
     "output_type": "stream",
     "text": [
      "105757.40761285773\n"
     ]
    }
   ],
   "source": [
    "# manual calculation of Mean Squared Error: mse_tobacco\n",
    "mse_tobacco = np.mean((test_target.IndividualTobaccoRate - lm_tobacco.predict(test_features))**2)\n",
    "print(mse_tobacco)"
   ]
  },
  {
   "cell_type": "code",
   "execution_count": 832,
   "metadata": {},
   "outputs": [
    {
     "data": {
      "text/plain": [
       "105757.40761285624"
      ]
     },
     "execution_count": 832,
     "metadata": {},
     "output_type": "execute_result"
    }
   ],
   "source": [
    "# calculate mean_squared_error using sklearn package\n",
    "mean_squared_error(test_target.IndividualTobaccoRate, y_predict_tobacco)"
   ]
  },
  {
   "cell_type": "markdown",
   "metadata": {},
   "source": [
    "Calculation of Mean Squared error produced same result wether calculated manully or usking sklearn package."
   ]
  },
  {
   "cell_type": "code",
   "execution_count": 833,
   "metadata": {},
   "outputs": [
    {
     "data": {
      "text/plain": [
       "0.27865410310437988"
      ]
     },
     "execution_count": 833,
     "metadata": {},
     "output_type": "execute_result"
    }
   ],
   "source": [
    "# calculation of R-Squared value using sklearn package.\n",
    "r2_score(test_target.IndividualTobaccoRate, y_predict_tobacco)"
   ]
  },
  {
   "cell_type": "markdown",
   "metadata": {},
   "source": [
    "Low $R^2$ value is not bad, though we can conclude about how changes in the predictor values are associated with changes in the response value."
   ]
  },
  {
   "cell_type": "markdown",
   "metadata": {},
   "source": [
    "## Decision Tree regression for individual and individual tobacco rates ##"
   ]
  },
  {
   "cell_type": "markdown",
   "metadata": {},
   "source": [
    "We already have the required dataset in the format we need. I will be implementing the same datset as above to check the prediction score and will try to compare the models"
   ]
  },
  {
   "cell_type": "code",
   "execution_count": 834,
   "metadata": {},
   "outputs": [
    {
     "data": {
      "text/html": [
       "<div>\n",
       "<style>\n",
       "    .dataframe thead tr:only-child th {\n",
       "        text-align: right;\n",
       "    }\n",
       "\n",
       "    .dataframe thead th {\n",
       "        text-align: left;\n",
       "    }\n",
       "\n",
       "    .dataframe tbody tr th {\n",
       "        vertical-align: top;\n",
       "    }\n",
       "</style>\n",
       "<table border=\"1\" class=\"dataframe\">\n",
       "  <thead>\n",
       "    <tr style=\"text-align: right;\">\n",
       "      <th></th>\n",
       "      <th>Age</th>\n",
       "      <th>RatingAreaId</th>\n",
       "      <th>Tobacco</th>\n",
       "      <th>MetalLevel_Bronze</th>\n",
       "      <th>MetalLevel_Catastrophic</th>\n",
       "      <th>MetalLevel_Expanded Bronze</th>\n",
       "      <th>MetalLevel_Gold</th>\n",
       "      <th>MetalLevel_Platinum</th>\n",
       "      <th>MetalLevel_Silver</th>\n",
       "    </tr>\n",
       "  </thead>\n",
       "  <tbody>\n",
       "    <tr>\n",
       "      <th>14551</th>\n",
       "      <td>20</td>\n",
       "      <td>3</td>\n",
       "      <td>1</td>\n",
       "      <td>1</td>\n",
       "      <td>0</td>\n",
       "      <td>0</td>\n",
       "      <td>0</td>\n",
       "      <td>0</td>\n",
       "      <td>0</td>\n",
       "    </tr>\n",
       "    <tr>\n",
       "      <th>14552</th>\n",
       "      <td>21</td>\n",
       "      <td>3</td>\n",
       "      <td>1</td>\n",
       "      <td>1</td>\n",
       "      <td>0</td>\n",
       "      <td>0</td>\n",
       "      <td>0</td>\n",
       "      <td>0</td>\n",
       "      <td>0</td>\n",
       "    </tr>\n",
       "    <tr>\n",
       "      <th>14555</th>\n",
       "      <td>22</td>\n",
       "      <td>3</td>\n",
       "      <td>1</td>\n",
       "      <td>1</td>\n",
       "      <td>0</td>\n",
       "      <td>0</td>\n",
       "      <td>0</td>\n",
       "      <td>0</td>\n",
       "      <td>0</td>\n",
       "    </tr>\n",
       "    <tr>\n",
       "      <th>14556</th>\n",
       "      <td>23</td>\n",
       "      <td>3</td>\n",
       "      <td>1</td>\n",
       "      <td>1</td>\n",
       "      <td>0</td>\n",
       "      <td>0</td>\n",
       "      <td>0</td>\n",
       "      <td>0</td>\n",
       "      <td>0</td>\n",
       "    </tr>\n",
       "    <tr>\n",
       "      <th>14559</th>\n",
       "      <td>24</td>\n",
       "      <td>3</td>\n",
       "      <td>1</td>\n",
       "      <td>1</td>\n",
       "      <td>0</td>\n",
       "      <td>0</td>\n",
       "      <td>0</td>\n",
       "      <td>0</td>\n",
       "      <td>0</td>\n",
       "    </tr>\n",
       "  </tbody>\n",
       "</table>\n",
       "</div>"
      ],
      "text/plain": [
       "       Age  RatingAreaId  Tobacco  MetalLevel_Bronze  MetalLevel_Catastrophic  \\\n",
       "14551   20             3        1                  1                        0   \n",
       "14552   21             3        1                  1                        0   \n",
       "14555   22             3        1                  1                        0   \n",
       "14556   23             3        1                  1                        0   \n",
       "14559   24             3        1                  1                        0   \n",
       "\n",
       "       MetalLevel_Expanded Bronze  MetalLevel_Gold  MetalLevel_Platinum  \\\n",
       "14551                           0                0                    0   \n",
       "14552                           0                0                    0   \n",
       "14555                           0                0                    0   \n",
       "14556                           0                0                    0   \n",
       "14559                           0                0                    0   \n",
       "\n",
       "       MetalLevel_Silver  \n",
       "14551                  0  \n",
       "14552                  0  \n",
       "14555                  0  \n",
       "14556                  0  \n",
       "14559                  0  "
      ]
     },
     "execution_count": 834,
     "metadata": {},
     "output_type": "execute_result"
    }
   ],
   "source": [
    "# Let's have an another look at the dataset.\n",
    "train_features.head()"
   ]
  },
  {
   "cell_type": "code",
   "execution_count": 835,
   "metadata": {
    "collapsed": true
   },
   "outputs": [],
   "source": [
    "# storing the values of each data point into an array for training: X_train, Y_train\n",
    "X_train = train_features.values\n",
    "Y_train = train_target.IndividualRate.values"
   ]
  },
  {
   "cell_type": "code",
   "execution_count": 836,
   "metadata": {
    "collapsed": true
   },
   "outputs": [],
   "source": [
    "# Let's do the same thing for test dataset also: X_test, Y_test\n",
    "X_test = test_features.values\n",
    "Y_test = test_target.IndividualRate.values"
   ]
  },
  {
   "cell_type": "markdown",
   "metadata": {},
   "source": [
    "**Decision Tree** Will use DecisionTreeRegressor to predict the IndividualRate and IndividualTobaccoRate and will compare with the Linear model to check if the model improves in predicting the monthly rates."
   ]
  },
  {
   "cell_type": "code",
   "execution_count": 837,
   "metadata": {
    "collapsed": true
   },
   "outputs": [],
   "source": [
    "# import necesaary packages from sklearn for descision tree model\n",
    "from sklearn import tree\n",
    "from sklearn.ensemble import RandomForestRegressor"
   ]
  },
  {
   "cell_type": "code",
   "execution_count": 838,
   "metadata": {
    "collapsed": true
   },
   "outputs": [],
   "source": [
    "# store all the features name in a list: features_name\n",
    "features_name = ['Age', 'RatingAreaId', 'Tobacco', 'MetalLevel_Bronze', 'MetalLevel_Catastrophic',\n",
    "       'MetalLevel_Expanded Bronze', 'MetalLevel_Gold', 'MetalLevel_Platinum',\n",
    "       'MetalLevel_Silver']"
   ]
  },
  {
   "cell_type": "code",
   "execution_count": 839,
   "metadata": {
    "collapsed": true
   },
   "outputs": [],
   "source": [
    "# For predicting continueous target we need to use DecisionTreeRegressor()\n",
    "# and not DecisionTreeClassifier()\n",
    "# create regressor and fit the model with training data: dt\n",
    "dt = tree.DecisionTreeRegressor()\n",
    "dt = dt.fit(X_train, Y_train)"
   ]
  },
  {
   "cell_type": "code",
   "execution_count": 843,
   "metadata": {},
   "outputs": [
    {
     "name": "stdout",
     "output_type": "stream",
     "text": [
      "                            Importances\n",
      "Age                            0.827148\n",
      "RatingAreaId                   0.012227\n",
      "Tobacco                        0.000346\n",
      "MetalLevel_Bronze              0.066977\n",
      "MetalLevel_Catastrophic        0.036383\n",
      "MetalLevel_Expanded Bronze     0.000357\n",
      "MetalLevel_Gold                0.005530\n",
      "MetalLevel_Platinum            0.008546\n",
      "MetalLevel_Silver              0.042487\n",
      "Score 0.730541027738\n"
     ]
    }
   ],
   "source": [
    "dt_importances = pd.DataFrame(dt.feature_importances_, features_name, columns=[\"Importances\"])\n",
    "\n",
    "print(dt_importances)\n",
    "print('Score', dt.score(X_train, Y_train))"
   ]
  },
  {
   "cell_type": "markdown",
   "metadata": {},
   "source": [
    "This model is approximately **73%** accurate, which is better than Linear model but this score is on training data. We have to check the score on data which is not seen by the model i.e. test data."
   ]
  },
  {
   "cell_type": "code",
   "execution_count": 844,
   "metadata": {},
   "outputs": [
    {
     "name": "stdout",
     "output_type": "stream",
     "text": [
      "Score on test data:  0.256188218491\n"
     ]
    }
   ],
   "source": [
    "print('Score on test data: ', dt.score(X_test, Y_test))"
   ]
  },
  {
   "cell_type": "markdown",
   "metadata": {},
   "source": [
    "The score is very low **25.62%** and no big difference from the Linear model above."
   ]
  },
  {
   "cell_type": "code",
   "execution_count": 876,
   "metadata": {},
   "outputs": [
    {
     "data": {
      "image/png": "[encoded data removed]",
      "text/plain": [
       "<matplotlib.figure.Figure at 0x1304fb470>"
      ]
     },
     "metadata": {},
     "output_type": "display_data"
    }
   ],
   "source": [
    "# plot the features importance.\n",
    "n_features = dt_importances.shape[0]\n",
    "plt.figure(figsize=(15,10))\n",
    "plt.barh(range(n_features), dt.feature_importances_, align='center')\n",
    "plt.title('Feature Importance for the Individual Rate', fontsize=15)\n",
    "plt.yticks(np.arange(n_features), features_name)\n",
    "plt.xlabel('Feature Importance', fontsize=15)\n",
    "plt.ylabel('Features', fontsize=15)\n",
    "plt.ylim(-1,n_features)\n",
    "plt.show()"
   ]
  },
  {
   "cell_type": "code",
   "execution_count": 847,
   "metadata": {
    "collapsed": true
   },
   "outputs": [],
   "source": [
    "# predict using test dataset: dt_pred\n",
    "dt_pred = dt.predict(X_test)"
   ]
  },
  {
   "cell_type": "markdown",
   "metadata": {},
   "source": [
    "### Cross validation ###\n",
    "Implement 5 fold cross validation on the training dataset to train the model in much better way for Individual Rate."
   ]
  },
  {
   "cell_type": "code",
   "execution_count": 848,
   "metadata": {
    "collapsed": true
   },
   "outputs": [],
   "source": [
    "# import all the neccessary packages.\n",
    "from sklearn.model_selection import cross_val_score, train_test_split \n",
    "from sklearn import cross_validation\n",
    "#from sklearn.cross_validation import neg_mean_absolute_error \n",
    "#import visuals as vs"
   ]
  },
  {
   "cell_type": "code",
   "execution_count": 849,
   "metadata": {},
   "outputs": [
    {
     "data": {
      "text/plain": [
       "DecisionTreeRegressor(criterion='mse', max_depth=None, max_features=None,\n",
       "           max_leaf_nodes=None, min_impurity_split=1e-07,\n",
       "           min_samples_leaf=1, min_samples_split=2,\n",
       "           min_weight_fraction_leaf=0.0, presort=False, random_state=None,\n",
       "           splitter='best')"
      ]
     },
     "execution_count": 849,
     "metadata": {},
     "output_type": "execute_result"
    }
   ],
   "source": [
    "# get new regressor: cv_dt\n",
    "cv_dt = tree.DecisionTreeRegressor()\n",
    "cv_dt.fit(X_train, Y_train)"
   ]
  },
  {
   "cell_type": "code",
   "execution_count": 850,
   "metadata": {
    "collapsed": true
   },
   "outputs": [],
   "source": [
    "# calculate score with 5 fold cross validation.\n",
    "scores = cross_validation.cross_val_score(cv_dt, X_test, Y_test, cv=5)"
   ]
  },
  {
   "cell_type": "code",
   "execution_count": 851,
   "metadata": {},
   "outputs": [
    {
     "name": "stdout",
     "output_type": "stream",
     "text": [
      "Score on test data with 5 fold corss validation: [ 0.70417789  0.74342826  0.72860679  0.74188463  0.73561604]\n",
      "Average Score:  0.730742723257\n"
     ]
    }
   ],
   "source": [
    "print(\"Score on test data with 5 fold corss validation:\", scores)\n",
    "print(\"Average Score: \", scores.mean())"
   ]
  },
  {
   "cell_type": "markdown",
   "metadata": {},
   "source": [
    "The model improves significantly on the test data when we use 5 fold cross validation on the training data. "
   ]
  },
  {
   "cell_type": "code",
   "execution_count": 852,
   "metadata": {
    "collapsed": true
   },
   "outputs": [],
   "source": [
    "# predict with cross validation model: cv_pred\n",
    "cv_pred = cv_dt.predict(X_test)"
   ]
  },
  {
   "cell_type": "markdown",
   "metadata": {},
   "source": [
    "### Random Forest Regressor ###\n",
    "RandomForestRegressor with 5 fold cross validation score."
   ]
  },
  {
   "cell_type": "code",
   "execution_count": 845,
   "metadata": {
    "collapsed": true
   },
   "outputs": [],
   "source": [
    "# initiate and fit the mode: forest\n",
    "forest = RandomForestRegressor().fit(X_train, Y_train)"
   ]
  },
  {
   "cell_type": "code",
   "execution_count": 846,
   "metadata": {},
   "outputs": [
    {
     "name": "stdout",
     "output_type": "stream",
     "text": [
      "The score of RandonForestTree on training dataset is [ 0.78416003  0.77578439  0.50416816  0.83413864  0.7950605 ]\n",
      "Average score: 0.7386623425704906\n",
      "The score of RandonForestTree on test dataset is [ 0.70352602  0.74181832  0.72732     0.74129895  0.73528468]\n",
      "Average score: 0.7298495951010955\n"
     ]
    }
   ],
   "source": [
    "# calculate the cross val score on training and test dataset: score_forest_train, score_forest_test\n",
    "score_forest_train = cross_validation.cross_val_score(forest, X_train, Y_train, cv=5)\n",
    "print(\"The score of RandonForestTree on training dataset is {}\".format(score_forest_train))\n",
    "print(\"Average score: {}\".format(score_forest_train.mean()))\n",
    "\n",
    "# calculate the cross val score on test datset\n",
    "score_forest_test = cross_validation.cross_val_score(forest, X_test, Y_test, cv=5)\n",
    "print(\"The score of RandonForestTree on test dataset is {}\".format(score_forest_test))\n",
    "print(\"Average score: {}\".format(score_forest_test.mean()))"
   ]
  },
  {
   "cell_type": "markdown",
   "metadata": {},
   "source": [
    "**Comaprision:** As we have seen the use of 5 fold cross validation definetly improve the predictive model from aproximately **25%** to **73%**. Although the Random Forest Regressor does not show any improvement and the score on test data remains almost same with cross validation score."
   ]
  },
  {
   "cell_type": "markdown",
   "metadata": {},
   "source": [
    "**Individual Tabacco Rates** <br>\n",
    "First will create a simple **decision tree** and then with the **RandonForestRegressor**"
   ]
  },
  {
   "cell_type": "code",
   "execution_count": 858,
   "metadata": {
    "collapsed": true
   },
   "outputs": [],
   "source": [
    "# For individual tobacco rate the features will remain same. only the target variable will change.\n",
    "# target variable: Y_train_tobacco\n",
    "Y_train_tobacco = train_target.IndividualTobaccoRate.values"
   ]
  },
  {
   "cell_type": "code",
   "execution_count": 861,
   "metadata": {
    "collapsed": true
   },
   "outputs": [],
   "source": [
    "# similarly, what we have done above, test dataset for the tobacco individual rate: Y_test_tobacco\n",
    "Y_test_tobacco = test_target.IndividualTobaccoRate.values"
   ]
  },
  {
   "cell_type": "code",
   "execution_count": 862,
   "metadata": {
    "collapsed": true
   },
   "outputs": [],
   "source": [
    "# initiate and fit the decision tree model with trainig data: dt_tobacco\n",
    "dt_tobacco = tree.DecisionTreeRegressor().fit(X_train, Y_train_tobacco)"
   ]
  },
  {
   "cell_type": "code",
   "execution_count": 864,
   "metadata": {
    "collapsed": true
   },
   "outputs": [],
   "source": [
    "# predict using test dataset: tobacco_pred\n",
    "tobacco_pred = dt_tobacco.predict(X_test)"
   ]
  },
  {
   "cell_type": "code",
   "execution_count": 866,
   "metadata": {},
   "outputs": [
    {
     "name": "stdout",
     "output_type": "stream",
     "text": [
      "                            Importances\n",
      "Age                            0.835365\n",
      "RatingAreaId                   0.013091\n",
      "Tobacco                        0.000684\n",
      "MetalLevel_Bronze              0.061705\n",
      "MetalLevel_Catastrophic        0.035520\n",
      "MetalLevel_Expanded Bronze     0.002381\n",
      "MetalLevel_Gold                0.003277\n",
      "MetalLevel_Platinum            0.008573\n",
      "MetalLevel_Silver              0.039404\n",
      "Score 0.708494348101\n"
     ]
    }
   ],
   "source": [
    "tobacco_importances = pd.DataFrame(dt_tobacco.feature_importances_, \n",
    "                                   features_name, columns=[\"Importances\"])\n",
    "\n",
    "print(tobacco_importances)\n",
    "print('Score', dt_tobacco.score(X_train, Y_train_tobacco))"
   ]
  },
  {
   "cell_type": "markdown",
   "metadata": {},
   "source": [
    "The score on the training data is approximately **71%**. We may want to check the score on test data as well."
   ]
  },
  {
   "cell_type": "code",
   "execution_count": 868,
   "metadata": {},
   "outputs": [
    {
     "name": "stdout",
     "output_type": "stream",
     "text": [
      "Score on test data: 0.325730754011\n"
     ]
    }
   ],
   "source": [
    "print('Score on test data:', dt_tobacco.score(X_test, Y_test_tobacco))"
   ]
  },
  {
   "cell_type": "markdown",
   "metadata": {},
   "source": [
    "As expected the score on test dataset is not very satisfactory and we train the data with 5 fold cross validation score. But before that let's plot the feature importance."
   ]
  },
  {
   "cell_type": "code",
   "execution_count": 877,
   "metadata": {},
   "outputs": [
    {
     "data": {
      "image/png": "[encoded data removed]",
      "text/plain": [
       "<matplotlib.figure.Figure at 0x11dc09240>"
      ]
     },
     "metadata": {},
     "output_type": "display_data"
    }
   ],
   "source": [
    "# plot the features importance for tobacco rate: tbco_n_features\n",
    "tbco_n_features = tobacco_importances.shape[0]\n",
    "plt.figure(figsize=(15,10))\n",
    "plt.barh(range(tbco_n_features), dt_tobacco.feature_importances_, align='center')\n",
    "plt.title('Feature Importance for the Individual Tobacco Rate', fontsize=15)\n",
    "plt.yticks(np.arange(tbco_n_features), features_name)\n",
    "plt.xlabel('Feature Importance', fontsize=15)\n",
    "plt.ylabel('Features',fontsize=15)\n",
    "plt.ylim(-1,tbco_n_features)\n",
    "plt.show()"
   ]
  },
  {
   "cell_type": "markdown",
   "metadata": {},
   "source": [
    "**Decision Tree with Cross Validation**: will use 5 fold for this model as well. "
   ]
  },
  {
   "cell_type": "code",
   "execution_count": 878,
   "metadata": {},
   "outputs": [
    {
     "data": {
      "text/plain": [
       "DecisionTreeRegressor(criterion='mse', max_depth=None, max_features=None,\n",
       "           max_leaf_nodes=None, min_impurity_split=1e-07,\n",
       "           min_samples_leaf=1, min_samples_split=2,\n",
       "           min_weight_fraction_leaf=0.0, presort=False, random_state=None,\n",
       "           splitter='best')"
      ]
     },
     "execution_count": 878,
     "metadata": {},
     "output_type": "execute_result"
    }
   ],
   "source": [
    "# get new regressor: cv_tobacco\n",
    "cv_tobacco = tree.DecisionTreeRegressor()\n",
    "cv_tobacco.fit(X_train, Y_train_tobacco)"
   ]
  },
  {
   "cell_type": "code",
   "execution_count": 879,
   "metadata": {
    "collapsed": true
   },
   "outputs": [],
   "source": [
    "# calculate score with training dataset: cv_scores_tobacco_train\n",
    "cv_scores_tobacco_train = cross_validation.cross_val_score(cv_tobacco, X_train,\n",
    "                                                           Y_train_tobacco, cv=5)"
   ]
  },
  {
   "cell_type": "code",
   "execution_count": 883,
   "metadata": {},
   "outputs": [
    {
     "name": "stdout",
     "output_type": "stream",
     "text": [
      "Scores for 5 fold cross validation: [ 0.67680533  0.74571927  0.51951372  0.81756964  0.78834432]\n",
      "The Average Score: 0.709590454591\n"
     ]
    }
   ],
   "source": [
    "# print the scores and average score with training dataset.\n",
    "print(\"Scores for 5 fold cross validation:\", cv_scores_tobacco_train)\n",
    "print(\"The Average Score:\", cv_scores_tobacco_train.mean())"
   ]
  },
  {
   "cell_type": "code",
   "execution_count": 882,
   "metadata": {
    "collapsed": true
   },
   "outputs": [],
   "source": [
    "# calculate score with test dataset: cv_scores_tobacco_test\n",
    "cv_scores_tobacco_test = cross_validation.cross_val_score(cv_tobacco, X_test,\n",
    "                                                           Y_test_tobacco, cv=5)"
   ]
  },
  {
   "cell_type": "code",
   "execution_count": 884,
   "metadata": {},
   "outputs": [
    {
     "name": "stdout",
     "output_type": "stream",
     "text": [
      "Scores for 5 fold cross validation: [ 0.70279793  0.72901925  0.74179106  0.76607729  0.74718976]\n",
      "The Average Score: 0.73737505663\n"
     ]
    }
   ],
   "source": [
    "# print the scores and average score with training dataset.\n",
    "print(\"Scores for 5 fold cross validation:\", cv_scores_tobacco_test)\n",
    "print(\"The Average Score:\", cv_scores_tobacco_test.mean())"
   ]
  },
  {
   "cell_type": "markdown",
   "metadata": {},
   "source": [
    "Again we see a significant improvement from **32.5%** to **73.73%** when we use cross validation score."
   ]
  },
  {
   "cell_type": "code",
   "execution_count": 885,
   "metadata": {
    "collapsed": true
   },
   "outputs": [],
   "source": [
    "# predict\n",
    "cv_tobacco_pred = cv_tobacco.predict(X_test)"
   ]
  },
  {
   "cell_type": "markdown",
   "metadata": {},
   "source": [
    "### Randon Forest Regressor ###\n",
    "Individual Tobacco Rate: Will try to create a model with RandomForestRegressor and check if the model can predict better."
   ]
  },
  {
   "cell_type": "code",
   "execution_count": 886,
   "metadata": {
    "collapsed": true
   },
   "outputs": [],
   "source": [
    "# initiate and fit the mode: tobacco_forest\n",
    "tobacco_forest = RandomForestRegressor().fit(X_train, Y_train_tobacco)"
   ]
  },
  {
   "cell_type": "code",
   "execution_count": 887,
   "metadata": {},
   "outputs": [
    {
     "name": "stdout",
     "output_type": "stream",
     "text": [
      "The score of RandonForestTree on training dataset is [ 0.67613331  0.74567432  0.51950858  0.81747157  0.78831749]\n",
      "Average score: 0.7094210518097191\n"
     ]
    }
   ],
   "source": [
    "# calculate the cross val score on training and test dataset: score_tobacco_train\n",
    "score_tobacco_train = cross_validation.cross_val_score(tobacco_forest, \n",
    "                                                       X_train, Y_train_tobacco, cv=5)\n",
    "print(\"The score of RandonForestTree on training dataset is {}\".format(score_tobacco_train))\n",
    "print(\"Average score: {}\".format(score_tobacco_train.mean()))"
   ]
  },
  {
   "cell_type": "code",
   "execution_count": 888,
   "metadata": {},
   "outputs": [
    {
     "name": "stdout",
     "output_type": "stream",
     "text": [
      "The score of RandonForestTree on test dataset is [ 0.70241705  0.72763553  0.7406719   0.76543229  0.74691247]\n",
      "Average score: 0.7366138456034197\n"
     ]
    }
   ],
   "source": [
    "# calculate the cross val score on test datset\n",
    "score_tobacco_test = cross_validation.cross_val_score(tobacco_forest, \n",
    "                                                      X_test, Y_test_tobacco, cv=5)\n",
    "print(\"The score of RandonForestTree on test dataset is {}\".format(score_tobacco_test))\n",
    "print(\"Average score: {}\".format(score_tobacco_test.mean()))"
   ]
  },
  {
   "cell_type": "markdown",
   "metadata": {},
   "source": [
    "Very little to no improvement with traing and test dataset. <br>Now let's implement **Grid searach** and **cross validation** to find the best parameters for the model."
   ]
  },
  {
   "cell_type": "markdown",
   "metadata": {},
   "source": [
    "**GridSearchCV** implementation"
   ]
  },
  {
   "cell_type": "code",
   "execution_count": 889,
   "metadata": {
    "collapsed": true
   },
   "outputs": [],
   "source": [
    "# function to compare the predicted price and true values: performace_metric\n",
    "\n",
    "def performance_metric(y_true, y_predict):\n",
    "    \"\"\" Calculates and returns the performance score between \n",
    "        true and predicted values based on the metric chosen. \"\"\"\n",
    "    \n",
    "    # Calculate the performance score between 'y_true' and 'y_predict'\n",
    "    score = r2_score(y_true, y_predict)\n",
    "    \n",
    "    # Return the score\n",
    "    return score"
   ]
  },
  {
   "cell_type": "code",
   "execution_count": 890,
   "metadata": {
    "collapsed": true
   },
   "outputs": [],
   "source": [
    "# Import 'make_scorer' and 'GridSearchCV'\n",
    "from sklearn.metrics import make_scorer\n",
    "from sklearn.tree import DecisionTreeRegressor\n",
    "from sklearn.model_selection import GridSearchCV,ShuffleSplit\n",
    "\n",
    "# Function to perform GridSearchCV: fit_model\n",
    "def fit_model(X, y):\n",
    "    \"\"\" Performs grid search over the 'max_depth' parameter for a \n",
    "        decision tree regressor trained on the input data [X, y]. \"\"\"\n",
    "    \n",
    "    # Create cross-validation sets from the training data\n",
    "    cv_sets = ShuffleSplit(n_splits = 10, test_size = 0.20, random_state = 0)\n",
    "\n",
    "    # Create a decision tree regressor object\n",
    "    regressor = DecisionTreeRegressor()\n",
    "\n",
    "    # Create a dictionary for the parameter 'max_depth' with a range from 1 to 10\n",
    "    params = {'max_depth': range(1,11)}\n",
    "\n",
    "    # Transform 'performance_metric' into a scoring function using 'make_scorer' \n",
    "    scoring_fnc = make_scorer(performance_metric)\n",
    "\n",
    "    # Create the grid search object\n",
    "    grid = GridSearchCV(regressor, param_grid=params, scoring=scoring_fnc, cv=cv_sets)\n",
    "\n",
    "    # Fit the grid search object to the data to compute the optimal model\n",
    "    grid = grid.fit(X, y)\n",
    "\n",
    "    # Return the optimal model after fitting the data\n",
    "    return grid.best_estimator_"
   ]
  },
  {
   "cell_type": "markdown",
   "metadata": {},
   "source": [
    "**Optimal Model**: Finding the max depth value for the decision tree model for individual rate."
   ]
  },
  {
   "cell_type": "code",
   "execution_count": 891,
   "metadata": {},
   "outputs": [
    {
     "name": "stdout",
     "output_type": "stream",
     "text": [
      "Parameter 'max_depth' is 10 for the optimal model \n"
     ]
    }
   ],
   "source": [
    "# Fit the training data to the model using grid search:gs_reg\n",
    "gs_reg = fit_model(X_train, Y_train)\n",
    "\n",
    "# Produce the value for 'max_depth'\n",
    "print(\"Parameter 'max_depth' is {} for the optimal model \".format(\n",
    "    gs_reg.get_params()['max_depth']))"
   ]
  },
  {
   "cell_type": "markdown",
   "metadata": {},
   "source": [
    "**Make Prediction:** for individual rate using the above model."
   ]
  },
  {
   "cell_type": "code",
   "execution_count": 892,
   "metadata": {
    "collapsed": true
   },
   "outputs": [],
   "source": [
    "# predict using the model: preds\n",
    "preds = gs_reg.predict(X_test)"
   ]
  },
  {
   "cell_type": "code",
   "execution_count": 893,
   "metadata": {},
   "outputs": [
    {
     "name": "stdout",
     "output_type": "stream",
     "text": [
      "Score after implementation of SearchGridCV: 0.25410225052828583\n"
     ]
    }
   ],
   "source": [
    "# check performance using the fuction we have created\n",
    "print(\"Score after implementation of SearchGridCV: {}\".format(\n",
    "    performance_metric(Y_test, preds)))"
   ]
  },
  {
   "cell_type": "markdown",
   "metadata": {},
   "source": [
    "The low score is similar to low $R^2$ in Linear model. This is because the function created \"performance_matrix\" includes the sklearn r2_score function. "
   ]
  },
  {
   "cell_type": "markdown",
   "metadata": {},
   "source": [
    "**Optimal Model**: Finding the max depth value for the decision tree model for individual rate."
   ]
  },
  {
   "cell_type": "code",
   "execution_count": 894,
   "metadata": {},
   "outputs": [
    {
     "name": "stdout",
     "output_type": "stream",
     "text": [
      "Parameter 'max_depth' is 10 for the optimal model \n"
     ]
    }
   ],
   "source": [
    "# Fit the training data to the model using grid search:gs_reg_tobacco\n",
    "gs_reg_tobacco = fit_model(X_train, Y_train_tobacco)\n",
    "\n",
    "# Produce the value for 'max_depth'\n",
    "print(\"Parameter 'max_depth' is {} for the optimal model \".format(\n",
    "    gs_reg_tobacco.get_params()['max_depth']))"
   ]
  },
  {
   "cell_type": "markdown",
   "metadata": {},
   "source": [
    "**Make Prediction:** for individual tobacco rate using the above model."
   ]
  },
  {
   "cell_type": "code",
   "execution_count": 895,
   "metadata": {
    "collapsed": true
   },
   "outputs": [],
   "source": [
    "# predict using the model: preds_tobacco\n",
    "preds_tobacco = gs_reg_tobacco.predict(X_test)"
   ]
  },
  {
   "cell_type": "code",
   "execution_count": 896,
   "metadata": {},
   "outputs": [
    {
     "name": "stdout",
     "output_type": "stream",
     "text": [
      "Score after implementation of SearchGridCV: 0.32297202188202645\n"
     ]
    }
   ],
   "source": [
    "# check performance using the fuction we have created\n",
    "print(\"Score after implementation of SearchGridCV: {}\".format(\n",
    "    performance_metric(Y_test_tobacco, preds_tobacco)))"
   ]
  },
  {
   "cell_type": "markdown",
   "metadata": {},
   "source": [
    "As we found in the individual rate, similar result found in individual tobacco rate. The score above is the nothing but calculation of r2_score from sklearn package used for $R^2$ calculation. Hence we don't see better score than the Linear model."
   ]
  },
  {
   "cell_type": "markdown",
   "metadata": {},
   "source": [
    "### Conclusion ###\n",
    "We tried to predict **Individual Rate** and **Individual Tobacco Rate** from the datasets we had. In the begining of this part I have used a plot to show how the average monthly rate kept increasing over the years since the inception of **Healthcare Insurance Marketplace.** When you compare the monthly individual rate of the years 2017 and 2018, you will find this huge increase in rates. This is not the similar increase what you will find if you compare year 2016 and 2017. The increase is big in this case too. But is not not as big as last year.<br>\n",
    "The insurance company decides the rate based on the 5 criteria as explained above. My calculation and model is based on that criteria. I have used the small sample from the dataset where my training data was taken from year 2014 and 2015, test data from year 2016. That model gave me better result of around 84% accuracy when used in decision tree and cross validation, which I believed to be good as compared to the Linear model which was around 63-64%.<br>\n",
    "Decision tree with cross validation of 5 fold gave us better performance on test data comapred to Linear mode. So I think **Decision Tree** with **cross validation** is better bet in prediction of continueous values. **GridSearchCV** helps find us the maximum depth of the decision tree at which the model will result in optimal performance."
   ]
  },
  {
   "cell_type": "markdown",
   "metadata": {},
   "source": [
    "-------------------------------------------------------------------------------------------------"
   ]
  }
 ],
 "metadata": {
  "kernelspec": {
   "display_name": "Python 3",
   "language": "python",
   "name": "python3"
  },
  "language_info": {
   "codemirror_mode": {
    "name": "ipython",
    "version": 3
   },
   "file_extension": ".py",
   "mimetype": "text/x-python",
   "name": "python",
   "nbconvert_exporter": "python",
   "pygments_lexer": "ipython3",
   "version": "3.6.1"
  }
 },
 "nbformat": 4,
 "nbformat_minor": 2
}
