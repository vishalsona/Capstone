{
 "cells": [
  {
   "cell_type": "markdown",
   "metadata": {},
   "source": [
    "## Machine Learning ##\n",
    "_____________________________________________________________________________________________\n",
    "**Healthcare Insurance Marketplace:** In this part I will try to predict Individual Rates and Individual Tobacco Rates using regression models and will comapare results and performance of these models."
   ]
  },
  {
   "cell_type": "markdown",
   "metadata": {},
   "source": [
    "### Predict the monthly premium of individuals and individual tobacco users. ###\n",
    "**How premiums are set**<br>\n",
    "Under the health care law, insurance companies can account for only 5 things when setting premiums.\n",
    "\n",
    "**1.Age:** Premiums can be up to 3 times higher for older people than for younger ones.\n",
    "\n",
    "**2.Location:** Where you live has a big effect on your premiums. Differences in competition, state and local rules, and cost of living account for this.\n",
    "\n",
    "**3.Tobacco use:** Insurers can charge tobacco users up to 50% more than those who don’t use tobacco.\n",
    "\n",
    "**4.Individual vs. family enrollment:** Insurers can charge more for a plan that also covers a spouse and/or dependents.\n",
    "\n",
    "**5.Plan category:** There are five plan categories – Bronze, Silver, Gold, Platinum, and Catastrophic. The categories are based on how you and the plan share costs. Bronze plans usually have lower monthly premiums and higher out-of-pocket costs when you get care. Platinum plans usually have the highest premiums and lowest out-of-pocket costs.\n",
    "\n",
    "For more details on this please refer to the link below.<br>\n",
    "https://www.healthcare.gov/how-plans-set-your-premiums/"
   ]
  },
  {
   "cell_type": "code",
   "execution_count": 4,
   "metadata": {},
   "outputs": [],
   "source": [
    "# This cell will be used for import. All the necessary packages and libraries will be imported.\n",
    "# As the work on this project moves on, the required packages will be imported.\n",
    "import pandas as pd\n",
    "import numpy as np\n",
    "import seaborn as sns\n",
    "import matplotlib.pyplot as plt\n",
    "import plotly.plotly as py\n",
    "from plotly.graph_objs import Figure\n",
    "py.sign_in('username', 'password')\n",
    "from ggplot import *\n",
    "%matplotlib inline \n"
   ]
  },
  {
   "cell_type": "markdown",
   "metadata": {},
   "source": [
    "### Rate data set ###\n",
    "From the Explainatory Data Analysis(EDA) part of this project, we already have the required rate dataset in csv form. We just need to import the csv file.<br>\n",
    "We have to do some cleaning in the dataframe to bring it in the format we need."
   ]
  },
  {
   "cell_type": "code",
   "execution_count": 647,
   "metadata": {},
   "outputs": [],
   "source": [
    "# import csv file into dpandas ataframe \n",
    "rates = pd.read_csv('merged_rates.csv')"
   ]
  },
  {
   "cell_type": "code",
   "execution_count": 648,
   "metadata": {},
   "outputs": [
    {
     "name": "stdout",
     "output_type": "stream",
     "text": [
      "<class 'pandas.core.frame.DataFrame'>\n",
      "RangeIndex: 18081008 entries, 0 to 18081007\n",
      "Data columns (total 22 columns):\n",
      "Unnamed: 0                                   int64\n",
      "Age                                          object\n",
      "BusinessYear                                 int64\n",
      "Couple                                       float64\n",
      "CoupleAndOneDependent                        float64\n",
      "CoupleAndThreeOrMoreDependents               float64\n",
      "CoupleAndTwoDependents                       float64\n",
      "FederalTIN                                   object\n",
      "ImportDate                                   object\n",
      "IndividualRate                               float64\n",
      "IndividualTobaccoRate                        float64\n",
      "IssuerId                                     int64\n",
      "PlanId                                       object\n",
      "PrimarySubscriberAndOneDependent             float64\n",
      "PrimarySubscriberAndThreeOrMoreDependents    float64\n",
      "PrimarySubscriberAndTwoDependents            float64\n",
      "RateEffectiveDate                            object\n",
      "RateExpirationDate                           object\n",
      "RatingAreaId                                 object\n",
      "SourceName                                   object\n",
      "StateCode                                    object\n",
      "Tobacco                                      object\n",
      "dtypes: float64(9), int64(3), object(10)\n",
      "memory usage: 3.0+ GB\n"
     ]
    }
   ],
   "source": [
    "rates.info()"
   ]
  },
  {
   "cell_type": "code",
   "execution_count": 649,
   "metadata": {},
   "outputs": [
    {
     "data": {
      "text/plain": [
       "array(['0-20', 'Family Option', '21', '22', '23', '24', '25', '26', '27',\n",
       "       '28', '29', '30', '31', '32', '33', '34', '35', '36', '37', '38',\n",
       "       '39', '40', '41', '42', '43', '44', '45', '46', '47', '48', '49',\n",
       "       '50', '51', '52', '53', '54', '55', '56', '57', '58', '59', '60',\n",
       "       '61', '62', '63', '64', '65 and over', '0-14', '15', '16', '17',\n",
       "       '18', '19', '20', '64 and over'], dtype=object)"
      ]
     },
     "execution_count": 649,
     "metadata": {},
     "output_type": "execute_result"
    }
   ],
   "source": [
    "rates.Age.unique()"
   ]
  },
  {
   "cell_type": "code",
   "execution_count": 691,
   "metadata": {},
   "outputs": [],
   "source": [
    "age_grp = ['0-20', '21', '22', '23', '24', '25', '26', '27', '28', '29', '30',\n",
    "                  '31', '32', '33', '34', '35', '36', '37', '38', '39', '40', '41',\n",
    "                  '42', '43', '44', '45', '46', '47', '48', '49', '50', '51', '52',\n",
    "                  '53', '54', '55', '56', '57', '58', '59', '60', '61', '62', '63',\n",
    "                  '64', '65 and over']"
   ]
  },
  {
   "cell_type": "code",
   "execution_count": 692,
   "metadata": {},
   "outputs": [
    {
     "data": {
      "text/plain": [
       "array(['0-20', '21', '22', '23', '24', '25', '26', '27', '28', '29', '30',\n",
       "       '31', '32', '33', '34', '35', '36', '37', '38', '39', '40', '41',\n",
       "       '42', '43', '44', '45', '46', '47', '48', '49', '50', '51', '52',\n",
       "       '53', '54', '55', '56', '57', '58', '59', '60', '61', '62', '63',\n",
       "       '64', '65 and over'], dtype=object)"
      ]
     },
     "execution_count": 692,
     "metadata": {},
     "output_type": "execute_result"
    }
   ],
   "source": [
    "# Get rid off the columns which appears after '65 and over' above.\n",
    "rates = rates[rates.Age.isin(age_grp)]\n",
    "rates.Age.unique()"
   ]
  },
  {
   "cell_type": "code",
   "execution_count": 693,
   "metadata": {},
   "outputs": [
    {
     "name": "stdout",
     "output_type": "stream",
     "text": [
      "<class 'pandas.core.frame.DataFrame'>\n",
      "Int64Index: 17676705 entries, 0 to 18081003\n",
      "Data columns (total 22 columns):\n",
      "Unnamed: 0                                   int64\n",
      "Age                                          object\n",
      "BusinessYear                                 int64\n",
      "Couple                                       float64\n",
      "CoupleAndOneDependent                        float64\n",
      "CoupleAndThreeOrMoreDependents               float64\n",
      "CoupleAndTwoDependents                       float64\n",
      "FederalTIN                                   object\n",
      "ImportDate                                   object\n",
      "IndividualRate                               float64\n",
      "IndividualTobaccoRate                        float64\n",
      "IssuerId                                     int64\n",
      "PlanId                                       object\n",
      "PrimarySubscriberAndOneDependent             float64\n",
      "PrimarySubscriberAndThreeOrMoreDependents    float64\n",
      "PrimarySubscriberAndTwoDependents            float64\n",
      "RateEffectiveDate                            object\n",
      "RateExpirationDate                           object\n",
      "RatingAreaId                                 object\n",
      "SourceName                                   object\n",
      "StateCode                                    object\n",
      "Tobacco                                      object\n",
      "dtypes: float64(9), int64(3), object(10)\n",
      "memory usage: 3.0+ GB\n"
     ]
    }
   ],
   "source": [
    "rates.info()"
   ]
  },
  {
   "cell_type": "code",
   "execution_count": 695,
   "metadata": {},
   "outputs": [
    {
     "data": {
      "text/html": [
       "<div>\n",
       "<style>\n",
       "    .dataframe thead tr:only-child th {\n",
       "        text-align: right;\n",
       "    }\n",
       "\n",
       "    .dataframe thead th {\n",
       "        text-align: left;\n",
       "    }\n",
       "\n",
       "    .dataframe tbody tr th {\n",
       "        vertical-align: top;\n",
       "    }\n",
       "</style>\n",
       "<table border=\"1\" class=\"dataframe\">\n",
       "  <thead>\n",
       "    <tr style=\"text-align: right;\">\n",
       "      <th></th>\n",
       "      <th>Age</th>\n",
       "      <th>BusinessYear</th>\n",
       "      <th>IndividualRate</th>\n",
       "      <th>IndividualTobaccoRate</th>\n",
       "      <th>PlanId</th>\n",
       "      <th>RatingAreaId</th>\n",
       "      <th>StateCode</th>\n",
       "      <th>Tobacco</th>\n",
       "    </tr>\n",
       "  </thead>\n",
       "  <tbody>\n",
       "    <tr>\n",
       "      <th>0</th>\n",
       "      <td>0-20</td>\n",
       "      <td>2014</td>\n",
       "      <td>29.0</td>\n",
       "      <td>NaN</td>\n",
       "      <td>21989AK0010001</td>\n",
       "      <td>Rating Area 1</td>\n",
       "      <td>AK</td>\n",
       "      <td>No Preference</td>\n",
       "    </tr>\n",
       "    <tr>\n",
       "      <th>3</th>\n",
       "      <td>21</td>\n",
       "      <td>2014</td>\n",
       "      <td>32.0</td>\n",
       "      <td>NaN</td>\n",
       "      <td>21989AK0010001</td>\n",
       "      <td>Rating Area 1</td>\n",
       "      <td>AK</td>\n",
       "      <td>No Preference</td>\n",
       "    </tr>\n",
       "  </tbody>\n",
       "</table>\n",
       "</div>"
      ],
      "text/plain": [
       "    Age  BusinessYear  IndividualRate  IndividualTobaccoRate          PlanId  \\\n",
       "0  0-20          2014            29.0                    NaN  21989AK0010001   \n",
       "3    21          2014            32.0                    NaN  21989AK0010001   \n",
       "\n",
       "    RatingAreaId StateCode        Tobacco  \n",
       "0  Rating Area 1        AK  No Preference  \n",
       "3  Rating Area 1        AK  No Preference  "
      ]
     },
     "execution_count": 695,
     "metadata": {},
     "output_type": "execute_result"
    }
   ],
   "source": [
    "# Create dataframe with the columns which will be required for this Regression Analysis: ml_rates\n",
    "ml_rates = rates[['Age','BusinessYear','IndividualRate','IndividualTobaccoRate','PlanId',\n",
    "                 'RatingAreaId','StateCode','Tobacco']]\n",
    "ml_rates.head(2) # just to make sure we have all the required columns"
   ]
  },
  {
   "cell_type": "markdown",
   "metadata": {},
   "source": [
    "we know from EDA part of this project that individual rate column has this sudo numbers eleminating those 9999 kind of numbers."
   ]
  },
  {
   "cell_type": "code",
   "execution_count": 697,
   "metadata": {},
   "outputs": [],
   "source": [
    "# Drop individual rates more than 9000.\n",
    "ml_rates = ml_rates[ml_rates['IndividualRate'] < 9000]"
   ]
  },
  {
   "cell_type": "code",
   "execution_count": 698,
   "metadata": {},
   "outputs": [
    {
     "name": "stdout",
     "output_type": "stream",
     "text": [
      "Max of Individual Rate: 5503.85\n",
      "Unique Ages: ['0-20' '21' '22' '23' '24' '25' '26' '27' '28' '29' '30' '31' '32' '33'\n",
      " '34' '35' '36' '37' '38' '39' '40' '41' '42' '43' '44' '45' '46' '47' '48'\n",
      " '49' '50' '51' '52' '53' '54' '55' '56' '57' '58' '59' '60' '61' '62' '63'\n",
      " '64' '65 and over']\n"
     ]
    }
   ],
   "source": [
    "# verification of whatever done above.\n",
    "print(\"Max of Individual Rate:\", ml_rates.IndividualRate.max())\n",
    "print(\"Unique Ages:\", ml_rates.Age.unique())"
   ]
  },
  {
   "cell_type": "code",
   "execution_count": 668,
   "metadata": {},
   "outputs": [
    {
     "name": "stdout",
     "output_type": "stream",
     "text": [
      "<class 'pandas.core.frame.DataFrame'>\n",
      "Int64Index: 17588591 entries, 0 to 18081003\n",
      "Data columns (total 8 columns):\n",
      "Age                      object\n",
      "BusinessYear             int64\n",
      "IndividualRate           float64\n",
      "IndividualTobaccoRate    float64\n",
      "PlanId                   object\n",
      "RatingAreaId             object\n",
      "StateCode                object\n",
      "Tobacco                  object\n",
      "dtypes: float64(2), int64(1), object(5)\n",
      "memory usage: 1.2+ GB\n"
     ]
    }
   ],
   "source": [
    "# basic info about the dataframe.\n",
    "ml_rates.info()"
   ]
  },
  {
   "cell_type": "markdown",
   "metadata": {},
   "source": [
    "All look good with the rate dataframe. Will save this dataframe for intermediate work if needed. This would help repeat of work if for any reason the notebook has to restart. It also help if there is memory crunch on the system you are working on."
   ]
  },
  {
   "cell_type": "code",
   "execution_count": 700,
   "metadata": {},
   "outputs": [],
   "source": [
    "# save the dataframe to csv file on hard disk.\n",
    "ml_rates.to_csv('ml_rates.csv')"
   ]
  },
  {
   "cell_type": "markdown",
   "metadata": {},
   "source": [
    "### Plan attribute dataset ###\n",
    "The second dataset required for this regression analysis is plan_attribute. From the Explainatory Data Analysis(EDA) part of this project, we already have the required plan attribute dataset in csv form. We just need to import the csv file.<br>\n",
    "We may have to do some cleaning in the dataframe to bring it in the format we need."
   ]
  },
  {
   "cell_type": "code",
   "execution_count": 701,
   "metadata": {},
   "outputs": [
    {
     "data": {
      "text/html": [
       "<div>\n",
       "<style>\n",
       "    .dataframe thead tr:only-child th {\n",
       "        text-align: right;\n",
       "    }\n",
       "\n",
       "    .dataframe thead th {\n",
       "        text-align: left;\n",
       "    }\n",
       "\n",
       "    .dataframe tbody tr th {\n",
       "        vertical-align: top;\n",
       "    }\n",
       "</style>\n",
       "<table border=\"1\" class=\"dataframe\">\n",
       "  <thead>\n",
       "    <tr style=\"text-align: right;\">\n",
       "      <th></th>\n",
       "      <th>Unnamed: 0</th>\n",
       "      <th>AVCalculatorOutputNumber</th>\n",
       "      <th>BeginPrimaryCareCostSharingAfterNumberOfVisits</th>\n",
       "      <th>BeginPrimaryCareDeductibleCoinsuranceAfterNumberOfCopays</th>\n",
       "      <th>BusinessYear</th>\n",
       "      <th>CSRVariationType</th>\n",
       "      <th>ChildOnlyOffering</th>\n",
       "      <th>ChildOnlyPlanId</th>\n",
       "      <th>CompositeRatingOffered</th>\n",
       "      <th>DEHBCombInnOonFamilyPerGroupMOOP</th>\n",
       "      <th>...</th>\n",
       "      <th>TEHBInnTier2FamilyPerPersonMOOP</th>\n",
       "      <th>TEHBInnTier2IndividualMOOP</th>\n",
       "      <th>TEHBOutOfNetFamilyPerGroupMOOP</th>\n",
       "      <th>TEHBOutOfNetFamilyPerPersonMOOP</th>\n",
       "      <th>TEHBOutOfNetIndividualMOOP</th>\n",
       "      <th>TIN</th>\n",
       "      <th>URLForEnrollmentPayment</th>\n",
       "      <th>URLForSummaryofBenefitsCoverage</th>\n",
       "      <th>UniquePlanDesign</th>\n",
       "      <th>WellnessProgramOffered</th>\n",
       "    </tr>\n",
       "  </thead>\n",
       "  <tbody>\n",
       "    <tr>\n",
       "      <th>0</th>\n",
       "      <td>0</td>\n",
       "      <td>NaN</td>\n",
       "      <td>0</td>\n",
       "      <td>0</td>\n",
       "      <td>2014</td>\n",
       "      <td>Standard Low Off Exchange Plan</td>\n",
       "      <td>Allows Adult and Child-Only</td>\n",
       "      <td>NaN</td>\n",
       "      <td>NaN</td>\n",
       "      <td>NaN</td>\n",
       "      <td>...</td>\n",
       "      <td>NaN</td>\n",
       "      <td>NaN</td>\n",
       "      <td>NaN</td>\n",
       "      <td>NaN</td>\n",
       "      <td>NaN</td>\n",
       "      <td>93-0438772</td>\n",
       "      <td>https://www.modahealth.com/employers/enroll.shtml</td>\n",
       "      <td>https://www.modahealth.com/producers/grp/den.s...</td>\n",
       "      <td>NaN</td>\n",
       "      <td>NaN</td>\n",
       "    </tr>\n",
       "    <tr>\n",
       "      <th>1</th>\n",
       "      <td>1</td>\n",
       "      <td>NaN</td>\n",
       "      <td>0</td>\n",
       "      <td>0</td>\n",
       "      <td>2014</td>\n",
       "      <td>Standard Low On Exchange Plan</td>\n",
       "      <td>Allows Adult and Child-Only</td>\n",
       "      <td>NaN</td>\n",
       "      <td>NaN</td>\n",
       "      <td>NaN</td>\n",
       "      <td>...</td>\n",
       "      <td>NaN</td>\n",
       "      <td>NaN</td>\n",
       "      <td>NaN</td>\n",
       "      <td>NaN</td>\n",
       "      <td>NaN</td>\n",
       "      <td>93-0438772</td>\n",
       "      <td>https://www.modahealth.com/employers/enroll.shtml</td>\n",
       "      <td>https://www.modahealth.com/producers/grp/den.s...</td>\n",
       "      <td>NaN</td>\n",
       "      <td>NaN</td>\n",
       "    </tr>\n",
       "  </tbody>\n",
       "</table>\n",
       "<p>2 rows × 154 columns</p>\n",
       "</div>"
      ],
      "text/plain": [
       "   Unnamed: 0 AVCalculatorOutputNumber  \\\n",
       "0           0                      NaN   \n",
       "1           1                      NaN   \n",
       "\n",
       "   BeginPrimaryCareCostSharingAfterNumberOfVisits  \\\n",
       "0                                               0   \n",
       "1                                               0   \n",
       "\n",
       "   BeginPrimaryCareDeductibleCoinsuranceAfterNumberOfCopays  BusinessYear  \\\n",
       "0                                                  0                 2014   \n",
       "1                                                  0                 2014   \n",
       "\n",
       "                 CSRVariationType            ChildOnlyOffering  \\\n",
       "0  Standard Low Off Exchange Plan  Allows Adult and Child-Only   \n",
       "1   Standard Low On Exchange Plan  Allows Adult and Child-Only   \n",
       "\n",
       "  ChildOnlyPlanId CompositeRatingOffered DEHBCombInnOonFamilyPerGroupMOOP  \\\n",
       "0             NaN                    NaN                              NaN   \n",
       "1             NaN                    NaN                              NaN   \n",
       "\n",
       "           ...           TEHBInnTier2FamilyPerPersonMOOP  \\\n",
       "0          ...                                       NaN   \n",
       "1          ...                                       NaN   \n",
       "\n",
       "  TEHBInnTier2IndividualMOOP TEHBOutOfNetFamilyPerGroupMOOP  \\\n",
       "0                        NaN                            NaN   \n",
       "1                        NaN                            NaN   \n",
       "\n",
       "  TEHBOutOfNetFamilyPerPersonMOOP TEHBOutOfNetIndividualMOOP         TIN  \\\n",
       "0                             NaN                        NaN  93-0438772   \n",
       "1                             NaN                        NaN  93-0438772   \n",
       "\n",
       "                             URLForEnrollmentPayment  \\\n",
       "0  https://www.modahealth.com/employers/enroll.shtml   \n",
       "1  https://www.modahealth.com/employers/enroll.shtml   \n",
       "\n",
       "                     URLForSummaryofBenefitsCoverage UniquePlanDesign  \\\n",
       "0  https://www.modahealth.com/producers/grp/den.s...              NaN   \n",
       "1  https://www.modahealth.com/producers/grp/den.s...              NaN   \n",
       "\n",
       "  WellnessProgramOffered  \n",
       "0                    NaN  \n",
       "1                    NaN  \n",
       "\n",
       "[2 rows x 154 columns]"
      ]
     },
     "execution_count": 701,
     "metadata": {},
     "output_type": "execute_result"
    }
   ],
   "source": [
    "# import plan_attribute csv file into dataframe: pa\n",
    "pa = pd.read_csv('plan_attribute.csv', low_memory=False)\n",
    "pa.head(2)"
   ]
  },
  {
   "cell_type": "code",
   "execution_count": 702,
   "metadata": {},
   "outputs": [
    {
     "name": "stdout",
     "output_type": "stream",
     "text": [
      "<class 'pandas.core.frame.DataFrame'>\n",
      "RangeIndex: 112579 entries, 0 to 112578\n",
      "Columns: 154 entries, Unnamed: 0 to WellnessProgramOffered\n",
      "dtypes: float64(5), int64(6), object(143)\n",
      "memory usage: 132.3+ MB\n"
     ]
    }
   ],
   "source": [
    "# Basic information about the pa dataframe.\n",
    "pa.info()"
   ]
  },
  {
   "cell_type": "markdown",
   "metadata": {},
   "source": [
    "As we can see from the above that there are 154 columns in this dataframe. We need only two columns from this dataframe, PlanId and MetalLevel. Rest all the columns are not useful for this project.<br>\n",
    "So I have all the datframes required, but need to merge these two dataframes(rates and plan_attribute) on PlanId column."
   ]
  },
  {
   "cell_type": "markdown",
   "metadata": {},
   "source": [
    "### Merge plan attribute(pa) and rates: plans_to_use ###\n",
    "I will extract all the metal levels which are available in the healthcare insurance marketplce. As described in the EDA part of this project, Metal Level is one of the most crucial element of deciding monthly premiums."
   ]
  },
  {
   "cell_type": "code",
   "execution_count": 703,
   "metadata": {},
   "outputs": [],
   "source": [
    "# Metal level of all the plans: plans_to_use\n",
    "plans_to_use = pa[['PlanId','MetalLevel']]"
   ]
  },
  {
   "cell_type": "code",
   "execution_count": 704,
   "metadata": {},
   "outputs": [
    {
     "name": "stdout",
     "output_type": "stream",
     "text": [
      "<class 'pandas.core.frame.DataFrame'>\n",
      "RangeIndex: 112579 entries, 0 to 112578\n",
      "Data columns (total 2 columns):\n",
      "PlanId        112579 non-null object\n",
      "MetalLevel    112579 non-null object\n",
      "dtypes: object(2)\n",
      "memory usage: 1.7+ MB\n"
     ]
    }
   ],
   "source": [
    "plans_to_use.info()"
   ]
  },
  {
   "cell_type": "markdown",
   "metadata": {},
   "source": [
    "**PlanId** column of rates dataset has only 14 alpha-numeric characters and whereas the **PlanId** of the plan attribute dataset has 17 characters. First 14 characters will be same and last 3 characters specify cost sharing reduction(CSR)."
   ]
  },
  {
   "cell_type": "code",
   "execution_count": 705,
   "metadata": {},
   "outputs": [
    {
     "name": "stderr",
     "output_type": "stream",
     "text": [
      "/Users/vishalshilpi/anaconda/lib/python3.6/site-packages/pandas/core/generic.py:2999: SettingWithCopyWarning:\n",
      "\n",
      "\n",
      "A value is trying to be set on a copy of a slice from a DataFrame.\n",
      "Try using .loc[row_indexer,col_indexer] = value instead\n",
      "\n",
      "See the caveats in the documentation: http://pandas.pydata.org/pandas-docs/stable/indexing.html#indexing-view-versus-copy\n",
      "\n"
     ]
    }
   ],
   "source": [
    "plans_to_use.PlanId = plans_to_use.PlanId.str[:14]"
   ]
  },
  {
   "cell_type": "code",
   "execution_count": 706,
   "metadata": {},
   "outputs": [
    {
     "data": {
      "text/plain": [
       "0    21989AK0020002\n",
       "1    21989AK0020002\n",
       "Name: PlanId, dtype: object"
      ]
     },
     "execution_count": 706,
     "metadata": {},
     "output_type": "execute_result"
    }
   ],
   "source": [
    "# check that the PlanId column has 14 character values.\n",
    "plans_to_use.PlanId.head(2)"
   ]
  },
  {
   "cell_type": "code",
   "execution_count": 707,
   "metadata": {},
   "outputs": [
    {
     "name": "stdout",
     "output_type": "stream",
     "text": [
      "<class 'pandas.core.frame.DataFrame'>\n",
      "RangeIndex: 112579 entries, 0 to 112578\n",
      "Data columns (total 2 columns):\n",
      "PlanId        112579 non-null object\n",
      "MetalLevel    112579 non-null object\n",
      "dtypes: object(2)\n",
      "memory usage: 1.7+ MB\n"
     ]
    }
   ],
   "source": [
    "plans_to_use.info()"
   ]
  },
  {
   "cell_type": "code",
   "execution_count": 708,
   "metadata": {},
   "outputs": [],
   "source": [
    "# Groupby plans_to_use dataframe to have unique PlanId and MetalLevel\n",
    "plans_to_use = plans_to_use.groupby(['PlanId','MetalLevel'])"
   ]
  },
  {
   "cell_type": "code",
   "execution_count": 709,
   "metadata": {},
   "outputs": [],
   "source": [
    "# make groupby dataframe to dataframe using count()\n",
    "plans_to_use = plans_to_use.count()\n",
    "plans_to_use.reset_index(inplace=True)"
   ]
  },
  {
   "cell_type": "code",
   "execution_count": 710,
   "metadata": {},
   "outputs": [],
   "source": [
    "# Save this dataframe into csv file on hard drive.\n",
    "plans_to_use.to_csv('plan_to_use.csv')"
   ]
  },
  {
   "cell_type": "code",
   "execution_count": 711,
   "metadata": {},
   "outputs": [],
   "source": [
    "# dataframe after merging plan attribute and rates dataframes: ml_plan_rates\n",
    "ml_plan_rates = ml_rates.join(plans_to_use.set_index('PlanId'), on='PlanId', how= 'inner')"
   ]
  },
  {
   "cell_type": "code",
   "execution_count": 712,
   "metadata": {},
   "outputs": [
    {
     "data": {
      "text/html": [
       "<div>\n",
       "<style>\n",
       "    .dataframe thead tr:only-child th {\n",
       "        text-align: right;\n",
       "    }\n",
       "\n",
       "    .dataframe thead th {\n",
       "        text-align: left;\n",
       "    }\n",
       "\n",
       "    .dataframe tbody tr th {\n",
       "        vertical-align: top;\n",
       "    }\n",
       "</style>\n",
       "<table border=\"1\" class=\"dataframe\">\n",
       "  <thead>\n",
       "    <tr style=\"text-align: right;\">\n",
       "      <th></th>\n",
       "      <th>BusinessYear</th>\n",
       "      <th>IndividualRate</th>\n",
       "      <th>IndividualTobaccoRate</th>\n",
       "    </tr>\n",
       "  </thead>\n",
       "  <tbody>\n",
       "    <tr>\n",
       "      <th>count</th>\n",
       "      <td>1.773430e+07</td>\n",
       "      <td>1.773430e+07</td>\n",
       "      <td>6.111323e+06</td>\n",
       "    </tr>\n",
       "    <tr>\n",
       "      <th>mean</th>\n",
       "      <td>2.015711e+03</td>\n",
       "      <td>3.145197e+02</td>\n",
       "      <td>5.656890e+02</td>\n",
       "    </tr>\n",
       "    <tr>\n",
       "      <th>std</th>\n",
       "      <td>1.282219e+00</td>\n",
       "      <td>3.142857e+02</td>\n",
       "      <td>3.106098e+02</td>\n",
       "    </tr>\n",
       "    <tr>\n",
       "      <th>min</th>\n",
       "      <td>2.014000e+03</td>\n",
       "      <td>0.000000e+00</td>\n",
       "      <td>4.173000e+01</td>\n",
       "    </tr>\n",
       "    <tr>\n",
       "      <th>25%</th>\n",
       "      <td>2.015000e+03</td>\n",
       "      <td>2.750000e+01</td>\n",
       "      <td>3.489800e+02</td>\n",
       "    </tr>\n",
       "    <tr>\n",
       "      <th>50%</th>\n",
       "      <td>2.016000e+03</td>\n",
       "      <td>2.817800e+02</td>\n",
       "      <td>4.802500e+02</td>\n",
       "    </tr>\n",
       "    <tr>\n",
       "      <th>75%</th>\n",
       "      <td>2.017000e+03</td>\n",
       "      <td>4.838700e+02</td>\n",
       "      <td>7.119652e+02</td>\n",
       "    </tr>\n",
       "    <tr>\n",
       "      <th>max</th>\n",
       "      <td>2.018000e+03</td>\n",
       "      <td>5.503850e+03</td>\n",
       "      <td>6.604610e+03</td>\n",
       "    </tr>\n",
       "  </tbody>\n",
       "</table>\n",
       "</div>"
      ],
      "text/plain": [
       "       BusinessYear  IndividualRate  IndividualTobaccoRate\n",
       "count  1.773430e+07    1.773430e+07           6.111323e+06\n",
       "mean   2.015711e+03    3.145197e+02           5.656890e+02\n",
       "std    1.282219e+00    3.142857e+02           3.106098e+02\n",
       "min    2.014000e+03    0.000000e+00           4.173000e+01\n",
       "25%    2.015000e+03    2.750000e+01           3.489800e+02\n",
       "50%    2.016000e+03    2.817800e+02           4.802500e+02\n",
       "75%    2.017000e+03    4.838700e+02           7.119652e+02\n",
       "max    2.018000e+03    5.503850e+03           6.604610e+03"
      ]
     },
     "execution_count": 712,
     "metadata": {},
     "output_type": "execute_result"
    }
   ],
   "source": [
    "# statistics about the two columns which will be used as my target variable.\n",
    "ml_plan_rates.describe()"
   ]
  },
  {
   "cell_type": "markdown",
   "metadata": {},
   "source": [
    "Metal Level as **Low** and **High** are **Dental Plans**. So we can ignore these metal groups becaue dental plans premiums are calculated in a different way than the medical plans."
   ]
  },
  {
   "cell_type": "code",
   "execution_count": 713,
   "metadata": {},
   "outputs": [],
   "source": [
    "ml_plan_rates = ml_plan_rates[(ml_plan_rates['MetalLevel'] !='High')\n",
    "                             & (ml_plan_rates['MetalLevel'] != 'Low')]"
   ]
  },
  {
   "cell_type": "code",
   "execution_count": 714,
   "metadata": {},
   "outputs": [
    {
     "data": {
      "text/plain": [
       "array(['Catastrophic', 'Gold', 'Silver', 'Bronze', 'Platinum',\n",
       "       'Expanded Bronze'], dtype=object)"
      ]
     },
     "execution_count": 714,
     "metadata": {},
     "output_type": "execute_result"
    }
   ],
   "source": [
    "ml_plan_rates.MetalLevel.unique() # make sure that the Low and High MetalLevel are removed."
   ]
  },
  {
   "cell_type": "code",
   "execution_count": 715,
   "metadata": {},
   "outputs": [
    {
     "name": "stdout",
     "output_type": "stream",
     "text": [
      "<class 'pandas.core.frame.DataFrame'>\n",
      "Int64Index: 10270281 entries, 1398 to 18072591\n",
      "Data columns (total 9 columns):\n",
      "Age                      object\n",
      "BusinessYear             int64\n",
      "IndividualRate           float64\n",
      "IndividualTobaccoRate    float64\n",
      "PlanId                   object\n",
      "RatingAreaId             object\n",
      "StateCode                object\n",
      "Tobacco                  object\n",
      "MetalLevel               object\n",
      "dtypes: float64(2), int64(1), object(6)\n",
      "memory usage: 783.6+ MB\n"
     ]
    }
   ],
   "source": [
    "# Check that there are only columns which are required in regresson analysis are there in the \n",
    "# ml_plan_rates dataframe.\n",
    "ml_plan_rates.info()"
   ]
  },
  {
   "cell_type": "code",
   "execution_count": 716,
   "metadata": {},
   "outputs": [],
   "source": [
    "# Save this intermediate dataframe to hard drive in csv format.\n",
    "ml_plan_rates.to_csv('ml_plan_rates.csv')"
   ]
  },
  {
   "cell_type": "markdown",
   "metadata": {},
   "source": [
    "## Regression ##\n",
    "In this section of this project, I am going to predict **Individual Rate** and **Individual Tobacco Rate** using regression. Before we start working on the regression model let's check how  these two target variables have been trending since the inception of Healthcare Insurance Marketplace or Exchange in year 2014."
   ]
  },
  {
   "cell_type": "code",
   "execution_count": 717,
   "metadata": {},
   "outputs": [
    {
     "name": "stdout",
     "output_type": "stream",
     "text": [
      "<class 'pandas.core.frame.DataFrame'>\n",
      "Int64Index: 10270281 entries, 1398 to 18072591\n",
      "Data columns (total 9 columns):\n",
      "Age                      object\n",
      "BusinessYear             int64\n",
      "IndividualRate           float64\n",
      "IndividualTobaccoRate    float64\n",
      "PlanId                   object\n",
      "RatingAreaId             object\n",
      "StateCode                object\n",
      "Tobacco                  object\n",
      "MetalLevel               object\n",
      "dtypes: float64(2), int64(1), object(6)\n",
      "memory usage: 783.6+ MB\n"
     ]
    }
   ],
   "source": [
    "ml_plan_rates.info()"
   ]
  },
  {
   "cell_type": "code",
   "execution_count": 734,
   "metadata": {},
   "outputs": [],
   "source": [
    "# create new dataframe with only years and two rates: plan_rates_by_years\n",
    "plan_rates_by_years = ml_plan_rates[['BusinessYear','IndividualRate','IndividualTobaccoRate']]"
   ]
  },
  {
   "cell_type": "code",
   "execution_count": 735,
   "metadata": {},
   "outputs": [],
   "source": [
    "# Groupby BusinessYear, as we need to find the average rate year wise.\n",
    "plan_rates_by_years = plan_rates_by_years.groupby(\"BusinessYear\")"
   ]
  },
  {
   "cell_type": "code",
   "execution_count": 736,
   "metadata": {},
   "outputs": [],
   "source": [
    "# calculate the mean of the two rates for each year: averag_plan_rates_yearwise\n",
    "averag_plan_rates_yearwise = plan_rates_by_years.mean()"
   ]
  },
  {
   "cell_type": "code",
   "execution_count": 745,
   "metadata": {},
   "outputs": [
    {
     "data": {
      "text/html": [
       "<div>\n",
       "<style>\n",
       "    .dataframe thead tr:only-child th {\n",
       "        text-align: right;\n",
       "    }\n",
       "\n",
       "    .dataframe thead th {\n",
       "        text-align: left;\n",
       "    }\n",
       "\n",
       "    .dataframe tbody tr th {\n",
       "        vertical-align: top;\n",
       "    }\n",
       "</style>\n",
       "<table border=\"1\" class=\"dataframe\">\n",
       "  <thead>\n",
       "    <tr style=\"text-align: right;\">\n",
       "      <th></th>\n",
       "      <th>IndividualRate</th>\n",
       "      <th>IndividualTobaccoRate</th>\n",
       "    </tr>\n",
       "    <tr>\n",
       "      <th>BusinessYear</th>\n",
       "      <th></th>\n",
       "      <th></th>\n",
       "    </tr>\n",
       "  </thead>\n",
       "  <tbody>\n",
       "    <tr>\n",
       "      <th>2014</th>\n",
       "      <td>452.572059</td>\n",
       "      <td>559.038110</td>\n",
       "    </tr>\n",
       "    <tr>\n",
       "      <th>2015</th>\n",
       "      <td>467.784105</td>\n",
       "      <td>525.099584</td>\n",
       "    </tr>\n",
       "    <tr>\n",
       "      <th>2016</th>\n",
       "      <td>494.222201</td>\n",
       "      <td>546.544725</td>\n",
       "    </tr>\n",
       "    <tr>\n",
       "      <th>2017</th>\n",
       "      <td>546.953067</td>\n",
       "      <td>614.844157</td>\n",
       "    </tr>\n",
       "    <tr>\n",
       "      <th>2018</th>\n",
       "      <td>607.575814</td>\n",
       "      <td>740.114261</td>\n",
       "    </tr>\n",
       "  </tbody>\n",
       "</table>\n",
       "</div>"
      ],
      "text/plain": [
       "              IndividualRate  IndividualTobaccoRate\n",
       "BusinessYear                                       \n",
       "2014              452.572059             559.038110\n",
       "2015              467.784105             525.099584\n",
       "2016              494.222201             546.544725\n",
       "2017              546.953067             614.844157\n",
       "2018              607.575814             740.114261"
      ]
     },
     "execution_count": 745,
     "metadata": {},
     "output_type": "execute_result"
    }
   ],
   "source": [
    "# unstack the groupby dataframe for better table like display.\n",
    "averag_plan_rates_yearwise.unstack()\n",
    "\n",
    "# print the dataframe.\n",
    "averag_plan_rates_yearwise"
   ]
  },
  {
   "cell_type": "code",
   "execution_count": 746,
   "metadata": {},
   "outputs": [
    {
     "data": {
      "image/png": "[encoded data removed]",
      "text/plain": [
       "<matplotlib.figure.Figure at 0x1304e6978>"
      ]
     },
     "metadata": {},
     "output_type": "display_data"
    }
   ],
   "source": [
    "# Plot the above dataframe\n",
    "averag_plan_rates_yearwise.plot(figsize=(15, 6), fontsize=\"large\")\n",
    "plt.title('Average Individual and Individual Tobacco Rate', fontsize=\"large\")\n",
    "plt.xlabel(\"Years\", fontsize=\"large\")\n",
    "plt.ylabel(\"Yearly Rates($)\", fontsize=\"large\")\n",
    "plt.legend(fontsize=\"large\")\n",
    "plt.show()"
   ]
  },
  {
   "cell_type": "markdown",
   "metadata": {},
   "source": [
    "We can see above that the individual rates has been increasing since its inception but. The increase in rate is also getting bigger every year. But the same is not true for the Individual Tobacco Rate. The second year of exchange saw a fall in individual tobacco rate but again started increasing every year and last year the incease in rate is very large.<br>"
   ]
  },
  {
   "cell_type": "markdown",
   "metadata": {},
   "source": [
    "### Lets start with individual monthly rate prediction. ###\n",
    "We will create two dataframes one for the target variables (**IndividualRate** and **IndividualTobaccoRate**) and other for dependent variables only. In this case depended variables are **Age, RatingAreaId, Tobacco and MetalLevel.** "
   ]
  },
  {
   "cell_type": "code",
   "execution_count": 751,
   "metadata": {},
   "outputs": [
    {
     "data": {
      "text/plain": [
       "Age                      False\n",
       "BusinessYear             False\n",
       "IndividualRate           False\n",
       "IndividualTobaccoRate     True\n",
       "PlanId                   False\n",
       "RatingAreaId             False\n",
       "StateCode                False\n",
       "Tobacco                  False\n",
       "MetalLevel               False\n",
       "dtype: bool"
      ]
     },
     "execution_count": 751,
     "metadata": {},
     "output_type": "execute_result"
    }
   ],
   "source": [
    "# first check for the nan values if any in the dataframe.\n",
    "ml_plan_rates.isnull().any(axis=0)"
   ]
  },
  {
   "cell_type": "code",
   "execution_count": 752,
   "metadata": {},
   "outputs": [],
   "source": [
    "# drop all the rows with nan values. There is only one column having nan values i.e \n",
    "# IndividualTobaccoRate\n",
    "ml_plan_rates.dropna(inplace=True)"
   ]
  },
  {
   "cell_type": "code",
   "execution_count": 754,
   "metadata": {},
   "outputs": [
    {
     "data": {
      "text/plain": [
       "Age                      False\n",
       "BusinessYear             False\n",
       "IndividualRate           False\n",
       "IndividualTobaccoRate    False\n",
       "PlanId                   False\n",
       "RatingAreaId             False\n",
       "StateCode                False\n",
       "Tobacco                  False\n",
       "MetalLevel               False\n",
       "dtype: bool"
      ]
     },
     "execution_count": 754,
     "metadata": {},
     "output_type": "execute_result"
    }
   ],
   "source": [
    "# just to make sure that there is no nan value.\n",
    "ml_plan_rates.isnull().any(axis=0)"
   ]
  },
  {
   "cell_type": "code",
   "execution_count": 756,
   "metadata": {},
   "outputs": [
    {
     "name": "stdout",
     "output_type": "stream",
     "text": [
      "<class 'pandas.core.frame.DataFrame'>\n",
      "Int64Index: 6111323 entries, 14551 to 18072591\n",
      "Data columns (total 9 columns):\n",
      "Age                      object\n",
      "BusinessYear             int64\n",
      "IndividualRate           float64\n",
      "IndividualTobaccoRate    float64\n",
      "PlanId                   object\n",
      "RatingAreaId             object\n",
      "StateCode                object\n",
      "Tobacco                  object\n",
      "MetalLevel               object\n",
      "dtypes: float64(2), int64(1), object(6)\n",
      "memory usage: 466.3+ MB\n"
     ]
    }
   ],
   "source": [
    "# Lets have a look of the dataframe we have ml_plan_rates\n",
    "ml_plan_rates.info()"
   ]
  },
  {
   "cell_type": "markdown",
   "metadata": {},
   "source": [
    "As we can see that all the independent variable are of type object. We need to convert them into numeric columns."
   ]
  },
  {
   "cell_type": "markdown",
   "metadata": {},
   "source": [
    "**Lets start with Age and RatingAreaId columns.**<br>\n",
    "Age and RatingAreaId column has the similar type of data formatting to be done. Remove all the characters and then convert them to numbers."
   ]
  },
  {
   "cell_type": "code",
   "execution_count": 757,
   "metadata": {},
   "outputs": [],
   "source": [
    "# replace 0-20 and 65 and over with 020 and 65 respectively.\n",
    "ml_plan_rates['Age'] = ml_plan_rates['Age'].replace(['0-20','65 and over'], ['020','65'])"
   ]
  },
  {
   "cell_type": "code",
   "execution_count": 758,
   "metadata": {},
   "outputs": [
    {
     "data": {
      "text/plain": [
       "array(['020', '21', '22', '23', '24', '25', '26', '27', '28', '29', '30',\n",
       "       '31', '32', '33', '34', '35', '36', '37', '38', '39', '40', '41',\n",
       "       '42', '43', '44', '45', '46', '47', '48', '49', '50', '51', '52',\n",
       "       '53', '54', '55', '56', '57', '58', '59', '60', '61', '62', '63',\n",
       "       '64', '65'], dtype=object)"
      ]
     },
     "execution_count": 758,
     "metadata": {},
     "output_type": "execute_result"
    }
   ],
   "source": [
    "# check Age column values and make sure that they are only in numbers but within inverted comma.\n",
    "ml_plan_rates.Age.unique()"
   ]
  },
  {
   "cell_type": "code",
   "execution_count": 759,
   "metadata": {},
   "outputs": [
    {
     "data": {
      "text/plain": [
       "array(['Rating Area 3', 'Rating Area 9', 'Rating Area 5', 'Rating Area 1',\n",
       "       'Rating Area 2', 'Rating Area 4', 'Rating Area 6', 'Rating Area 7',\n",
       "       'Rating Area 8', 'Rating Area 10', 'Rating Area 11',\n",
       "       'Rating Area 12', 'Rating Area 13', 'Rating Area 32',\n",
       "       'Rating Area 33', 'Rating Area 34', 'Rating Area 35',\n",
       "       'Rating Area 36', 'Rating Area 37', 'Rating Area 38',\n",
       "       'Rating Area 39', 'Rating Area 40', 'Rating Area 41',\n",
       "       'Rating Area 42', 'Rating Area 43', 'Rating Area 44',\n",
       "       'Rating Area 45', 'Rating Area 46', 'Rating Area 47',\n",
       "       'Rating Area 48', 'Rating Area 49', 'Rating Area 50',\n",
       "       'Rating Area 51', 'Rating Area 52', 'Rating Area 53',\n",
       "       'Rating Area 54', 'Rating Area 55', 'Rating Area 56',\n",
       "       'Rating Area 57', 'Rating Area 58', 'Rating Area 59',\n",
       "       'Rating Area 60', 'Rating Area 61', 'Rating Area 62',\n",
       "       'Rating Area 63', 'Rating Area 64', 'Rating Area 65',\n",
       "       'Rating Area 66', 'Rating Area 67', 'Rating Area 14',\n",
       "       'Rating Area 15', 'Rating Area 16', 'Rating Area 17',\n",
       "       'Rating Area 18', 'Rating Area 19', 'Rating Area 20',\n",
       "       'Rating Area 21', 'Rating Area 22', 'Rating Area 23',\n",
       "       'Rating Area 24', 'Rating Area 25', 'Rating Area 26',\n",
       "       'Rating Area 27', 'Rating Area 28', 'Rating Area 29',\n",
       "       'Rating Area 30', 'Rating Area 31'], dtype=object)"
      ]
     },
     "execution_count": 759,
     "metadata": {},
     "output_type": "execute_result"
    }
   ],
   "source": [
    "# now check the unique values of RatingAreaId column\n",
    "ml_plan_rates.RatingAreaId.unique()"
   ]
  },
  {
   "cell_type": "code",
   "execution_count": 760,
   "metadata": {},
   "outputs": [],
   "source": [
    "# get sub string of the numerical values only.\n",
    "ml_plan_rates.RatingAreaId = ml_plan_rates.RatingAreaId.str[12:]"
   ]
  },
  {
   "cell_type": "code",
   "execution_count": 761,
   "metadata": {},
   "outputs": [
    {
     "data": {
      "text/plain": [
       "array(['3', '9', '5', '1', '2', '4', '6', '7', '8', '10', '11', '12', '13',\n",
       "       '32', '33', '34', '35', '36', '37', '38', '39', '40', '41', '42',\n",
       "       '43', '44', '45', '46', '47', '48', '49', '50', '51', '52', '53',\n",
       "       '54', '55', '56', '57', '58', '59', '60', '61', '62', '63', '64',\n",
       "       '65', '66', '67', '14', '15', '16', '17', '18', '19', '20', '21',\n",
       "       '22', '23', '24', '25', '26', '27', '28', '29', '30', '31'], dtype=object)"
      ]
     },
     "execution_count": 761,
     "metadata": {},
     "output_type": "execute_result"
    }
   ],
   "source": [
    "# check that the substrings are correct.\n",
    "ml_plan_rates.RatingAreaId.unique()"
   ]
  },
  {
   "cell_type": "code",
   "execution_count": 763,
   "metadata": {},
   "outputs": [],
   "source": [
    "# converting Age and RatingAreaId columns from object type to numeric type: ml_cols_tobe_num\n",
    "ml_cols_tobe_num = ['Age','RatingAreaId']\n",
    "ml_plan_rates[ml_cols_tobe_num] = ml_plan_rates[ml_cols_tobe_num].apply(pd.to_numeric)"
   ]
  },
  {
   "cell_type": "markdown",
   "metadata": {},
   "source": [
    "Now let's change the **Tobacco** column to binary variable where 0 means \"No Preference\" and 1 means \"Tobacco User/Non-Tobacco User\"."
   ]
  },
  {
   "cell_type": "code",
   "execution_count": 764,
   "metadata": {},
   "outputs": [],
   "source": [
    "# we know that the Tobacco column has only two kind of values: No Preference and\n",
    "# Tobacco User/Non-Tobacco User. We will covert these into 0 and 1 value.\n",
    "ml_plan_rates['Tobacco'] = ml_plan_rates['Tobacco'].replace({'No Preference':0,\n",
    "                                                          'Tobacco User/Non-Tobacco User':1})"
   ]
  },
  {
   "cell_type": "code",
   "execution_count": 765,
   "metadata": {},
   "outputs": [
    {
     "data": {
      "text/plain": [
       "array([1, 0])"
      ]
     },
     "execution_count": 765,
     "metadata": {},
     "output_type": "execute_result"
    }
   ],
   "source": [
    "# Just to make sure that the Tobacco column has only the values we want.\n",
    "ml_plan_rates['Tobacco'].unique()"
   ]
  },
  {
   "cell_type": "code",
   "execution_count": 766,
   "metadata": {},
   "outputs": [
    {
     "name": "stdout",
     "output_type": "stream",
     "text": [
      "<class 'pandas.core.frame.DataFrame'>\n",
      "Int64Index: 6111323 entries, 14551 to 18072591\n",
      "Data columns (total 9 columns):\n",
      "Age                      int64\n",
      "BusinessYear             int64\n",
      "IndividualRate           float64\n",
      "IndividualTobaccoRate    float64\n",
      "PlanId                   object\n",
      "RatingAreaId             int64\n",
      "StateCode                object\n",
      "Tobacco                  int64\n",
      "MetalLevel               object\n",
      "dtypes: float64(2), int64(4), object(3)\n",
      "memory usage: 466.3+ MB\n"
     ]
    }
   ],
   "source": [
    "# check datatype of the columns Age and RatingAreaId\n",
    "ml_plan_rates.info()"
   ]
  },
  {
   "cell_type": "code",
   "execution_count": 769,
   "metadata": {},
   "outputs": [],
   "source": [
    "# Lets save this intermediate dataset as csv file to the hard drive.\n",
    "ml_plan_rates.to_csv('ml_plan_rates_Fully_formated.csv')"
   ]
  },
  {
   "cell_type": "markdown",
   "metadata": {},
   "source": [
    "Let's deal with MetalLevel column. We need to change the data type of the values from object to numeric.<br>\n",
    "Lets try **OneHotEncoder** for metal level to do that, we may want to seperate the data from year 2014 and 2015 as training data and then 2016 as the test data. Otherwise all the object data type in the dataframe will have the numerical values, like PlanId, StateCode. These two columns are not required at this moment and can be used if I want to have statewise data or year wise.<br>\n",
    "<br>\n",
    "Now let's divide the entire dataframe into training and test dataset. Dataset from year 2014 to 2017 as **Training** data and data from year 2018 as **Test** data."
   ]
  },
  {
   "cell_type": "code",
   "execution_count": 772,
   "metadata": {},
   "outputs": [],
   "source": [
    "# get the data from year 2014 to 2017: year_14to17\n",
    "year_14to17 = ml_plan_rates[ml_plan_rates.BusinessYear < 2018]"
   ]
  },
  {
   "cell_type": "code",
   "execution_count": 774,
   "metadata": {},
   "outputs": [],
   "source": [
    "# get only the column which will be used as features in the regression.\n",
    "all_regression_columns = year_14to17[['Age','RatingAreaId','Tobacco',\n",
    "                                       'MetalLevel','IndividualRate', 'IndividualTobaccoRate']]"
   ]
  },
  {
   "cell_type": "code",
   "execution_count": 776,
   "metadata": {},
   "outputs": [
    {
     "name": "stdout",
     "output_type": "stream",
     "text": [
      "<class 'pandas.core.frame.DataFrame'>\n",
      "Int64Index: 5654319 entries, 14551 to 15775490\n",
      "Data columns (total 6 columns):\n",
      "Age                      int64\n",
      "RatingAreaId             int64\n",
      "Tobacco                  int64\n",
      "MetalLevel               object\n",
      "IndividualRate           float64\n",
      "IndividualTobaccoRate    float64\n",
      "dtypes: float64(2), int64(3), object(1)\n",
      "memory usage: 302.0+ MB\n"
     ]
    }
   ],
   "source": [
    "# check if we have only the columns to be used in the regression.\n",
    "all_regression_columns.info()"
   ]
  },
  {
   "cell_type": "markdown",
   "metadata": {},
   "source": [
    "MetalLevel column is the only column which object type value. We will use OneHotEncoder for this column to change it into numberical values which will be used in prediction calculation. This dataframe will be my **training data**."
   ]
  },
  {
   "cell_type": "code",
   "execution_count": 780,
   "metadata": {},
   "outputs": [
    {
     "data": {
      "text/plain": [
       "Index(['Age', 'RatingAreaId', 'Tobacco', 'IndividualRate',\n",
       "       'IndividualTobaccoRate', 'MetalLevel_Bronze', 'MetalLevel_Catastrophic',\n",
       "       'MetalLevel_Expanded Bronze', 'MetalLevel_Gold', 'MetalLevel_Platinum',\n",
       "       'MetalLevel_Silver'],\n",
       "      dtype='object')"
      ]
     },
     "execution_count": 780,
     "metadata": {},
     "output_type": "execute_result"
    }
   ],
   "source": [
    "# use OneHotEncoder on this dataset to make it numerical categorical dataset: train_df\n",
    "train_df = pd.get_dummies(all_regression_columns)\n",
    "train_df.columns"
   ]
  },
  {
   "cell_type": "code",
   "execution_count": 781,
   "metadata": {},
   "outputs": [],
   "source": [
    "# getting all the independent variables in one dataframe: train_features\n",
    "train_features = train_df[['Age', 'RatingAreaId', 'Tobacco', 'MetalLevel_Bronze',\n",
    "                           'MetalLevel_Catastrophic', 'MetalLevel_Expanded Bronze',\n",
    "                           'MetalLevel_Gold', 'MetalLevel_Platinum', 'MetalLevel_Silver']]"
   ]
  },
  {
   "cell_type": "markdown",
   "metadata": {},
   "source": [
    "**Target Variables** for training dataset."
   ]
  },
  {
   "cell_type": "code",
   "execution_count": 790,
   "metadata": {},
   "outputs": [],
   "source": [
    "# get all the target variables into one dataframe: train_target\n",
    "train_target = train_df[['IndividualRate', 'IndividualTobaccoRate']]"
   ]
  },
  {
   "cell_type": "code",
   "execution_count": 791,
   "metadata": {},
   "outputs": [
    {
     "name": "stdout",
     "output_type": "stream",
     "text": [
      "<class 'pandas.core.frame.DataFrame'>\n",
      "Int64Index: 5654319 entries, 14551 to 15775490\n",
      "Data columns (total 2 columns):\n",
      "IndividualRate           float64\n",
      "IndividualTobaccoRate    float64\n",
      "dtypes: float64(2)\n",
      "memory usage: 129.4 MB\n"
     ]
    }
   ],
   "source": [
    "# Make sure the dataframe has the same number of rows as in the train_df\n",
    "train_target.info()"
   ]
  },
  {
   "cell_type": "markdown",
   "metadata": {},
   "source": [
    "Now let's get **Test Data** into another datframe. Test data will be data from year 2018."
   ]
  },
  {
   "cell_type": "code",
   "execution_count": 784,
   "metadata": {},
   "outputs": [],
   "source": [
    "# get the data from year 2014 to 2017: year_18\n",
    "year_18 = ml_plan_rates[ml_plan_rates.BusinessYear == 2018]"
   ]
  },
  {
   "cell_type": "code",
   "execution_count": 785,
   "metadata": {},
   "outputs": [],
   "source": [
    "# get only the column which will be used as features in the regression.\n",
    "all_regression_columns_test = year_18[['Age','RatingAreaId','Tobacco',\n",
    "                                       'MetalLevel','IndividualRate', 'IndividualTobaccoRate']]"
   ]
  },
  {
   "cell_type": "code",
   "execution_count": 786,
   "metadata": {},
   "outputs": [
    {
     "name": "stdout",
     "output_type": "stream",
     "text": [
      "<class 'pandas.core.frame.DataFrame'>\n",
      "Int64Index: 457004 entries, 15825139 to 18072591\n",
      "Data columns (total 6 columns):\n",
      "Age                      457004 non-null int64\n",
      "RatingAreaId             457004 non-null int64\n",
      "Tobacco                  457004 non-null int64\n",
      "MetalLevel               457004 non-null object\n",
      "IndividualRate           457004 non-null float64\n",
      "IndividualTobaccoRate    457004 non-null float64\n",
      "dtypes: float64(2), int64(3), object(1)\n",
      "memory usage: 24.4+ MB\n"
     ]
    }
   ],
   "source": [
    "# check if we have only the columns to be used in the regression.\n",
    "all_regression_columns_test.info()"
   ]
  },
  {
   "cell_type": "markdown",
   "metadata": {},
   "source": [
    "MetalLevel column is the only column which object type value. We will use OneHotEncoder for this column to change it into numberical values which will be used in prediction calculation. This dataframe will be my **test data**."
   ]
  },
  {
   "cell_type": "code",
   "execution_count": 787,
   "metadata": {},
   "outputs": [
    {
     "data": {
      "text/plain": [
       "Index(['Age', 'RatingAreaId', 'Tobacco', 'IndividualRate',\n",
       "       'IndividualTobaccoRate', 'MetalLevel_Bronze', 'MetalLevel_Catastrophic',\n",
       "       'MetalLevel_Expanded Bronze', 'MetalLevel_Gold', 'MetalLevel_Platinum',\n",
       "       'MetalLevel_Silver'],\n",
       "      dtype='object')"
      ]
     },
     "execution_count": 787,
     "metadata": {},
     "output_type": "execute_result"
    }
   ],
   "source": [
    "# use OneHotEncoder on this dataset to make it numerical categorical dataset: test_df\n",
    "test_df = pd.get_dummies(all_regression_columns_test)\n",
    "test_df.columns"
   ]
  },
  {
   "cell_type": "code",
   "execution_count": 788,
   "metadata": {},
   "outputs": [],
   "source": [
    "# getting all the independent variables in one dataframe: test_features\n",
    "test_features = test_df[['Age', 'RatingAreaId', 'Tobacco', 'MetalLevel_Bronze',\n",
    "                           'MetalLevel_Catastrophic', 'MetalLevel_Expanded Bronze',\n",
    "                           'MetalLevel_Gold', 'MetalLevel_Platinum', 'MetalLevel_Silver']]"
   ]
  },
  {
   "cell_type": "code",
   "execution_count": 789,
   "metadata": {},
   "outputs": [
    {
     "name": "stdout",
     "output_type": "stream",
     "text": [
      "<class 'pandas.core.frame.DataFrame'>\n",
      "Int64Index: 457004 entries, 15825139 to 18072591\n",
      "Data columns (total 9 columns):\n",
      "Age                           457004 non-null int64\n",
      "RatingAreaId                  457004 non-null int64\n",
      "Tobacco                       457004 non-null int64\n",
      "MetalLevel_Bronze             457004 non-null uint8\n",
      "MetalLevel_Catastrophic       457004 non-null uint8\n",
      "MetalLevel_Expanded Bronze    457004 non-null uint8\n",
      "MetalLevel_Gold               457004 non-null uint8\n",
      "MetalLevel_Platinum           457004 non-null uint8\n",
      "MetalLevel_Silver             457004 non-null uint8\n",
      "dtypes: int64(3), uint8(6)\n",
      "memory usage: 16.6 MB\n"
     ]
    }
   ],
   "source": [
    "test_features.info()"
   ]
  },
  {
   "cell_type": "markdown",
   "metadata": {},
   "source": [
    "**Target Variables** for training dataset."
   ]
  },
  {
   "cell_type": "code",
   "execution_count": 794,
   "metadata": {},
   "outputs": [],
   "source": [
    "# get all the target variables into one dataframe: test_target\n",
    "test_target = test_df[['IndividualRate', 'IndividualTobaccoRate']]"
   ]
  },
  {
   "cell_type": "code",
   "execution_count": 795,
   "metadata": {},
   "outputs": [
    {
     "name": "stdout",
     "output_type": "stream",
     "text": [
      "<class 'pandas.core.frame.DataFrame'>\n",
      "Int64Index: 457004 entries, 15825139 to 18072591\n",
      "Data columns (total 2 columns):\n",
      "IndividualRate           457004 non-null float64\n",
      "IndividualTobaccoRate    457004 non-null float64\n",
      "dtypes: float64(2)\n",
      "memory usage: 10.5 MB\n"
     ]
    }
   ],
   "source": [
    "# make sure we have same number of rows as in the test_df\n",
    "test_target.info()"
   ]
  },
  {
   "cell_type": "markdown",
   "metadata": {},
   "source": [
    "### Regression Anaylysis ###\n",
    "**1. Ordinary Least Square(OLS)** method: For Individual Rate"
   ]
  },
  {
   "cell_type": "code",
   "execution_count": 797,
   "metadata": {},
   "outputs": [],
   "source": [
    "# Import regression modules\n",
    "import statsmodels.api as sm\n",
    "from statsmodels.formula.api import OLS"
   ]
  },
  {
   "cell_type": "code",
   "execution_count": 798,
   "metadata": {},
   "outputs": [
    {
     "name": "stdout",
     "output_type": "stream",
     "text": [
      "                            OLS Regression Results                            \n",
      "==============================================================================\n",
      "Dep. Variable:         IndividualRate   R-squared:                       0.640\n",
      "Model:                            OLS   Adj. R-squared:                  0.640\n",
      "Method:                 Least Squares   F-statistic:                 1.257e+06\n",
      "Date:                Thu, 22 Feb 2018   Prob (F-statistic):               0.00\n",
      "Time:                        02:29:24   Log-Likelihood:            -3.6078e+07\n",
      "No. Observations:             5654319   AIC:                         7.216e+07\n",
      "Df Residuals:                 5654310   BIC:                         7.216e+07\n",
      "Df Model:                           8                                         \n",
      "Covariance Type:            nonrobust                                         \n",
      "==============================================================================================\n",
      "                                 coef    std err          t      P>|t|      [0.025      0.975]\n",
      "----------------------------------------------------------------------------------------------\n",
      "Age                           13.1524      0.005   2906.992      0.000      13.144      13.161\n",
      "RatingAreaId                   0.3916      0.004     96.750      0.000       0.384       0.399\n",
      "Tobacco                      -25.7513      0.704    -36.603      0.000     -27.130     -24.372\n",
      "MetalLevel_Bronze           -160.8049      0.747   -215.408      0.000    -162.268    -159.342\n",
      "MetalLevel_Catastrophic     -238.0645      0.804   -295.939      0.000    -239.641    -236.488\n",
      "MetalLevel_Expanded Bronze  -132.2627      0.915   -144.599      0.000    -134.055    -130.470\n",
      "MetalLevel_Gold                1.9395      0.738      2.630      0.009       0.494       3.385\n",
      "MetalLevel_Platinum           73.3229      0.780     94.037      0.000      71.795      74.851\n",
      "MetalLevel_Silver            -82.2257      0.737   -111.521      0.000     -83.671     -80.781\n",
      "==============================================================================\n",
      "Omnibus:                  6768826.974   Durbin-Watson:                   0.053\n",
      "Prob(Omnibus):                  0.000   Jarque-Bera (JB):       3147937538.341\n",
      "Skew:                           5.918   Prob(JB):                         0.00\n",
      "Kurtosis:                     117.985   Cond. No.                     1.51e+03\n",
      "==============================================================================\n",
      "\n",
      "Warnings:\n",
      "[1] Standard Errors assume that the covariance matrix of the errors is correctly specified.\n",
      "[2] The condition number is large, 1.51e+03. This might indicate that there are\n",
      "strong multicollinearity or other numerical problems.\n"
     ]
    }
   ],
   "source": [
    "# initiate and fit the ols model: m\n",
    "m = sm.OLS(train_target[['IndividualRate']], train_features).fit()\n",
    "\n",
    "# predict using model m\n",
    "prediction = m.predict(test_features)\n",
    "\n",
    "# print summary.\n",
    "print(m.summary())"
   ]
  },
  {
   "cell_type": "markdown",
   "metadata": {},
   "source": [
    "The table in the middle is the one we need to concern about. All the p values are 0 except MetalLevel_Gold which is 0.009 which is smaller than 0.05.<br>\n",
    "**R-Squared value: 0.640** which means there this model is **64%** accurate."
   ]
  },
  {
   "cell_type": "markdown",
   "metadata": {},
   "source": [
    "**2.Linear Regression in sklearn:** with the same training and test data for **Individual Rate**"
   ]
  },
  {
   "cell_type": "code",
   "execution_count": 799,
   "metadata": {},
   "outputs": [
    {
     "data": {
      "text/plain": [
       "LinearRegression(copy_X=True, fit_intercept=True, n_jobs=1, normalize=False)"
      ]
     },
     "execution_count": 799,
     "metadata": {},
     "output_type": "execute_result"
    }
   ],
   "source": [
    "# importing required \n",
    "from sklearn.linear_model import LinearRegression\n",
    "from sklearn.metrics import mean_squared_error, r2_score\n",
    "\n",
    "# This creates a LinearRegression object: lm\n",
    "lm = LinearRegression()\n",
    "lm"
   ]
  },
  {
   "cell_type": "code",
   "execution_count": 800,
   "metadata": {},
   "outputs": [
    {
     "data": {
      "text/plain": [
       "LinearRegression(copy_X=True, fit_intercept=True, n_jobs=1, normalize=False)"
      ]
     },
     "execution_count": 800,
     "metadata": {},
     "output_type": "execute_result"
    }
   ],
   "source": [
    "# fit the linear model\n",
    "lm.fit(train_features, train_target.IndividualRate)"
   ]
  },
  {
   "cell_type": "code",
   "execution_count": 801,
   "metadata": {},
   "outputs": [
    {
     "name": "stdout",
     "output_type": "stream",
     "text": [
      "Estimated intercept coefficient: 297105581056.72845\n"
     ]
    }
   ],
   "source": [
    "# print the intercept coefficient.\n",
    "print('Estimated intercept coefficient: {}'.format(lm.intercept_))"
   ]
  },
  {
   "cell_type": "code",
   "execution_count": 802,
   "metadata": {},
   "outputs": [
    {
     "name": "stdout",
     "output_type": "stream",
     "text": [
      "Number of coefficients: 9\n"
     ]
    }
   ],
   "source": [
    "print('Number of coefficients: {}'.format(len(lm.coef_)))"
   ]
  },
  {
   "cell_type": "code",
   "execution_count": 803,
   "metadata": {},
   "outputs": [],
   "source": [
    "y_predict = lm.predict(test_features)"
   ]
  },
  {
   "cell_type": "code",
   "execution_count": 808,
   "metadata": {},
   "outputs": [
    {
     "name": "stdout",
     "output_type": "stream",
     "text": [
      "The score for this model is 64.00%\n"
     ]
    }
   ],
   "source": [
    "# Calculate the score for the accuracy of the model: lm_score\n",
    "lm_score = lm.score(train_features, train_target.IndividualRate)\n",
    "\n",
    "# print the score in percentage format. \n",
    "print('The score for this model is {0:.2f}%' .format(lm_score*100))"
   ]
  },
  {
   "cell_type": "markdown",
   "metadata": {},
   "source": [
    "As we can see above both regression models OLS and Linear model perform the same with score of **64%.** which is not that great."
   ]
  },
  {
   "cell_type": "code",
   "execution_count": 809,
   "metadata": {},
   "outputs": [
    {
     "data": {
      "image/png": "[encoded data removed]",
      "text/plain": [
       "<matplotlib.figure.Figure at 0x13de7cc18>"
      ]
     },
     "metadata": {},
     "output_type": "display_data"
    }
   ],
   "source": [
    "# plot the predicted price to check if the distributio is normal.\n",
    "plt.figure(figsize=(15,10))\n",
    "plt.hist(y_predict)\n",
    "plt.title('Price Prediction')\n",
    "plt.xlabel('Predicted Price')\n",
    "plt.ylabel('Frequency')\n",
    "plt.show()"
   ]
  },
  {
   "cell_type": "markdown",
   "metadata": {},
   "source": [
    "The distribution is near to normal but slightly left skewed."
   ]
  },
  {
   "cell_type": "code",
   "execution_count": 810,
   "metadata": {},
   "outputs": [
    {
     "data": {
      "text/html": [
       "<div>\n",
       "<style>\n",
       "    .dataframe thead tr:only-child th {\n",
       "        text-align: right;\n",
       "    }\n",
       "\n",
       "    .dataframe thead th {\n",
       "        text-align: left;\n",
       "    }\n",
       "\n",
       "    .dataframe tbody tr th {\n",
       "        vertical-align: top;\n",
       "    }\n",
       "</style>\n",
       "<table border=\"1\" class=\"dataframe\">\n",
       "  <thead>\n",
       "    <tr style=\"text-align: right;\">\n",
       "      <th></th>\n",
       "      <th>features</th>\n",
       "      <th>estimatedCoefficients</th>\n",
       "    </tr>\n",
       "  </thead>\n",
       "  <tbody>\n",
       "    <tr>\n",
       "      <th>0</th>\n",
       "      <td>Age</td>\n",
       "      <td>1.315240e+01</td>\n",
       "    </tr>\n",
       "    <tr>\n",
       "      <th>1</th>\n",
       "      <td>RatingAreaId</td>\n",
       "      <td>3.916033e-01</td>\n",
       "    </tr>\n",
       "    <tr>\n",
       "      <th>2</th>\n",
       "      <td>Tobacco</td>\n",
       "      <td>-2.572299e+01</td>\n",
       "    </tr>\n",
       "    <tr>\n",
       "      <th>3</th>\n",
       "      <td>MetalLevel_Bronze</td>\n",
       "      <td>-2.971056e+11</td>\n",
       "    </tr>\n",
       "    <tr>\n",
       "      <th>4</th>\n",
       "      <td>MetalLevel_Catastrophic</td>\n",
       "      <td>-2.971056e+11</td>\n",
       "    </tr>\n",
       "    <tr>\n",
       "      <th>5</th>\n",
       "      <td>MetalLevel_Expanded Bronze</td>\n",
       "      <td>-2.971056e+11</td>\n",
       "    </tr>\n",
       "    <tr>\n",
       "      <th>6</th>\n",
       "      <td>MetalLevel_Gold</td>\n",
       "      <td>-2.971056e+11</td>\n",
       "    </tr>\n",
       "    <tr>\n",
       "      <th>7</th>\n",
       "      <td>MetalLevel_Platinum</td>\n",
       "      <td>-2.971056e+11</td>\n",
       "    </tr>\n",
       "    <tr>\n",
       "      <th>8</th>\n",
       "      <td>MetalLevel_Silver</td>\n",
       "      <td>-2.971056e+11</td>\n",
       "    </tr>\n",
       "  </tbody>\n",
       "</table>\n",
       "</div>"
      ],
      "text/plain": [
       "                     features  estimatedCoefficients\n",
       "0                         Age           1.315240e+01\n",
       "1                RatingAreaId           3.916033e-01\n",
       "2                     Tobacco          -2.572299e+01\n",
       "3           MetalLevel_Bronze          -2.971056e+11\n",
       "4     MetalLevel_Catastrophic          -2.971056e+11\n",
       "5  MetalLevel_Expanded Bronze          -2.971056e+11\n",
       "6             MetalLevel_Gold          -2.971056e+11\n",
       "7         MetalLevel_Platinum          -2.971056e+11\n",
       "8           MetalLevel_Silver          -2.971056e+11"
      ]
     },
     "execution_count": 810,
     "metadata": {},
     "output_type": "execute_result"
    }
   ],
   "source": [
    "# The coefficients\n",
    "pd.DataFrame({'features': train_features.columns, 'estimatedCoefficients': lm.coef_})[\n",
    "    ['features', 'estimatedCoefficients']]"
   ]
  }
 ],
 "metadata": {
  "kernelspec": {
   "display_name": "Python 3",
   "language": "python",
   "name": "python3"
  },
  "language_info": {
   "codemirror_mode": {
    "name": "ipython",
    "version": 3
   },
   "file_extension": ".py",
   "mimetype": "text/x-python",
   "name": "python",
   "nbconvert_exporter": "python",
   "pygments_lexer": "ipython3",
   "version": "3.6.1"
  }
 },
 "nbformat": 4,
 "nbformat_minor": 2
}
